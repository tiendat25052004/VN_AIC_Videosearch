{
 "cells": [
  {
   "cell_type": "code",
   "execution_count": 1,
   "id": "e8f791e3",
   "metadata": {
    "execution": {
     "iopub.execute_input": "2024-09-27T15:37:11.553487Z",
     "iopub.status.busy": "2024-09-27T15:37:11.553047Z",
     "iopub.status.idle": "2024-09-27T15:37:30.394366Z",
     "shell.execute_reply": "2024-09-27T15:37:30.392965Z"
    },
    "papermill": {
     "duration": 18.851246,
     "end_time": "2024-09-27T15:37:30.397344",
     "exception": false,
     "start_time": "2024-09-27T15:37:11.546098",
     "status": "completed"
    },
    "tags": []
   },
   "outputs": [
    {
     "name": "stdout",
     "output_type": "stream",
     "text": [
      "Collecting faiss-cpu\r\n",
      "  Downloading faiss_cpu-1.8.0.post1-cp310-cp310-manylinux_2_17_x86_64.manylinux2014_x86_64.whl.metadata (3.7 kB)\r\n",
      "Requirement already satisfied: numpy<2.0,>=1.0 in /opt/conda/lib/python3.10/site-packages (from faiss-cpu) (1.26.4)\r\n",
      "Requirement already satisfied: packaging in /opt/conda/lib/python3.10/site-packages (from faiss-cpu) (21.3)\r\n",
      "Requirement already satisfied: pyparsing!=3.0.5,>=2.0.2 in /opt/conda/lib/python3.10/site-packages (from packaging->faiss-cpu) (3.1.2)\r\n",
      "Downloading faiss_cpu-1.8.0.post1-cp310-cp310-manylinux_2_17_x86_64.manylinux2014_x86_64.whl (27.0 MB)\r\n",
      "\u001b[2K   \u001b[90m━━━━━━━━━━━━━━━━━━━━━━━━━━━━━━━━━━━━━━━━\u001b[0m \u001b[32m27.0/27.0 MB\u001b[0m \u001b[31m54.1 MB/s\u001b[0m eta \u001b[36m0:00:00\u001b[0m\r\n",
      "\u001b[?25hInstalling collected packages: faiss-cpu\r\n",
      "Successfully installed faiss-cpu-1.8.0.post1\r\n"
     ]
    }
   ],
   "source": [
    "!pip install faiss-cpu"
   ]
  },
  {
   "cell_type": "code",
   "execution_count": 2,
   "id": "3f593e07",
   "metadata": {
    "execution": {
     "iopub.execute_input": "2024-09-27T15:37:30.411563Z",
     "iopub.status.busy": "2024-09-27T15:37:30.411117Z",
     "iopub.status.idle": "2024-09-27T15:37:30.457605Z",
     "shell.execute_reply": "2024-09-27T15:37:30.456429Z"
    },
    "papermill": {
     "duration": 0.056978,
     "end_time": "2024-09-27T15:37:30.460478",
     "exception": false,
     "start_time": "2024-09-27T15:37:30.403500",
     "status": "completed"
    },
    "tags": []
   },
   "outputs": [],
   "source": [
    "import os\n",
    "import glob\n",
    "import faiss\n",
    "import numpy as np\n",
    "from tqdm import tqdm"
   ]
  },
  {
   "cell_type": "markdown",
   "id": "31fbaea0",
   "metadata": {
    "papermill": {
     "duration": 0.00558,
     "end_time": "2024-09-27T15:37:30.471784",
     "exception": false,
     "start_time": "2024-09-27T15:37:30.466204",
     "status": "completed"
    },
    "tags": []
   },
   "source": [
    "# Clip (open_ai)"
   ]
  },
  {
   "cell_type": "code",
   "execution_count": 3,
   "id": "04fcb619",
   "metadata": {
    "execution": {
     "iopub.execute_input": "2024-09-27T15:37:30.484956Z",
     "iopub.status.busy": "2024-09-27T15:37:30.484503Z",
     "iopub.status.idle": "2024-09-27T15:38:01.742181Z",
     "shell.execute_reply": "2024-09-27T15:38:01.741178Z"
    },
    "papermill": {
     "duration": 31.2673,
     "end_time": "2024-09-27T15:38:01.744769",
     "exception": false,
     "start_time": "2024-09-27T15:37:30.477469",
     "status": "completed"
    },
    "tags": []
   },
   "outputs": [
    {
     "name": "stderr",
     "output_type": "stream",
     "text": [
      "  0%|          | 0/4 [00:00<?, ?it/s]\n",
      "  0%|          | 0/12 [00:00<?, ?it/s]\u001b[A"
     ]
    },
    {
     "name": "stdout",
     "output_type": "stream",
     "text": [
      "L01\n"
     ]
    },
    {
     "name": "stderr",
     "output_type": "stream",
     "text": [
      "\n",
      "\n",
      "  0%|          | 0/31 [00:00<?, ?it/s]\u001b[A\u001b[A\n",
      "\n",
      " 10%|▉         | 3/31 [00:00<00:01, 21.75it/s]\u001b[A\u001b[A"
     ]
    },
    {
     "name": "stdout",
     "output_type": "stream",
     "text": [
      "(1244, 512)\n",
      "(948, 512)\n",
      "(1320, 512)\n",
      "(944, 512)\n",
      "(1244, 512)\n"
     ]
    },
    {
     "name": "stderr",
     "output_type": "stream",
     "text": [
      "\n",
      "\n",
      " 19%|█▉        | 6/31 [00:00<00:01, 21.70it/s]\u001b[A\u001b[A\n",
      "\n",
      " 29%|██▉       | 9/31 [00:00<00:01, 21.82it/s]\u001b[A\u001b[A"
     ]
    },
    {
     "name": "stdout",
     "output_type": "stream",
     "text": [
      "(1120, 512)\n",
      "(1128, 512)\n",
      "(1160, 512)\n",
      "(1268, 512)\n",
      "(1296, 512)\n"
     ]
    },
    {
     "name": "stderr",
     "output_type": "stream",
     "text": [
      "\n",
      "\n",
      " 39%|███▊      | 12/31 [00:00<00:00, 21.18it/s]\u001b[A\u001b[A"
     ]
    },
    {
     "name": "stdout",
     "output_type": "stream",
     "text": [
      "(1328, 512)\n",
      "(1388, 512)\n",
      "(1328, 512)\n",
      "(888, 512)\n"
     ]
    },
    {
     "name": "stderr",
     "output_type": "stream",
     "text": [
      "\n",
      "\n",
      " 48%|████▊     | 15/31 [00:00<00:00, 20.57it/s]\u001b[A\u001b[A\n",
      "\n",
      " 58%|█████▊    | 18/31 [00:00<00:00, 21.05it/s]\u001b[A\u001b[A"
     ]
    },
    {
     "name": "stdout",
     "output_type": "stream",
     "text": [
      "(1216, 512)\n",
      "(868, 512)\n",
      "(1262, 512)\n",
      "(1356, 512)\n",
      "(1364, 512)\n"
     ]
    },
    {
     "name": "stderr",
     "output_type": "stream",
     "text": [
      "\n",
      "\n",
      " 68%|██████▊   | 21/31 [00:00<00:00, 20.93it/s]\u001b[A\u001b[A"
     ]
    },
    {
     "name": "stdout",
     "output_type": "stream",
     "text": [
      "(1199, 512)\n",
      "(1288, 512)\n",
      "(1464, 512)\n",
      "(1280, 512)\n"
     ]
    },
    {
     "name": "stderr",
     "output_type": "stream",
     "text": [
      "\n",
      "\n",
      " 77%|███████▋  | 24/31 [00:01<00:00, 20.72it/s]\u001b[A\u001b[A\n",
      "\n",
      " 87%|████████▋ | 27/31 [00:01<00:00, 22.13it/s]\u001b[A\u001b[A"
     ]
    },
    {
     "name": "stdout",
     "output_type": "stream",
     "text": [
      "(1364, 512)\n",
      "(1056, 512)\n",
      "(996, 512)\n",
      "(1296, 512)\n",
      "(1300, 512)\n"
     ]
    },
    {
     "name": "stderr",
     "output_type": "stream",
     "text": [
      "\n",
      "\n",
      "100%|██████████| 31/31 [00:01<00:00, 20.75it/s]\n",
      "\n",
      "  8%|▊         | 1/12 [00:01<00:16,  1.51s/it]\u001b[A"
     ]
    },
    {
     "name": "stdout",
     "output_type": "stream",
     "text": [
      "(936, 512)\n",
      "(1268, 512)\n",
      "(1484, 512)\n",
      "L02\n"
     ]
    },
    {
     "name": "stderr",
     "output_type": "stream",
     "text": [
      "\n",
      "\n",
      "  0%|          | 0/31 [00:00<?, ?it/s]\u001b[A\u001b[A"
     ]
    },
    {
     "name": "stdout",
     "output_type": "stream",
     "text": [
      "(1164, 512)\n",
      "(1268, 512)\n"
     ]
    },
    {
     "name": "stderr",
     "output_type": "stream",
     "text": [
      "\n",
      "\n",
      " 10%|▉         | 3/31 [00:00<00:01, 26.54it/s]\u001b[A\u001b[A"
     ]
    },
    {
     "name": "stdout",
     "output_type": "stream",
     "text": [
      "(1268, 512)\n",
      "(1422, 512)\n",
      "(1272, 512)\n"
     ]
    },
    {
     "name": "stderr",
     "output_type": "stream",
     "text": [
      "\n",
      "\n",
      " 19%|█▉        | 6/31 [00:00<00:01, 21.60it/s]\u001b[A\u001b[A"
     ]
    },
    {
     "name": "stdout",
     "output_type": "stream",
     "text": [
      "(1160, 512)\n",
      "(1244, 512)\n"
     ]
    },
    {
     "name": "stderr",
     "output_type": "stream",
     "text": [
      "\n",
      "\n",
      " 29%|██▉       | 9/31 [00:00<00:01, 21.85it/s]\u001b[A\u001b[A"
     ]
    },
    {
     "name": "stdout",
     "output_type": "stream",
     "text": [
      "(1220, 512)\n",
      "(1232, 512)\n",
      "(1583, 512)\n",
      "(1340, 512)\n",
      "(1128, 512)\n"
     ]
    },
    {
     "name": "stderr",
     "output_type": "stream",
     "text": [
      "\n",
      "\n",
      " 39%|███▊      | 12/31 [00:00<00:00, 21.82it/s]\u001b[A\u001b[A\n",
      "\n",
      " 48%|████▊     | 15/31 [00:00<00:00, 21.84it/s]\u001b[A\u001b[A"
     ]
    },
    {
     "name": "stdout",
     "output_type": "stream",
     "text": [
      "(1316, 512)\n",
      "(1352, 512)\n",
      "(1132, 512)\n",
      "(1040, 512)\n",
      "(1372, 512)\n"
     ]
    },
    {
     "name": "stderr",
     "output_type": "stream",
     "text": [
      "\n",
      "\n",
      " 58%|█████▊    | 18/31 [00:00<00:00, 22.68it/s]\u001b[A\u001b[A"
     ]
    },
    {
     "name": "stdout",
     "output_type": "stream",
     "text": [
      "(1128, 512)\n",
      "(1180, 512)\n",
      "(1032, 512)\n",
      "(1372, 512)\n"
     ]
    },
    {
     "name": "stderr",
     "output_type": "stream",
     "text": [
      "\n",
      "\n",
      " 68%|██████▊   | 21/31 [00:00<00:00, 23.50it/s]\u001b[A\u001b[A"
     ]
    },
    {
     "name": "stdout",
     "output_type": "stream",
     "text": [
      "(1280, 512)\n",
      "(1431, 512)\n",
      "(1092, 512)\n"
     ]
    },
    {
     "name": "stderr",
     "output_type": "stream",
     "text": [
      "\n",
      "\n",
      " 77%|███████▋  | 24/31 [00:01<00:00, 16.85it/s]\u001b[A\u001b[A\n",
      "\n",
      " 87%|████████▋ | 27/31 [00:01<00:00, 17.96it/s]\u001b[A\u001b[A"
     ]
    },
    {
     "name": "stdout",
     "output_type": "stream",
     "text": [
      "(1382, 512)\n",
      "(1532, 512)\n",
      "(1308, 512)\n",
      "(1116, 512)\n",
      "(1268, 512)\n"
     ]
    },
    {
     "name": "stderr",
     "output_type": "stream",
     "text": [
      "\n",
      "\n",
      "100%|██████████| 31/31 [00:01<00:00, 20.11it/s]\n",
      "\n",
      " 17%|█▋        | 2/12 [00:03<00:15,  1.53s/it]\u001b[A"
     ]
    },
    {
     "name": "stdout",
     "output_type": "stream",
     "text": [
      "(1276, 512)\n",
      "(1684, 512)\n",
      "L03\n"
     ]
    },
    {
     "name": "stderr",
     "output_type": "stream",
     "text": [
      "\n",
      "\n",
      "  0%|          | 0/30 [00:00<?, ?it/s]\u001b[A\u001b[A"
     ]
    },
    {
     "name": "stdout",
     "output_type": "stream",
     "text": [
      "(1032, 512)\n",
      "(1408, 512)\n"
     ]
    },
    {
     "name": "stderr",
     "output_type": "stream",
     "text": [
      "\n",
      "\n",
      " 10%|█         | 3/30 [00:00<00:00, 27.61it/s]\u001b[A\u001b[A"
     ]
    },
    {
     "name": "stdout",
     "output_type": "stream",
     "text": [
      "(1208, 512)\n"
     ]
    },
    {
     "name": "stderr",
     "output_type": "stream",
     "text": [
      "\n",
      "\n",
      " 20%|██        | 6/30 [00:00<00:00, 28.51it/s]\u001b[A\u001b[A"
     ]
    },
    {
     "name": "stdout",
     "output_type": "stream",
     "text": [
      "(1088, 512)\n",
      "(1142, 512)\n",
      "(1212, 512)\n",
      "(1075, 512)\n",
      "(1408, 512)\n",
      "(1424, 512)\n"
     ]
    },
    {
     "name": "stderr",
     "output_type": "stream",
     "text": [
      "\n",
      "\n",
      " 30%|███       | 9/30 [00:00<00:00, 24.76it/s]\u001b[A\u001b[A"
     ]
    },
    {
     "name": "stdout",
     "output_type": "stream",
     "text": [
      "(1434, 512)\n",
      "(1108, 512)\n"
     ]
    },
    {
     "name": "stderr",
     "output_type": "stream",
     "text": [
      "\n",
      "\n",
      " 40%|████      | 12/30 [00:00<00:00, 24.99it/s]\u001b[A\u001b[A"
     ]
    },
    {
     "name": "stdout",
     "output_type": "stream",
     "text": [
      "(1176, 512)\n",
      "(1179, 512)\n",
      "(1492, 512)\n"
     ]
    },
    {
     "name": "stderr",
     "output_type": "stream",
     "text": [
      "\n",
      "\n",
      " 50%|█████     | 15/30 [00:00<00:00, 22.25it/s]\u001b[A\u001b[A"
     ]
    },
    {
     "name": "stdout",
     "output_type": "stream",
     "text": [
      "(1384, 512)\n"
     ]
    },
    {
     "name": "stderr",
     "output_type": "stream",
     "text": [
      "\n",
      "\n",
      " 60%|██████    | 18/30 [00:00<00:00, 23.03it/s]\u001b[A\u001b[A"
     ]
    },
    {
     "name": "stdout",
     "output_type": "stream",
     "text": [
      "(1368, 512)\n",
      "(1016, 512)\n",
      "(1060, 512)\n",
      "(1108, 512)\n",
      "(1368, 512)\n"
     ]
    },
    {
     "name": "stderr",
     "output_type": "stream",
     "text": [
      "\n",
      "\n"
     ]
    },
    {
     "name": "stdout",
     "output_type": "stream",
     "text": [
      "(1184, 512)\n"
     ]
    },
    {
     "name": "stderr",
     "output_type": "stream",
     "text": [
      " 70%|███████   | 21/30 [00:00<00:00, 23.39it/s]\u001b[A\u001b[A"
     ]
    },
    {
     "name": "stdout",
     "output_type": "stream",
     "text": [
      "(1084, 512)\n",
      "(1452, 512)\n"
     ]
    },
    {
     "name": "stderr",
     "output_type": "stream",
     "text": [
      "\n",
      "\n",
      " 80%|████████  | 24/30 [00:01<00:00, 23.62it/s]\u001b[A\u001b[A"
     ]
    },
    {
     "name": "stdout",
     "output_type": "stream",
     "text": [
      "(1384, 512)\n",
      "(1348, 512)\n",
      "(1236, 512)\n"
     ]
    },
    {
     "name": "stderr",
     "output_type": "stream",
     "text": [
      "\n",
      "\n",
      " 90%|█████████ | 27/30 [00:01<00:00, 24.12it/s]\u001b[A\u001b[A"
     ]
    },
    {
     "name": "stdout",
     "output_type": "stream",
     "text": [
      "(1176, 512)\n",
      "(1136, 512)\n",
      "(1236, 512)\n"
     ]
    },
    {
     "name": "stderr",
     "output_type": "stream",
     "text": [
      "\n",
      "\n",
      "100%|██████████| 30/30 [00:01<00:00, 24.09it/s]\n",
      "\n",
      " 25%|██▌       | 3/12 [00:04<00:12,  1.41s/it]\u001b[A"
     ]
    },
    {
     "name": "stdout",
     "output_type": "stream",
     "text": [
      "(1252, 512)\n",
      "L04\n"
     ]
    },
    {
     "name": "stderr",
     "output_type": "stream",
     "text": [
      "\n",
      "\n",
      "  0%|          | 0/30 [00:00<?, ?it/s]\u001b[A\u001b[A"
     ]
    },
    {
     "name": "stdout",
     "output_type": "stream",
     "text": [
      "(1432, 512)\n"
     ]
    },
    {
     "name": "stderr",
     "output_type": "stream",
     "text": [
      "\n",
      "\n",
      " 10%|█         | 3/30 [00:00<00:01, 24.84it/s]\u001b[A\u001b[A"
     ]
    },
    {
     "name": "stdout",
     "output_type": "stream",
     "text": [
      "(1472, 512)\n",
      "(1064, 512)\n",
      "(1604, 512)\n",
      "(1412, 512)\n"
     ]
    },
    {
     "name": "stderr",
     "output_type": "stream",
     "text": [
      "\n",
      "\n",
      " 20%|██        | 6/30 [00:00<00:01, 23.44it/s]\u001b[A\u001b[A"
     ]
    },
    {
     "name": "stdout",
     "output_type": "stream",
     "text": [
      "(1020, 512)\n"
     ]
    },
    {
     "name": "stderr",
     "output_type": "stream",
     "text": [
      "\n",
      "\n",
      " 30%|███       | 9/30 [00:00<00:00, 25.18it/s]\u001b[A\u001b[A"
     ]
    },
    {
     "name": "stdout",
     "output_type": "stream",
     "text": [
      "(1140, 512)\n",
      "(1326, 512)\n",
      "(1058, 512)\n",
      "(1280, 512)\n",
      "(1200, 512)\n"
     ]
    },
    {
     "name": "stderr",
     "output_type": "stream",
     "text": [
      "\n",
      "\n",
      " 40%|████      | 12/30 [00:00<00:00, 24.02it/s]\u001b[A\u001b[A"
     ]
    },
    {
     "name": "stdout",
     "output_type": "stream",
     "text": [
      "(1211, 512)\n",
      "(1235, 512)\n",
      "(1472, 512)\n"
     ]
    },
    {
     "name": "stderr",
     "output_type": "stream",
     "text": [
      "\n",
      "\n",
      " 50%|█████     | 15/30 [00:00<00:01, 13.19it/s]\u001b[A\u001b[A\n",
      "\n",
      " 60%|██████    | 18/30 [00:01<00:00, 15.07it/s]\u001b[A\u001b[A"
     ]
    },
    {
     "name": "stdout",
     "output_type": "stream",
     "text": [
      "(1124, 512)\n",
      "(1196, 512)\n",
      "(1308, 512)\n",
      "(1672, 512)\n",
      "(1468, 512)\n"
     ]
    },
    {
     "name": "stderr",
     "output_type": "stream",
     "text": [
      "\n",
      "\n",
      " 67%|██████▋   | 20/30 [00:01<00:00, 16.01it/s]\u001b[A\u001b[A\n",
      "\n",
      " 77%|███████▋  | 23/30 [00:01<00:00, 18.32it/s]\u001b[A\u001b[A"
     ]
    },
    {
     "name": "stdout",
     "output_type": "stream",
     "text": [
      "(1368, 512)\n",
      "(1136, 512)\n",
      "(1412, 512)\n",
      "(1488, 512)\n",
      "(1516, 512)\n",
      "(1132, 512)\n"
     ]
    },
    {
     "name": "stderr",
     "output_type": "stream",
     "text": [
      "\n",
      "\n",
      " 87%|████████▋ | 26/30 [00:01<00:00, 20.38it/s]\u001b[A\u001b[A\n",
      "\n",
      "100%|██████████| 30/30 [00:01<00:00, 19.27it/s]\n",
      "\n",
      " 33%|███▎      | 4/12 [00:05<00:11,  1.47s/it]\u001b[A"
     ]
    },
    {
     "name": "stdout",
     "output_type": "stream",
     "text": [
      "(1248, 512)\n",
      "(1352, 512)\n",
      "(1292, 512)\n",
      "(1260, 512)\n",
      "(1260, 512)\n",
      "L05\n"
     ]
    },
    {
     "name": "stderr",
     "output_type": "stream",
     "text": [
      "\n",
      "\n",
      "  0%|          | 0/31 [00:00<?, ?it/s]\u001b[A\u001b[A\n",
      "\n",
      " 10%|▉         | 3/31 [00:00<00:01, 25.82it/s]\u001b[A\u001b[A"
     ]
    },
    {
     "name": "stdout",
     "output_type": "stream",
     "text": [
      "(1252, 512)\n",
      "(1298, 512)\n",
      "(988, 512)\n",
      "(1348, 512)\n",
      "(1048, 512)\n",
      "(1530, 512)\n"
     ]
    },
    {
     "name": "stderr",
     "output_type": "stream",
     "text": [
      "\n",
      "\n",
      " 19%|█▉        | 6/31 [00:00<00:00, 25.66it/s]\u001b[A\u001b[A\n",
      "\n",
      " 29%|██▉       | 9/31 [00:00<00:00, 25.53it/s]\u001b[A\u001b[A"
     ]
    },
    {
     "name": "stdout",
     "output_type": "stream",
     "text": [
      "(956, 512)\n",
      "(1544, 512)\n",
      "(1195, 512)\n",
      "(1120, 512)\n",
      "(1484, 512)\n",
      "(1212, 512)\n"
     ]
    },
    {
     "name": "stderr",
     "output_type": "stream",
     "text": [
      "\n",
      "\n",
      " 39%|███▊      | 12/31 [00:00<00:00, 25.60it/s]\u001b[A\u001b[A\n",
      "\n",
      " 48%|████▊     | 15/31 [00:00<00:00, 25.99it/s]\u001b[A\u001b[A\n",
      "\n",
      " 58%|█████▊    | 18/31 [00:00<00:00, 26.87it/s]\u001b[A\u001b[A"
     ]
    },
    {
     "name": "stdout",
     "output_type": "stream",
     "text": [
      "(1416, 512)\n",
      "(1240, 512)\n",
      "(1296, 512)\n",
      "(1420, 512)\n",
      "(1168, 512)\n",
      "(1158, 512)\n"
     ]
    },
    {
     "name": "stderr",
     "output_type": "stream",
     "text": [
      "\n",
      "\n",
      " 68%|██████▊   | 21/31 [00:00<00:00, 27.67it/s]\u001b[A\u001b[A\n",
      "\n",
      " 77%|███████▋  | 24/31 [00:00<00:00, 26.23it/s]"
     ]
    },
    {
     "name": "stdout",
     "output_type": "stream",
     "text": [
      "(1228, 512)\n",
      "(1144, 512)\n",
      "(1040, 512)\n",
      "(1524, 512)\n",
      "(1144, 512)\n",
      "(1368, 512)\n"
     ]
    },
    {
     "name": "stderr",
     "output_type": "stream",
     "text": [
      "\u001b[A\u001b[A\n",
      "\n",
      " 87%|████████▋ | 27/31 [00:01<00:00, 27.21it/s]\u001b[A\u001b[A\n",
      "\n",
      " 97%|█████████▋| 30/31 [00:01<00:00, 26.82it/s]\u001b[A\u001b[A"
     ]
    },
    {
     "name": "stdout",
     "output_type": "stream",
     "text": [
      "(1132, 512)\n",
      "(1172, 512)\n",
      "(1156, 512)\n",
      "(1220, 512)\n",
      "(1196, 512)\n",
      "(1308, 512)\n"
     ]
    },
    {
     "name": "stderr",
     "output_type": "stream",
     "text": [
      "100%|██████████| 31/31 [00:01<00:00, 26.53it/s]\n",
      "\n",
      " 42%|████▏     | 5/12 [00:07<00:09,  1.37s/it]\u001b[A"
     ]
    },
    {
     "name": "stdout",
     "output_type": "stream",
     "text": [
      "(1304, 512)\n",
      "L06\n"
     ]
    },
    {
     "name": "stderr",
     "output_type": "stream",
     "text": [
      "\n",
      "\n",
      "  0%|          | 0/31 [00:00<?, ?it/s]\u001b[A\u001b[A\n",
      "\n",
      " 10%|▉         | 3/31 [00:00<00:01, 26.72it/s]\u001b[A\u001b[A"
     ]
    },
    {
     "name": "stdout",
     "output_type": "stream",
     "text": [
      "(1304, 512)\n",
      "(1340, 512)\n",
      "(1346, 512)\n",
      "(1570, 512)\n",
      "(1132, 512)\n"
     ]
    },
    {
     "name": "stderr",
     "output_type": "stream",
     "text": [
      "\n",
      "\n",
      " 19%|█▉        | 6/31 [00:00<00:01, 24.01it/s]\u001b[A\u001b[A"
     ]
    },
    {
     "name": "stdout",
     "output_type": "stream",
     "text": [
      "(1327, 512)\n",
      "(1456, 512)\n",
      "(1500, 512)\n",
      "(1520, 512)\n"
     ]
    },
    {
     "name": "stderr",
     "output_type": "stream",
     "text": [
      "\n",
      "\n",
      " 29%|██▉       | 9/31 [00:00<00:00, 22.61it/s]\u001b[A\u001b[A"
     ]
    },
    {
     "name": "stdout",
     "output_type": "stream",
     "text": [
      "(1344, 512)\n"
     ]
    },
    {
     "name": "stderr",
     "output_type": "stream",
     "text": [
      "\n",
      "\n",
      " 39%|███▊      | 12/31 [00:00<00:00, 23.64it/s]\u001b[A\u001b[A"
     ]
    },
    {
     "name": "stdout",
     "output_type": "stream",
     "text": [
      "(1236, 512)\n",
      "(1574, 512)\n",
      "(1500, 512)\n",
      "(1308, 512)\n"
     ]
    },
    {
     "name": "stderr",
     "output_type": "stream",
     "text": [
      "\n",
      "\n"
     ]
    },
    {
     "name": "stdout",
     "output_type": "stream",
     "text": [
      "(1540, 512)\n"
     ]
    },
    {
     "name": "stderr",
     "output_type": "stream",
     "text": [
      " 48%|████▊     | 15/31 [00:00<00:00, 22.14it/s]\u001b[A\u001b[A\n",
      "\n",
      " 58%|█████▊    | 18/31 [00:00<00:00, 22.92it/s]\u001b[A\u001b[A"
     ]
    },
    {
     "name": "stdout",
     "output_type": "stream",
     "text": [
      "(1488, 512)\n",
      "(1240, 512)\n",
      "(1398, 512)\n",
      "(1320, 512)\n",
      "(1352, 512)\n"
     ]
    },
    {
     "name": "stderr",
     "output_type": "stream",
     "text": [
      "\n",
      "\n",
      " 68%|██████▊   | 21/31 [00:00<00:00, 22.79it/s]\u001b[A\u001b[A"
     ]
    },
    {
     "name": "stdout",
     "output_type": "stream",
     "text": [
      "(1388, 512)\n",
      "(1592, 512)\n",
      "(1492, 512)\n"
     ]
    },
    {
     "name": "stderr",
     "output_type": "stream",
     "text": [
      "\n",
      "\n",
      " 77%|███████▋  | 24/31 [00:01<00:00, 21.37it/s]\u001b[A\u001b[A"
     ]
    },
    {
     "name": "stdout",
     "output_type": "stream",
     "text": [
      "(1336, 512)\n"
     ]
    },
    {
     "name": "stderr",
     "output_type": "stream",
     "text": [
      "\n",
      "\n",
      " 87%|████████▋ | 27/31 [00:01<00:00, 22.85it/s]\u001b[A\u001b[A"
     ]
    },
    {
     "name": "stdout",
     "output_type": "stream",
     "text": [
      "(1352, 512)\n",
      "(1068, 512)\n",
      "(1388, 512)\n",
      "(1560, 512)\n",
      "(1456, 512)\n"
     ]
    },
    {
     "name": "stderr",
     "output_type": "stream",
     "text": [
      "\n",
      "\n",
      "100%|██████████| 31/31 [00:01<00:00, 22.72it/s]\n",
      "\n",
      " 50%|█████     | 6/12 [00:08<00:08,  1.37s/it]\u001b[A"
     ]
    },
    {
     "name": "stdout",
     "output_type": "stream",
     "text": [
      "(1672, 512)\n",
      "(1432, 512)\n",
      "L07\n"
     ]
    },
    {
     "name": "stderr",
     "output_type": "stream",
     "text": [
      "\n",
      "\n",
      "  0%|          | 0/31 [00:00<?, ?it/s]\u001b[A\u001b[A"
     ]
    },
    {
     "name": "stdout",
     "output_type": "stream",
     "text": [
      "(1068, 512)\n",
      "(1260, 512)\n"
     ]
    },
    {
     "name": "stderr",
     "output_type": "stream",
     "text": [
      "\n",
      "\n",
      " 10%|▉         | 3/31 [00:00<00:00, 28.75it/s]\u001b[A\u001b[A"
     ]
    },
    {
     "name": "stdout",
     "output_type": "stream",
     "text": [
      "(1268, 512)\n"
     ]
    },
    {
     "name": "stderr",
     "output_type": "stream",
     "text": [
      "\n",
      "\n",
      " 19%|█▉        | 6/31 [00:00<00:00, 27.79it/s]\u001b[A\u001b[A"
     ]
    },
    {
     "name": "stdout",
     "output_type": "stream",
     "text": [
      "(1440, 512)\n",
      "(1132, 512)\n",
      "(1280, 512)\n",
      "(1036, 512)\n",
      "(1316, 512)\n"
     ]
    },
    {
     "name": "stderr",
     "output_type": "stream",
     "text": [
      "\n",
      "\n",
      " 29%|██▉       | 9/31 [00:00<00:00, 27.44it/s]\u001b[A\u001b[A"
     ]
    },
    {
     "name": "stdout",
     "output_type": "stream",
     "text": [
      "(1388, 512)\n",
      "(1204, 512)\n",
      "(1212, 512)\n",
      "(1336, 512)\n"
     ]
    },
    {
     "name": "stderr",
     "output_type": "stream",
     "text": [
      "\n",
      "\n",
      " 39%|███▊      | 12/31 [00:00<00:00, 26.89it/s]\u001b[A\u001b[A"
     ]
    },
    {
     "name": "stdout",
     "output_type": "stream",
     "text": [
      "(1152, 512)\n",
      "(1192, 512)\n"
     ]
    },
    {
     "name": "stderr",
     "output_type": "stream",
     "text": [
      "\n",
      "\n",
      " 48%|████▊     | 15/31 [00:00<00:00, 27.53it/s]\u001b[A\u001b[A"
     ]
    },
    {
     "name": "stdout",
     "output_type": "stream",
     "text": [
      "(1024, 512)\n"
     ]
    },
    {
     "name": "stderr",
     "output_type": "stream",
     "text": [
      "\n",
      "\n",
      " 58%|█████▊    | 18/31 [00:00<00:00, 27.56it/s]\u001b[A\u001b[A"
     ]
    },
    {
     "name": "stdout",
     "output_type": "stream",
     "text": [
      "(1228, 512)\n",
      "(1260, 512)\n",
      "(1184, 512)\n",
      "(1088, 512)\n",
      "(1204, 512)\n",
      "(1188, 512)\n"
     ]
    },
    {
     "name": "stderr",
     "output_type": "stream",
     "text": [
      "\n",
      "\n",
      " 68%|██████▊   | 21/31 [00:00<00:00, 26.62it/s]\u001b[A\u001b[A"
     ]
    },
    {
     "name": "stdout",
     "output_type": "stream",
     "text": [
      "(1066, 512)\n"
     ]
    },
    {
     "name": "stderr",
     "output_type": "stream",
     "text": [
      "\n",
      "\n",
      " 77%|███████▋  | 24/31 [00:01<00:00, 10.24it/s]\u001b[A\u001b[A\n",
      "\n",
      " 90%|█████████ | 28/31 [00:01<00:00, 13.68it/s]\u001b[A\u001b[A"
     ]
    },
    {
     "name": "stdout",
     "output_type": "stream",
     "text": [
      "(1312, 512)\n",
      "(1204, 512)\n",
      "(1236, 512)\n",
      "(1176, 512)\n",
      "(1136, 512)\n",
      "(1196, 512)\n"
     ]
    },
    {
     "name": "stderr",
     "output_type": "stream",
     "text": [
      "\n",
      "\n",
      "100%|██████████| 31/31 [00:01<00:00, 18.15it/s]\n",
      "\n",
      " 58%|█████▊    | 7/12 [00:10<00:07,  1.49s/it]\u001b[A"
     ]
    },
    {
     "name": "stdout",
     "output_type": "stream",
     "text": [
      "(1300, 512)\n",
      "(1344, 512)\n",
      "(1340, 512)\n",
      "L08\n"
     ]
    },
    {
     "name": "stderr",
     "output_type": "stream",
     "text": [
      "\n",
      "\n",
      "  0%|          | 0/30 [00:00<?, ?it/s]\u001b[A\u001b[A"
     ]
    },
    {
     "name": "stdout",
     "output_type": "stream",
     "text": [
      "(1654, 512)\n",
      "(1264, 512)\n"
     ]
    },
    {
     "name": "stderr",
     "output_type": "stream",
     "text": [
      "\n",
      "\n",
      " 10%|█         | 3/30 [00:00<00:01, 22.69it/s]\u001b[A\u001b[A"
     ]
    },
    {
     "name": "stdout",
     "output_type": "stream",
     "text": [
      "(1420, 512)\n",
      "(1332, 512)\n",
      "(1532, 512)\n"
     ]
    },
    {
     "name": "stderr",
     "output_type": "stream",
     "text": [
      "\n",
      "\n",
      " 20%|██        | 6/30 [00:00<00:00, 24.04it/s]\u001b[A\u001b[A"
     ]
    },
    {
     "name": "stdout",
     "output_type": "stream",
     "text": [
      "(1404, 512)\n",
      "(1148, 512)\n"
     ]
    },
    {
     "name": "stderr",
     "output_type": "stream",
     "text": [
      "\n",
      "\n",
      " 30%|███       | 9/30 [00:00<00:00, 24.14it/s]\u001b[A\u001b[A"
     ]
    },
    {
     "name": "stdout",
     "output_type": "stream",
     "text": [
      "(1407, 512)\n",
      "(1416, 512)\n",
      "(1324, 512)\n"
     ]
    },
    {
     "name": "stderr",
     "output_type": "stream",
     "text": [
      "\n",
      "\n",
      " 40%|████      | 12/30 [00:00<00:00, 22.31it/s]\u001b[A\u001b[A"
     ]
    },
    {
     "name": "stdout",
     "output_type": "stream",
     "text": [
      "(1602, 512)\n",
      "(1412, 512)\n"
     ]
    },
    {
     "name": "stderr",
     "output_type": "stream",
     "text": [
      "\n",
      "\n",
      " 50%|█████     | 15/30 [00:00<00:00, 24.13it/s]\u001b[A\u001b[A"
     ]
    },
    {
     "name": "stdout",
     "output_type": "stream",
     "text": [
      "(1426, 512)\n",
      "(1444, 512)\n",
      "(1384, 512)\n",
      "(1444, 512)\n",
      "(1220, 512)\n",
      "(1600, 512)\n"
     ]
    },
    {
     "name": "stderr",
     "output_type": "stream",
     "text": [
      "\n",
      "\n",
      " 60%|██████    | 18/30 [00:00<00:00, 24.40it/s]\u001b[A\u001b[A\n",
      "\n",
      " 70%|███████   | 21/30 [00:00<00:00, 24.25it/s]\u001b[A\u001b[A"
     ]
    },
    {
     "name": "stdout",
     "output_type": "stream",
     "text": [
      "(1400, 512)\n",
      "(1584, 512)\n",
      "(1406, 512)\n"
     ]
    },
    {
     "name": "stderr",
     "output_type": "stream",
     "text": [
      "\n",
      "\n",
      " 80%|████████  | 24/30 [00:00<00:00, 25.35it/s]"
     ]
    },
    {
     "name": "stdout",
     "output_type": "stream",
     "text": [
      "(1400, 512)\n",
      "(1260, 512)\n",
      "(1482, 512)\n"
     ]
    },
    {
     "name": "stderr",
     "output_type": "stream",
     "text": [
      "\u001b[A\u001b[A"
     ]
    },
    {
     "name": "stdout",
     "output_type": "stream",
     "text": [
      "(1320, 512)\n",
      "(1600, 512)\n",
      "(1176, 512)\n"
     ]
    },
    {
     "name": "stderr",
     "output_type": "stream",
     "text": [
      "\n",
      "\n",
      " 90%|█████████ | 27/30 [00:01<00:00, 25.21it/s]\u001b[A\u001b[A"
     ]
    },
    {
     "name": "stdout",
     "output_type": "stream",
     "text": [
      "(1492, 512)\n",
      "(1472, 512)\n",
      "(1224, 512)\n"
     ]
    },
    {
     "name": "stderr",
     "output_type": "stream",
     "text": [
      "\n",
      "\n",
      "100%|██████████| 30/30 [00:01<00:00, 24.46it/s]\n",
      "\n",
      " 67%|██████▋   | 8/12 [00:11<00:05,  1.41s/it]\u001b[A"
     ]
    },
    {
     "name": "stdout",
     "output_type": "stream",
     "text": [
      "L09\n"
     ]
    },
    {
     "name": "stderr",
     "output_type": "stream",
     "text": [
      "\n",
      "\n",
      "  0%|          | 0/29 [00:00<?, ?it/s]\u001b[A\u001b[A"
     ]
    },
    {
     "name": "stdout",
     "output_type": "stream",
     "text": [
      "(1527, 512)\n",
      "(1424, 512)\n"
     ]
    },
    {
     "name": "stderr",
     "output_type": "stream",
     "text": [
      "\n",
      "\n",
      " 10%|█         | 3/29 [00:00<00:01, 21.45it/s]\u001b[A\u001b[A"
     ]
    },
    {
     "name": "stdout",
     "output_type": "stream",
     "text": [
      "(1384, 512)\n",
      "(1388, 512)\n",
      "(1172, 512)\n",
      "(1672, 512)\n"
     ]
    },
    {
     "name": "stderr",
     "output_type": "stream",
     "text": [
      "\n",
      "\n",
      " 21%|██        | 6/29 [00:00<00:00, 24.72it/s]\u001b[A\u001b[A"
     ]
    },
    {
     "name": "stdout",
     "output_type": "stream",
     "text": [
      "(1312, 512)\n",
      "(1284, 512)\n"
     ]
    },
    {
     "name": "stderr",
     "output_type": "stream",
     "text": [
      "\n",
      "\n",
      " 31%|███       | 9/29 [00:00<00:00, 25.09it/s]\u001b[A\u001b[A"
     ]
    },
    {
     "name": "stdout",
     "output_type": "stream",
     "text": [
      "(1540, 512)\n",
      "(1832, 512)\n",
      "(1336, 512)\n"
     ]
    },
    {
     "name": "stderr",
     "output_type": "stream",
     "text": [
      "\n",
      "\n",
      " 41%|████▏     | 12/29 [00:00<00:00, 23.44it/s]\u001b[A\u001b[A"
     ]
    },
    {
     "name": "stdout",
     "output_type": "stream",
     "text": [
      "(1252, 512)\n",
      "(1496, 512)\n",
      "(1424, 512)\n",
      "(1360, 512)\n"
     ]
    },
    {
     "name": "stderr",
     "output_type": "stream",
     "text": [
      "\n",
      "\n",
      " 52%|█████▏    | 15/29 [00:00<00:00, 24.31it/s]\u001b[A\u001b[A"
     ]
    },
    {
     "name": "stdout",
     "output_type": "stream",
     "text": [
      "(1560, 512)\n",
      "(1144, 512)\n"
     ]
    },
    {
     "name": "stderr",
     "output_type": "stream",
     "text": [
      "\n",
      "\n",
      " 62%|██████▏   | 18/29 [00:00<00:00, 24.58it/s]\u001b[A\u001b[A"
     ]
    },
    {
     "name": "stdout",
     "output_type": "stream",
     "text": [
      "(1375, 512)\n",
      "(1252, 512)\n",
      "(1700, 512)\n",
      "(1136, 512)\n"
     ]
    },
    {
     "name": "stderr",
     "output_type": "stream",
     "text": [
      "\n",
      "\n",
      " 72%|███████▏  | 21/29 [00:00<00:00, 24.74it/s]\u001b[A\u001b[A"
     ]
    },
    {
     "name": "stdout",
     "output_type": "stream",
     "text": [
      "(1432, 512)\n"
     ]
    },
    {
     "name": "stderr",
     "output_type": "stream",
     "text": [
      "\n",
      "\n",
      " 83%|████████▎ | 24/29 [00:00<00:00, 25.30it/s]\u001b[A\u001b[A"
     ]
    },
    {
     "name": "stdout",
     "output_type": "stream",
     "text": [
      "(1276, 512)\n",
      "(1132, 512)\n",
      "(1372, 512)\n"
     ]
    },
    {
     "name": "stderr",
     "output_type": "stream",
     "text": [
      "\n",
      "\n",
      " 93%|█████████▎| 27/29 [00:01<00:00, 25.98it/s]\u001b[A\u001b[A"
     ]
    },
    {
     "name": "stdout",
     "output_type": "stream",
     "text": [
      "(1140, 512)\n",
      "(1040, 512)\n",
      "(1548, 512)\n"
     ]
    },
    {
     "name": "stderr",
     "output_type": "stream",
     "text": [
      "100%|██████████| 29/29 [00:01<00:00, 24.82it/s]\n",
      "\n",
      " 75%|███████▌  | 9/12 [00:12<00:04,  1.34s/it]\u001b[A"
     ]
    },
    {
     "name": "stdout",
     "output_type": "stream",
     "text": [
      "(1168, 512)\n",
      "L10\n"
     ]
    },
    {
     "name": "stderr",
     "output_type": "stream",
     "text": [
      "\n",
      "\n",
      "  0%|          | 0/29 [00:00<?, ?it/s]\u001b[A\u001b[A"
     ]
    },
    {
     "name": "stdout",
     "output_type": "stream",
     "text": [
      "(1440, 512)\n"
     ]
    },
    {
     "name": "stderr",
     "output_type": "stream",
     "text": [
      "\n",
      "\n",
      " 10%|█         | 3/29 [00:00<00:01, 24.76it/s]\u001b[A\u001b[A"
     ]
    },
    {
     "name": "stdout",
     "output_type": "stream",
     "text": [
      "(1460, 512)\n",
      "(1534, 512)\n",
      "(1356, 512)\n",
      "(1807, 512)\n",
      "(1588, 512)\n"
     ]
    },
    {
     "name": "stderr",
     "output_type": "stream",
     "text": [
      "\n",
      "\n",
      " 21%|██        | 6/29 [00:00<00:01, 21.46it/s]\u001b[A\u001b[A"
     ]
    },
    {
     "name": "stdout",
     "output_type": "stream",
     "text": [
      "(1322, 512)\n",
      "(1292, 512)\n"
     ]
    },
    {
     "name": "stderr",
     "output_type": "stream",
     "text": [
      "\n",
      "\n",
      " 31%|███       | 9/29 [00:00<00:00, 22.18it/s]\u001b[A\u001b[A"
     ]
    },
    {
     "name": "stdout",
     "output_type": "stream",
     "text": [
      "(1636, 512)\n",
      "(1412, 512)\n",
      "(1304, 512)\n",
      "(1424, 512)\n"
     ]
    },
    {
     "name": "stderr",
     "output_type": "stream",
     "text": [
      "\n",
      "\n",
      " 41%|████▏     | 12/29 [00:00<00:00, 23.99it/s]\u001b[A\u001b[A"
     ]
    },
    {
     "name": "stdout",
     "output_type": "stream",
     "text": [
      "(1152, 512)\n",
      "(1560, 512)\n"
     ]
    },
    {
     "name": "stderr",
     "output_type": "stream",
     "text": [
      "\n",
      "\n",
      " 52%|█████▏    | 15/29 [00:00<00:00, 23.20it/s]\u001b[A\u001b[A"
     ]
    },
    {
     "name": "stdout",
     "output_type": "stream",
     "text": [
      "(1480, 512)\n",
      "(1400, 512)\n",
      "(1316, 512)\n"
     ]
    },
    {
     "name": "stderr",
     "output_type": "stream",
     "text": [
      "\n",
      "\n",
      " 62%|██████▏   | 18/29 [00:00<00:00, 23.77it/s]\u001b[A\u001b[A"
     ]
    },
    {
     "name": "stdout",
     "output_type": "stream",
     "text": [
      "(1252, 512)\n",
      "(1288, 512)\n",
      "(1508, 512)\n"
     ]
    },
    {
     "name": "stderr",
     "output_type": "stream",
     "text": [
      "\n",
      "\n",
      " 72%|███████▏  | 21/29 [00:00<00:00, 22.72it/s]\u001b[A\u001b[A"
     ]
    },
    {
     "name": "stdout",
     "output_type": "stream",
     "text": [
      "(1635, 512)\n",
      "(1336, 512)\n",
      "(1552, 512)\n"
     ]
    },
    {
     "name": "stderr",
     "output_type": "stream",
     "text": [
      "\n",
      "\n",
      " 83%|████████▎ | 24/29 [00:01<00:00, 23.00it/s]\u001b[A\u001b[A"
     ]
    },
    {
     "name": "stdout",
     "output_type": "stream",
     "text": [
      "(1608, 512)\n",
      "(1308, 512)\n",
      "(1440, 512)\n"
     ]
    },
    {
     "name": "stderr",
     "output_type": "stream",
     "text": [
      "\n",
      "\n",
      " 93%|█████████▎| 27/29 [00:01<00:00, 23.82it/s]\u001b[A\u001b[A"
     ]
    },
    {
     "name": "stdout",
     "output_type": "stream",
     "text": [
      "(1620, 512)\n",
      "(1540, 512)\n",
      "(1440, 512)\n"
     ]
    },
    {
     "name": "stderr",
     "output_type": "stream",
     "text": [
      "100%|██████████| 29/29 [00:01<00:00, 23.39it/s]\n",
      "\n",
      " 83%|████████▎ | 10/12 [00:13<00:02,  1.31s/it]\u001b[A"
     ]
    },
    {
     "name": "stdout",
     "output_type": "stream",
     "text": [
      "L11\n"
     ]
    },
    {
     "name": "stderr",
     "output_type": "stream",
     "text": [
      "\n",
      "\n",
      "  0%|          | 0/30 [00:00<?, ?it/s]\u001b[A\u001b[A"
     ]
    },
    {
     "name": "stdout",
     "output_type": "stream",
     "text": [
      "(1416, 512)\n",
      "(1480, 512)\n"
     ]
    },
    {
     "name": "stderr",
     "output_type": "stream",
     "text": [
      "\n",
      "\n",
      " 10%|█         | 3/30 [00:00<00:01, 25.99it/s]\u001b[A\u001b[A"
     ]
    },
    {
     "name": "stdout",
     "output_type": "stream",
     "text": [
      "(1408, 512)\n",
      "(1180, 512)\n",
      "(1306, 512)\n"
     ]
    },
    {
     "name": "stderr",
     "output_type": "stream",
     "text": [
      "\n",
      "\n",
      " 20%|██        | 6/30 [00:00<00:00, 26.96it/s]\u001b[A\u001b[A"
     ]
    },
    {
     "name": "stdout",
     "output_type": "stream",
     "text": [
      "(1096, 512)\n",
      "(1426, 512)\n",
      "(1174, 512)\n",
      "(1556, 512)\n"
     ]
    },
    {
     "name": "stderr",
     "output_type": "stream",
     "text": [
      "\n",
      "\n",
      " 30%|███       | 9/30 [00:00<00:00, 26.04it/s]\u001b[A\u001b[A"
     ]
    },
    {
     "name": "stdout",
     "output_type": "stream",
     "text": [
      "(976, 512)\n",
      "(1152, 512)\n"
     ]
    },
    {
     "name": "stderr",
     "output_type": "stream",
     "text": [
      "\n",
      "\n",
      " 40%|████      | 12/30 [00:00<00:00, 25.57it/s]\u001b[A\u001b[A"
     ]
    },
    {
     "name": "stdout",
     "output_type": "stream",
     "text": [
      "(1268, 512)\n",
      "(1180, 512)\n",
      "(1176, 512)\n"
     ]
    },
    {
     "name": "stderr",
     "output_type": "stream",
     "text": [
      "\n",
      "\n",
      " 50%|█████     | 15/30 [00:00<00:00, 26.53it/s]"
     ]
    },
    {
     "name": "stdout",
     "output_type": "stream",
     "text": [
      "(1284, 512)\n"
     ]
    },
    {
     "name": "stderr",
     "output_type": "stream",
     "text": [
      "\u001b[A\u001b[A"
     ]
    },
    {
     "name": "stdout",
     "output_type": "stream",
     "text": [
      "(1120, 512)\n",
      "(1356, 512)\n"
     ]
    },
    {
     "name": "stderr",
     "output_type": "stream",
     "text": [
      "\n",
      "\n",
      " 60%|██████    | 18/30 [00:00<00:00, 25.06it/s]\u001b[A\u001b[A"
     ]
    },
    {
     "name": "stdout",
     "output_type": "stream",
     "text": [
      "(1360, 512)\n",
      "(1160, 512)\n",
      "(1328, 512)\n",
      "(1270, 512)\n"
     ]
    },
    {
     "name": "stderr",
     "output_type": "stream",
     "text": [
      "\n",
      "\n",
      " 70%|███████   | 21/30 [00:00<00:00, 26.06it/s]\u001b[A\u001b[A"
     ]
    },
    {
     "name": "stdout",
     "output_type": "stream",
     "text": [
      "(1164, 512)\n",
      "(1318, 512)\n"
     ]
    },
    {
     "name": "stderr",
     "output_type": "stream",
     "text": [
      "\n",
      "\n",
      " 80%|████████  | 24/30 [00:00<00:00, 25.43it/s]\u001b[A\u001b[A"
     ]
    },
    {
     "name": "stdout",
     "output_type": "stream",
     "text": [
      "(1316, 512)\n",
      "(1300, 512)\n",
      "(1340, 512)\n"
     ]
    },
    {
     "name": "stderr",
     "output_type": "stream",
     "text": [
      "\n",
      "\n",
      " 90%|█████████ | 27/30 [00:01<00:00, 25.10it/s]\u001b[A\u001b[A"
     ]
    },
    {
     "name": "stdout",
     "output_type": "stream",
     "text": [
      "(1215, 512)\n",
      "(1588, 512)\n"
     ]
    },
    {
     "name": "stderr",
     "output_type": "stream",
     "text": [
      "\n",
      "\n",
      "100%|██████████| 30/30 [00:01<00:00, 25.46it/s]\n",
      "\n",
      " 92%|█████████▏| 11/12 [00:15<00:01,  1.28s/it]\u001b[A"
     ]
    },
    {
     "name": "stdout",
     "output_type": "stream",
     "text": [
      "(1232, 512)\n",
      "(1372, 512)\n",
      "L12\n"
     ]
    },
    {
     "name": "stderr",
     "output_type": "stream",
     "text": [
      "\n",
      "\n",
      "  0%|          | 0/30 [00:00<?, ?it/s]\u001b[A\u001b[A"
     ]
    },
    {
     "name": "stdout",
     "output_type": "stream",
     "text": [
      "(1628, 512)\n",
      "(1068, 512)\n"
     ]
    },
    {
     "name": "stderr",
     "output_type": "stream",
     "text": [
      "\n",
      "\n",
      " 10%|█         | 3/30 [00:00<00:01, 24.66it/s]\u001b[A\u001b[A"
     ]
    },
    {
     "name": "stdout",
     "output_type": "stream",
     "text": [
      "(1524, 512)\n",
      "(1492, 512)\n",
      "(1704, 512)\n"
     ]
    },
    {
     "name": "stderr",
     "output_type": "stream",
     "text": [
      "\n",
      "\n",
      " 20%|██        | 6/30 [00:00<00:01, 22.88it/s]\u001b[A\u001b[A"
     ]
    },
    {
     "name": "stdout",
     "output_type": "stream",
     "text": [
      "(1620, 512)\n",
      "(1460, 512)\n",
      "(1276, 512)\n"
     ]
    },
    {
     "name": "stderr",
     "output_type": "stream",
     "text": [
      "\n",
      "\n",
      " 30%|███       | 9/30 [00:00<00:00, 22.74it/s]\u001b[A\u001b[A"
     ]
    },
    {
     "name": "stdout",
     "output_type": "stream",
     "text": [
      "(1464, 512)\n",
      "(1444, 512)\n",
      "(1492, 512)\n"
     ]
    },
    {
     "name": "stderr",
     "output_type": "stream",
     "text": [
      "\n",
      "\n",
      " 40%|████      | 12/30 [00:00<00:00, 23.21it/s]\u001b[A\u001b[A"
     ]
    },
    {
     "name": "stdout",
     "output_type": "stream",
     "text": [
      "(1516, 512)\n",
      "(1348, 512)\n"
     ]
    },
    {
     "name": "stderr",
     "output_type": "stream",
     "text": [
      "\n",
      "\n",
      " 50%|█████     | 15/30 [00:00<00:00, 24.07it/s]\u001b[A\u001b[A"
     ]
    },
    {
     "name": "stdout",
     "output_type": "stream",
     "text": [
      "(1600, 512)\n",
      "(1296, 512)\n",
      "(1456, 512)\n",
      "(1347, 512)\n"
     ]
    },
    {
     "name": "stderr",
     "output_type": "stream",
     "text": [
      "\n",
      "\n",
      " 60%|██████    | 18/30 [00:00<00:00, 23.54it/s]\u001b[A\u001b[A"
     ]
    },
    {
     "name": "stdout",
     "output_type": "stream",
     "text": [
      "(1580, 512)\n",
      "(1408, 512)\n",
      "(1339, 512)\n"
     ]
    },
    {
     "name": "stderr",
     "output_type": "stream",
     "text": [
      "\n",
      "\n",
      " 70%|███████   | 21/30 [00:00<00:00, 23.83it/s]\u001b[A\u001b[A"
     ]
    },
    {
     "name": "stdout",
     "output_type": "stream",
     "text": [
      "(1439, 512)\n",
      "(1356, 512)\n",
      "(1248, 512)\n"
     ]
    },
    {
     "name": "stderr",
     "output_type": "stream",
     "text": [
      "\n",
      "\n",
      " 80%|████████  | 24/30 [00:01<00:00, 24.16it/s]\u001b[A\u001b[A"
     ]
    },
    {
     "name": "stdout",
     "output_type": "stream",
     "text": [
      "(1344, 512)\n",
      "(1368, 512)\n",
      "(1134, 512)\n",
      "(1428, 512)\n"
     ]
    },
    {
     "name": "stderr",
     "output_type": "stream",
     "text": [
      "\n",
      "\n",
      " 90%|█████████ | 27/30 [00:01<00:00, 24.39it/s]\u001b[A\u001b[A"
     ]
    },
    {
     "name": "stdout",
     "output_type": "stream",
     "text": [
      "(1535, 512)\n"
     ]
    },
    {
     "name": "stderr",
     "output_type": "stream",
     "text": [
      "\n",
      "\n",
      "100%|██████████| 30/30 [00:01<00:00, 23.85it/s]\n",
      "\n",
      "100%|██████████| 12/12 [00:16<00:00,  1.36s/it]\n",
      " 25%|██▌       | 1/4 [00:16<00:49, 16.34s/it]"
     ]
    },
    {
     "name": "stdout",
     "output_type": "stream",
     "text": [
      "(1348, 512)\n",
      "(1428, 512)\n"
     ]
    },
    {
     "name": "stderr",
     "output_type": "stream",
     "text": [
      "\n",
      "  0%|          | 0/4 [00:00<?, ?it/s]\u001b[A"
     ]
    },
    {
     "name": "stdout",
     "output_type": "stream",
     "text": [
      "L13\n"
     ]
    },
    {
     "name": "stderr",
     "output_type": "stream",
     "text": [
      "\n",
      "\n",
      "  0%|          | 0/30 [00:00<?, ?it/s]\u001b[A\u001b[A"
     ]
    },
    {
     "name": "stdout",
     "output_type": "stream",
     "text": [
      "(1212, 512)\n",
      "(1236, 512)\n"
     ]
    },
    {
     "name": "stderr",
     "output_type": "stream",
     "text": [
      "\n",
      "\n",
      " 10%|█         | 3/30 [00:00<00:01, 26.38it/s]\u001b[A\u001b[A"
     ]
    },
    {
     "name": "stdout",
     "output_type": "stream",
     "text": [
      "(1220, 512)\n",
      "(1523, 512)\n",
      "(1260, 512)\n"
     ]
    },
    {
     "name": "stderr",
     "output_type": "stream",
     "text": [
      "\n",
      "\n",
      " 20%|██        | 6/30 [00:00<00:00, 24.61it/s]\u001b[A\u001b[A"
     ]
    },
    {
     "name": "stdout",
     "output_type": "stream",
     "text": [
      "(1532, 512)\n",
      "(1140, 512)\n",
      "(1024, 512)\n",
      "(1032, 512)\n"
     ]
    },
    {
     "name": "stderr",
     "output_type": "stream",
     "text": [
      "\n",
      "\n",
      " 33%|███▎      | 10/30 [00:00<00:00, 26.78it/s]\u001b[A\u001b[A"
     ]
    },
    {
     "name": "stdout",
     "output_type": "stream",
     "text": [
      "(1408, 512)\n",
      "(1296, 512)\n",
      "(1014, 512)\n",
      "(1516, 512)\n"
     ]
    },
    {
     "name": "stderr",
     "output_type": "stream",
     "text": [
      "\n",
      "\n",
      " 43%|████▎     | 13/30 [00:00<00:00, 25.49it/s]\u001b[A\u001b[A"
     ]
    },
    {
     "name": "stdout",
     "output_type": "stream",
     "text": [
      "(1260, 512)\n"
     ]
    },
    {
     "name": "stderr",
     "output_type": "stream",
     "text": [
      "\n",
      "\n",
      " 53%|█████▎    | 16/30 [00:00<00:00, 24.72it/s]\u001b[A\u001b[A"
     ]
    },
    {
     "name": "stdout",
     "output_type": "stream",
     "text": [
      "(996, 512)\n",
      "(1292, 512)\n"
     ]
    },
    {
     "name": "stderr",
     "output_type": "stream",
     "text": [
      "\n",
      "\n",
      " 63%|██████▎   | 19/30 [00:00<00:00, 25.95it/s]\u001b[A\u001b[A"
     ]
    },
    {
     "name": "stdout",
     "output_type": "stream",
     "text": [
      "(1000, 512)\n",
      "(1236, 512)\n",
      "(1288, 512)\n",
      "(1252, 512)\n"
     ]
    },
    {
     "name": "stderr",
     "output_type": "stream",
     "text": [
      "\n",
      "\n",
      " 73%|███████▎  | 22/30 [00:00<00:00, 27.09it/s]\u001b[A\u001b[A"
     ]
    },
    {
     "name": "stdout",
     "output_type": "stream",
     "text": [
      "(1108, 512)\n",
      "(1060, 512)\n",
      "(1088, 512)\n",
      "(948, 512)\n",
      "(1196, 512)\n",
      "(1467, 512)\n"
     ]
    },
    {
     "name": "stderr",
     "output_type": "stream",
     "text": [
      "\n",
      "\n",
      " 87%|████████▋ | 26/30 [00:00<00:00, 28.03it/s]\u001b[A\u001b[A"
     ]
    },
    {
     "name": "stdout",
     "output_type": "stream",
     "text": [
      "(1168, 512)\n"
     ]
    },
    {
     "name": "stderr",
     "output_type": "stream",
     "text": [
      "\n",
      "\n",
      " 97%|█████████▋| 29/30 [00:01<00:00, 28.38it/s]\u001b[A\u001b[A"
     ]
    },
    {
     "name": "stdout",
     "output_type": "stream",
     "text": [
      "(1224, 512)\n",
      "(1084, 512)\n"
     ]
    },
    {
     "name": "stderr",
     "output_type": "stream",
     "text": [
      "100%|██████████| 30/30 [00:01<00:00, 26.86it/s]\n",
      "\n",
      " 25%|██▌       | 1/4 [00:01<00:03,  1.13s/it]\u001b[A"
     ]
    },
    {
     "name": "stdout",
     "output_type": "stream",
     "text": [
      "(1399, 512)\n",
      "L14\n"
     ]
    },
    {
     "name": "stderr",
     "output_type": "stream",
     "text": [
      "\n",
      "\n",
      "  0%|          | 0/27 [00:00<?, ?it/s]\u001b[A\u001b[A"
     ]
    },
    {
     "name": "stdout",
     "output_type": "stream",
     "text": [
      "(1224, 512)\n",
      "(1264, 512)\n"
     ]
    },
    {
     "name": "stderr",
     "output_type": "stream",
     "text": [
      "\n",
      "\n",
      " 11%|█         | 3/27 [00:00<00:00, 26.80it/s]\u001b[A\u001b[A"
     ]
    },
    {
     "name": "stdout",
     "output_type": "stream",
     "text": [
      "(1332, 512)\n",
      "(1527, 512)\n",
      "(1564, 512)\n"
     ]
    },
    {
     "name": "stderr",
     "output_type": "stream",
     "text": [
      "\n",
      "\n",
      " 22%|██▏       | 6/27 [00:00<00:00, 23.95it/s]\u001b[A\u001b[A"
     ]
    },
    {
     "name": "stdout",
     "output_type": "stream",
     "text": [
      "(1632, 512)\n",
      "(1412, 512)\n"
     ]
    },
    {
     "name": "stderr",
     "output_type": "stream",
     "text": [
      "\n",
      "\n",
      " 33%|███▎      | 9/27 [00:01<00:03,  4.67it/s]\u001b[A\u001b[A\n",
      "\n",
      " 44%|████▍     | 12/27 [00:01<00:02,  6.87it/s]\u001b[A\u001b[A"
     ]
    },
    {
     "name": "stdout",
     "output_type": "stream",
     "text": [
      "(1472, 512)\n",
      "(1540, 512)\n",
      "(1488, 512)\n",
      "(1552, 512)\n",
      "(1220, 512)\n"
     ]
    },
    {
     "name": "stderr",
     "output_type": "stream",
     "text": [
      "\n",
      "\n",
      " 56%|█████▌    | 15/27 [00:01<00:01,  9.22it/s]\u001b[A\u001b[A\n",
      "\n",
      " 67%|██████▋   | 18/27 [00:01<00:00, 11.98it/s]\u001b[A\u001b[A"
     ]
    },
    {
     "name": "stdout",
     "output_type": "stream",
     "text": [
      "(1490, 512)\n",
      "(1244, 512)\n",
      "(1228, 512)\n",
      "(1332, 512)\n",
      "(1112, 512)\n",
      "(1564, 512)\n"
     ]
    },
    {
     "name": "stderr",
     "output_type": "stream",
     "text": [
      "\n",
      "\n",
      " 78%|███████▊  | 21/27 [00:01<00:00, 14.53it/s]\u001b[A\u001b[A\n",
      "\n",
      " 89%|████████▉ | 24/27 [00:02<00:00, 17.02it/s]\u001b[A\u001b[A"
     ]
    },
    {
     "name": "stdout",
     "output_type": "stream",
     "text": [
      "(1343, 512)\n",
      "(1324, 512)\n",
      "(1260, 512)\n",
      "(1352, 512)\n",
      "(1212, 512)\n",
      "(1388, 512)\n"
     ]
    },
    {
     "name": "stderr",
     "output_type": "stream",
     "text": [
      "\n",
      "\n",
      "100%|██████████| 27/27 [00:02<00:00, 12.27it/s]\n",
      "\n",
      " 50%|█████     | 2/4 [00:03<00:03,  1.77s/it]\u001b[A"
     ]
    },
    {
     "name": "stdout",
     "output_type": "stream",
     "text": [
      "(1308, 512)\n",
      "(1528, 512)\n",
      "(1180, 512)\n",
      "L15\n"
     ]
    },
    {
     "name": "stderr",
     "output_type": "stream",
     "text": [
      "\n",
      "\n",
      "  0%|          | 0/31 [00:00<?, ?it/s]\u001b[A\u001b[A"
     ]
    },
    {
     "name": "stdout",
     "output_type": "stream",
     "text": [
      "(1194, 512)\n",
      "(760, 512)\n",
      "(1080, 512)\n"
     ]
    },
    {
     "name": "stderr",
     "output_type": "stream",
     "text": [
      "\n",
      "\n",
      " 13%|█▎        | 4/31 [00:00<00:00, 31.97it/s]\u001b[A\u001b[A"
     ]
    },
    {
     "name": "stdout",
     "output_type": "stream",
     "text": [
      "(1316, 512)\n",
      "(984, 512)\n",
      "(1176, 512)\n",
      "(1260, 512)\n"
     ]
    },
    {
     "name": "stderr",
     "output_type": "stream",
     "text": [
      "\n",
      "\n",
      " 26%|██▌       | 8/31 [00:00<00:00, 31.87it/s]\u001b[A\u001b[A"
     ]
    },
    {
     "name": "stdout",
     "output_type": "stream",
     "text": [
      "(992, 512)\n",
      "(1421, 512)\n"
     ]
    },
    {
     "name": "stderr",
     "output_type": "stream",
     "text": [
      "\n",
      "\n",
      " 39%|███▊      | 12/31 [00:00<00:00, 29.70it/s]\u001b[A\u001b[A"
     ]
    },
    {
     "name": "stdout",
     "output_type": "stream",
     "text": [
      "(1278, 512)\n",
      "(1124, 512)\n",
      "(1224, 512)\n",
      "(1340, 512)\n"
     ]
    },
    {
     "name": "stderr",
     "output_type": "stream",
     "text": [
      "\n",
      "\n",
      " 48%|████▊     | 15/31 [00:00<00:00, 28.62it/s]\u001b[A\u001b[A"
     ]
    },
    {
     "name": "stdout",
     "output_type": "stream",
     "text": [
      "(1036, 512)\n",
      "(1236, 512)\n"
     ]
    },
    {
     "name": "stderr",
     "output_type": "stream",
     "text": [
      "\n",
      "\n",
      " 58%|█████▊    | 18/31 [00:00<00:00, 27.80it/s]\u001b[A\u001b[A"
     ]
    },
    {
     "name": "stdout",
     "output_type": "stream",
     "text": [
      "(1260, 512)\n",
      "(956, 512)\n",
      "(1160, 512)\n",
      "(896, 512)\n",
      "(1388, 512)\n"
     ]
    },
    {
     "name": "stderr",
     "output_type": "stream",
     "text": [
      "\n",
      "\n",
      " 68%|██████▊   | 21/31 [00:00<00:00, 26.42it/s]\u001b[A\u001b[A\n",
      "\n",
      " 77%|███████▋  | 24/31 [00:00<00:00, 26.94it/s]\u001b[A\u001b[A"
     ]
    },
    {
     "name": "stdout",
     "output_type": "stream",
     "text": [
      "(992, 512)\n",
      "(1332, 512)\n",
      "(1224, 512)\n",
      "(1188, 512)\n",
      "(1122, 512)\n"
     ]
    },
    {
     "name": "stderr",
     "output_type": "stream",
     "text": [
      "\n",
      "\n",
      " 87%|████████▋ | 27/31 [00:00<00:00, 25.76it/s]\u001b[A\u001b[A\n",
      "\n",
      "100%|██████████| 31/31 [00:01<00:00, 27.26it/s]\n",
      "\n",
      " 75%|███████▌  | 3/4 [00:04<00:01,  1.49s/it]\u001b[A"
     ]
    },
    {
     "name": "stdout",
     "output_type": "stream",
     "text": [
      "(1000, 512)\n",
      "(1182, 512)\n",
      "(1236, 512)\n",
      "(1376, 512)\n",
      "(1176, 512)\n",
      "(1384, 512)\n",
      "L16\n"
     ]
    },
    {
     "name": "stderr",
     "output_type": "stream",
     "text": [
      "\n",
      "\n",
      "  0%|          | 0/31 [00:00<?, ?it/s]\u001b[A\u001b[A\n",
      "\n",
      " 10%|▉         | 3/31 [00:00<00:01, 26.77it/s]\u001b[A\u001b[A"
     ]
    },
    {
     "name": "stdout",
     "output_type": "stream",
     "text": [
      "(1418, 512)\n",
      "(1512, 512)\n",
      "(1338, 512)\n",
      "(1348, 512)\n",
      "(1160, 512)\n"
     ]
    },
    {
     "name": "stderr",
     "output_type": "stream",
     "text": [
      "\n",
      "\n",
      " 19%|█▉        | 6/31 [00:00<00:00, 28.35it/s]\u001b[A\u001b[A"
     ]
    },
    {
     "name": "stdout",
     "output_type": "stream",
     "text": [
      "(1352, 512)\n"
     ]
    },
    {
     "name": "stderr",
     "output_type": "stream",
     "text": [
      "\n",
      "\n",
      " 29%|██▉       | 9/31 [00:00<00:00, 25.52it/s]\u001b[A\u001b[A"
     ]
    },
    {
     "name": "stdout",
     "output_type": "stream",
     "text": [
      "(1356, 512)\n",
      "(1512, 512)\n",
      "(1715, 512)\n",
      "(1412, 512)\n",
      "(1016, 512)\n"
     ]
    },
    {
     "name": "stderr",
     "output_type": "stream",
     "text": [
      "\n",
      "\n",
      " 39%|███▊      | 12/31 [00:00<00:00, 24.71it/s]\u001b[A\u001b[A\n",
      "\n",
      " 48%|████▊     | 15/31 [00:00<00:00, 23.53it/s]\u001b[A\u001b[A"
     ]
    },
    {
     "name": "stdout",
     "output_type": "stream",
     "text": [
      "(1340, 512)\n",
      "(1508, 512)\n",
      "(1244, 512)\n",
      "(1228, 512)\n",
      "(1252, 512)\n"
     ]
    },
    {
     "name": "stderr",
     "output_type": "stream",
     "text": [
      "\n",
      "\n",
      " 58%|█████▊    | 18/31 [00:00<00:00, 24.80it/s]\u001b[A\u001b[A\n",
      "\n",
      " 68%|██████▊   | 21/31 [00:00<00:00, 25.03it/s]\u001b[A\u001b[A"
     ]
    },
    {
     "name": "stdout",
     "output_type": "stream",
     "text": [
      "(1378, 512)\n",
      "(1283, 512)\n",
      "(1012, 512)\n",
      "(1424, 512)\n",
      "(1372, 512)\n",
      "(1048, 512)\n"
     ]
    },
    {
     "name": "stderr",
     "output_type": "stream",
     "text": [
      "\n",
      "\n",
      " 77%|███████▋  | 24/31 [00:00<00:00, 25.07it/s]\u001b[A\u001b[A\n",
      "\n",
      " 87%|████████▋ | 27/31 [00:01<00:00, 24.73it/s]\u001b[A\u001b[A"
     ]
    },
    {
     "name": "stdout",
     "output_type": "stream",
     "text": [
      "(1396, 512)\n",
      "(1508, 512)\n",
      "(1244, 512)\n",
      "(1352, 512)\n",
      "(1420, 512)\n"
     ]
    },
    {
     "name": "stderr",
     "output_type": "stream",
     "text": [
      "\n",
      "\n",
      "100%|██████████| 31/31 [00:01<00:00, 25.12it/s]\n",
      "\n",
      "100%|██████████| 4/4 [00:05<00:00,  1.44s/it]\n",
      " 50%|█████     | 2/4 [00:22<00:20, 10.12s/it]"
     ]
    },
    {
     "name": "stdout",
     "output_type": "stream",
     "text": [
      "(1480, 512)\n",
      "(892, 512)\n",
      "(1224, 512)\n",
      "(1420, 512)\n"
     ]
    },
    {
     "name": "stderr",
     "output_type": "stream",
     "text": [
      "\n",
      "  0%|          | 0/4 [00:00<?, ?it/s]\u001b[A"
     ]
    },
    {
     "name": "stdout",
     "output_type": "stream",
     "text": [
      "L17\n"
     ]
    },
    {
     "name": "stderr",
     "output_type": "stream",
     "text": [
      "\n",
      "\n",
      "  0%|          | 0/28 [00:00<?, ?it/s]\u001b[A\u001b[A"
     ]
    },
    {
     "name": "stdout",
     "output_type": "stream",
     "text": [
      "(1212, 512)\n"
     ]
    },
    {
     "name": "stderr",
     "output_type": "stream",
     "text": [
      "\n",
      "\n",
      " 11%|█         | 3/28 [00:00<00:00, 28.96it/s]\u001b[A\u001b[A"
     ]
    },
    {
     "name": "stdout",
     "output_type": "stream",
     "text": [
      "(1080, 512)\n",
      "(1067, 512)\n",
      "(1064, 512)\n",
      "(1240, 512)\n"
     ]
    },
    {
     "name": "stderr",
     "output_type": "stream",
     "text": [
      "\n",
      "\n",
      " 21%|██▏       | 6/28 [00:00<00:00, 27.65it/s]\u001b[A\u001b[A"
     ]
    },
    {
     "name": "stdout",
     "output_type": "stream",
     "text": [
      "(1484, 512)\n",
      "(1419, 512)\n"
     ]
    },
    {
     "name": "stderr",
     "output_type": "stream",
     "text": [
      "\n",
      "\n",
      " 32%|███▏      | 9/28 [00:00<00:00, 26.16it/s]\u001b[A\u001b[A"
     ]
    },
    {
     "name": "stdout",
     "output_type": "stream",
     "text": [
      "(1200, 512)\n",
      "(1008, 512)\n",
      "(792, 512)\n",
      "(1324, 512)\n",
      "(1744, 512)\n"
     ]
    },
    {
     "name": "stderr",
     "output_type": "stream",
     "text": [
      "\n",
      "\n",
      " 43%|████▎     | 12/28 [00:00<00:00, 24.86it/s]\u001b[A\u001b[A\n",
      "\n",
      " 54%|█████▎    | 15/28 [00:00<00:00, 24.72it/s]\u001b[A\u001b[A"
     ]
    },
    {
     "name": "stdout",
     "output_type": "stream",
     "text": [
      "(1176, 512)\n",
      "(1044, 512)\n",
      "(1148, 512)\n",
      "(1156, 512)\n",
      "(956, 512)\n",
      "(1200, 512)\n"
     ]
    },
    {
     "name": "stderr",
     "output_type": "stream",
     "text": [
      "\n",
      "\n",
      " 64%|██████▍   | 18/28 [00:00<00:00, 24.96it/s]\u001b[A\u001b[A\n",
      "\n",
      " 75%|███████▌  | 21/28 [00:00<00:00, 25.37it/s]\u001b[A\u001b[A"
     ]
    },
    {
     "name": "stdout",
     "output_type": "stream",
     "text": [
      "(1004, 512)\n",
      "(1180, 512)\n",
      "(1036, 512)\n"
     ]
    },
    {
     "name": "stderr",
     "output_type": "stream",
     "text": [
      "\n",
      "\n",
      " 86%|████████▌ | 24/28 [00:00<00:00, 26.65it/s]\u001b[A\u001b[A"
     ]
    },
    {
     "name": "stdout",
     "output_type": "stream",
     "text": [
      "(920, 512)\n",
      "(872, 512)\n",
      "(1032, 512)\n",
      "(756, 512)\n",
      "(1167, 512)\n",
      "(1280, 512)\n"
     ]
    },
    {
     "name": "stderr",
     "output_type": "stream",
     "text": [
      "\n",
      "\n",
      "100%|██████████| 28/28 [00:01<00:00, 25.96it/s]\n",
      "\n",
      " 25%|██▌       | 1/4 [00:01<00:03,  1.09s/it]\u001b[A"
     ]
    },
    {
     "name": "stdout",
     "output_type": "stream",
     "text": [
      "(1352, 512)\n",
      "L18\n"
     ]
    },
    {
     "name": "stderr",
     "output_type": "stream",
     "text": [
      "\n",
      "\n",
      "  0%|          | 0/29 [00:00<?, ?it/s]\u001b[A\u001b[A"
     ]
    },
    {
     "name": "stdout",
     "output_type": "stream",
     "text": [
      "(1676, 512)\n"
     ]
    },
    {
     "name": "stderr",
     "output_type": "stream",
     "text": [
      "\n",
      "\n",
      " 10%|█         | 3/29 [00:00<00:01, 22.29it/s]\u001b[A\u001b[A"
     ]
    },
    {
     "name": "stdout",
     "output_type": "stream",
     "text": [
      "(1728, 512)\n",
      "(1468, 512)\n",
      "(1172, 512)\n",
      "(1460, 512)\n"
     ]
    },
    {
     "name": "stderr",
     "output_type": "stream",
     "text": [
      "\n",
      "\n",
      " 21%|██        | 6/29 [00:00<00:00, 23.98it/s]\u001b[A\u001b[A"
     ]
    },
    {
     "name": "stdout",
     "output_type": "stream",
     "text": [
      "(1340, 512)\n"
     ]
    },
    {
     "name": "stderr",
     "output_type": "stream",
     "text": [
      "\n",
      "\n",
      " 31%|███       | 9/29 [00:00<00:00, 23.40it/s]\u001b[A\u001b[A"
     ]
    },
    {
     "name": "stdout",
     "output_type": "stream",
     "text": [
      "(1700, 512)\n",
      "(1584, 512)\n",
      "(1394, 512)\n",
      "(1304, 512)\n",
      "(1572, 512)\n"
     ]
    },
    {
     "name": "stderr",
     "output_type": "stream",
     "text": [
      "\n",
      "\n",
      " 41%|████▏     | 12/29 [00:00<00:00, 22.06it/s]\u001b[A\u001b[A"
     ]
    },
    {
     "name": "stdout",
     "output_type": "stream",
     "text": [
      "(1594, 512)\n",
      "(1519, 512)\n",
      "(1472, 512)\n"
     ]
    },
    {
     "name": "stderr",
     "output_type": "stream",
     "text": [
      "\n",
      "\n",
      " 52%|█████▏    | 15/29 [00:00<00:00, 22.43it/s]\u001b[A\u001b[A"
     ]
    },
    {
     "name": "stdout",
     "output_type": "stream",
     "text": [
      "(1152, 512)\n",
      "(1332, 512)\n"
     ]
    },
    {
     "name": "stderr",
     "output_type": "stream",
     "text": [
      "\n",
      "\n",
      " 62%|██████▏   | 18/29 [00:00<00:00, 23.88it/s]\u001b[A\u001b[A"
     ]
    },
    {
     "name": "stdout",
     "output_type": "stream",
     "text": [
      "(1268, 512)\n",
      "(1404, 512)\n",
      "(1232, 512)\n",
      "(1312, 512)\n"
     ]
    },
    {
     "name": "stderr",
     "output_type": "stream",
     "text": [
      "\n",
      "\n",
      " 72%|███████▏  | 21/29 [00:00<00:00, 25.57it/s]\u001b[A\u001b[A"
     ]
    },
    {
     "name": "stdout",
     "output_type": "stream",
     "text": [
      "(1108, 512)\n",
      "(1320, 512)\n"
     ]
    },
    {
     "name": "stderr",
     "output_type": "stream",
     "text": [
      "\n",
      "\n",
      " 83%|████████▎ | 24/29 [00:00<00:00, 26.73it/s]\u001b[A\u001b[A"
     ]
    },
    {
     "name": "stdout",
     "output_type": "stream",
     "text": [
      "(1296, 512)\n",
      "(1120, 512)\n",
      "(1211, 512)\n",
      "(1320, 512)\n"
     ]
    },
    {
     "name": "stderr",
     "output_type": "stream",
     "text": [
      "\n",
      "\n",
      " 93%|█████████▎| 27/29 [00:01<00:00, 27.22it/s]\u001b[A\u001b[A"
     ]
    },
    {
     "name": "stdout",
     "output_type": "stream",
     "text": [
      "(1324, 512)\n",
      "(1276, 512)\n"
     ]
    },
    {
     "name": "stderr",
     "output_type": "stream",
     "text": [
      "100%|██████████| 29/29 [00:01<00:00, 25.27it/s]\n",
      "\n",
      " 50%|█████     | 2/4 [00:02<00:02,  1.14s/it]\u001b[A"
     ]
    },
    {
     "name": "stdout",
     "output_type": "stream",
     "text": [
      "(1092, 512)\n",
      "L19\n"
     ]
    },
    {
     "name": "stderr",
     "output_type": "stream",
     "text": [
      "\n",
      "\n",
      "  0%|          | 0/30 [00:00<?, ?it/s]\u001b[A\u001b[A"
     ]
    },
    {
     "name": "stdout",
     "output_type": "stream",
     "text": [
      "(1072, 512)\n",
      "(1421, 512)\n",
      "(975, 512)\n"
     ]
    },
    {
     "name": "stderr",
     "output_type": "stream",
     "text": [
      "\n",
      "\n",
      " 13%|█▎        | 4/30 [00:00<00:00, 30.55it/s]\u001b[A\u001b[A"
     ]
    },
    {
     "name": "stdout",
     "output_type": "stream",
     "text": [
      "(960, 512)\n",
      "(1092, 512)\n",
      "(1204, 512)\n",
      "(1008, 512)\n"
     ]
    },
    {
     "name": "stderr",
     "output_type": "stream",
     "text": [
      "\n",
      "\n",
      " 27%|██▋       | 8/30 [00:00<00:00, 31.07it/s]\u001b[A\u001b[A"
     ]
    },
    {
     "name": "stdout",
     "output_type": "stream",
     "text": [
      "(932, 512)\n",
      "(1016, 512)\n",
      "(1340, 512)\n",
      "(1396, 512)\n"
     ]
    },
    {
     "name": "stderr",
     "output_type": "stream",
     "text": [
      "\n",
      "\n",
      " 40%|████      | 12/30 [00:00<00:00, 27.39it/s]\u001b[A\u001b[A"
     ]
    },
    {
     "name": "stdout",
     "output_type": "stream",
     "text": [
      "(1336, 512)\n",
      "(1134, 512)\n",
      "(992, 512)\n",
      "(1196, 512)\n"
     ]
    },
    {
     "name": "stderr",
     "output_type": "stream",
     "text": [
      "\n",
      "\n",
      " 50%|█████     | 15/30 [00:00<00:00, 27.22it/s]\u001b[A\u001b[A"
     ]
    },
    {
     "name": "stdout",
     "output_type": "stream",
     "text": [
      "(1160, 512)\n",
      "(1036, 512)\n"
     ]
    },
    {
     "name": "stderr",
     "output_type": "stream",
     "text": [
      "\n",
      "\n",
      " 60%|██████    | 18/30 [00:00<00:00, 27.48it/s]\u001b[A\u001b[A"
     ]
    },
    {
     "name": "stdout",
     "output_type": "stream",
     "text": [
      "(1420, 512)\n",
      "(936, 512)\n"
     ]
    },
    {
     "name": "stderr",
     "output_type": "stream",
     "text": [
      "\n",
      "\n",
      " 70%|███████   | 21/30 [00:00<00:00, 28.17it/s]\u001b[A\u001b[A"
     ]
    },
    {
     "name": "stdout",
     "output_type": "stream",
     "text": [
      "(1228, 512)\n",
      "(1392, 512)\n",
      "(1124, 512)\n",
      "(1252, 512)\n",
      "(752, 512)\n"
     ]
    },
    {
     "name": "stderr",
     "output_type": "stream",
     "text": [
      "\n",
      "\n",
      " 83%|████████▎ | 25/30 [00:00<00:00, 30.54it/s]\u001b[A\u001b[A"
     ]
    },
    {
     "name": "stdout",
     "output_type": "stream",
     "text": [
      "(920, 512)\n",
      "(1288, 512)\n",
      "(788, 512)\n",
      "(1064, 512)\n"
     ]
    },
    {
     "name": "stderr",
     "output_type": "stream",
     "text": [
      "\n",
      "\n",
      " 97%|█████████▋| 29/30 [00:01<00:00, 28.10it/s]\u001b[A\u001b[A"
     ]
    },
    {
     "name": "stdout",
     "output_type": "stream",
     "text": [
      "(1076, 512)\n",
      "(1148, 512)\n"
     ]
    },
    {
     "name": "stderr",
     "output_type": "stream",
     "text": [
      "100%|██████████| 30/30 [00:01<00:00, 28.34it/s]\n",
      "\n",
      " 75%|███████▌  | 3/4 [00:03<00:01,  1.11s/it]\u001b[A"
     ]
    },
    {
     "name": "stdout",
     "output_type": "stream",
     "text": [
      "L20\n"
     ]
    },
    {
     "name": "stderr",
     "output_type": "stream",
     "text": [
      "\n",
      "\n",
      "  0%|          | 0/29 [00:00<?, ?it/s]\u001b[A\u001b[A"
     ]
    },
    {
     "name": "stdout",
     "output_type": "stream",
     "text": [
      "(1480, 512)\n"
     ]
    },
    {
     "name": "stderr",
     "output_type": "stream",
     "text": [
      "\n",
      "\n",
      " 10%|█         | 3/29 [00:00<00:00, 28.34it/s]\u001b[A\u001b[A"
     ]
    },
    {
     "name": "stdout",
     "output_type": "stream",
     "text": [
      "(856, 512)\n",
      "(1208, 512)\n",
      "(1360, 512)\n",
      "(986, 512)\n"
     ]
    },
    {
     "name": "stderr",
     "output_type": "stream",
     "text": [
      "\n",
      "\n",
      " 21%|██        | 6/29 [00:00<00:00, 28.73it/s]\u001b[A\u001b[A"
     ]
    },
    {
     "name": "stdout",
     "output_type": "stream",
     "text": [
      "(1372, 512)\n",
      "(1412, 512)\n",
      "(1110, 512)\n",
      "(1320, 512)\n"
     ]
    },
    {
     "name": "stderr",
     "output_type": "stream",
     "text": [
      "\n",
      "\n",
      " 31%|███       | 9/29 [00:00<00:00, 25.68it/s]\u001b[A\u001b[A"
     ]
    },
    {
     "name": "stdout",
     "output_type": "stream",
     "text": [
      "(1120, 512)\n",
      "(1324, 512)\n",
      "(912, 512)\n"
     ]
    },
    {
     "name": "stderr",
     "output_type": "stream",
     "text": [
      "\n",
      "\n",
      " 45%|████▍     | 13/29 [00:00<00:00, 27.40it/s]"
     ]
    },
    {
     "name": "stdout",
     "output_type": "stream",
     "text": [
      "(1280, 512)\n"
     ]
    },
    {
     "name": "stderr",
     "output_type": "stream",
     "text": [
      "\u001b[A\u001b[A"
     ]
    },
    {
     "name": "stdout",
     "output_type": "stream",
     "text": [
      "(1192, 512)\n",
      "(1178, 512)\n"
     ]
    },
    {
     "name": "stderr",
     "output_type": "stream",
     "text": [
      "\n",
      "\n",
      " 59%|█████▊    | 17/29 [00:00<00:00, 28.40it/s]\u001b[A\u001b[A"
     ]
    },
    {
     "name": "stdout",
     "output_type": "stream",
     "text": [
      "(932, 512)\n",
      "(1216, 512)\n",
      "(1180, 512)\n",
      "(1168, 512)\n",
      "(1516, 512)\n"
     ]
    },
    {
     "name": "stderr",
     "output_type": "stream",
     "text": [
      "\n",
      "\n",
      " 69%|██████▉   | 20/29 [00:00<00:00, 28.53it/s]\u001b[A\u001b[A"
     ]
    },
    {
     "name": "stdout",
     "output_type": "stream",
     "text": [
      "(1440, 512)\n"
     ]
    },
    {
     "name": "stderr",
     "output_type": "stream",
     "text": [
      "\n",
      "\n",
      " 79%|███████▉  | 23/29 [00:00<00:00, 27.31it/s]\u001b[A\u001b[A"
     ]
    },
    {
     "name": "stdout",
     "output_type": "stream",
     "text": [
      "(1192, 512)\n",
      "(1315, 512)\n",
      "(1540, 512)\n",
      "(1259, 512)\n"
     ]
    },
    {
     "name": "stderr",
     "output_type": "stream",
     "text": [
      "\n",
      "\n",
      " 90%|████████▉ | 26/29 [00:00<00:00, 25.50it/s]\u001b[A\u001b[A"
     ]
    },
    {
     "name": "stdout",
     "output_type": "stream",
     "text": [
      "(1176, 512)\n",
      "(1328, 512)\n",
      "(992, 512)\n",
      "(1328, 512)\n"
     ]
    },
    {
     "name": "stderr",
     "output_type": "stream",
     "text": [
      "\n",
      "\n",
      "100%|██████████| 29/29 [00:01<00:00, 26.65it/s]\n",
      "\n",
      "100%|██████████| 4/4 [00:04<00:00,  1.11s/it]\n",
      " 75%|███████▌  | 3/4 [00:26<00:07,  7.53s/it]\n",
      "  0%|          | 0/4 [00:00<?, ?it/s]\u001b[A"
     ]
    },
    {
     "name": "stdout",
     "output_type": "stream",
     "text": [
      "L21\n"
     ]
    },
    {
     "name": "stderr",
     "output_type": "stream",
     "text": [
      "\n",
      "\n",
      "  0%|          | 0/29 [00:00<?, ?it/s]\u001b[A\u001b[A"
     ]
    },
    {
     "name": "stdout",
     "output_type": "stream",
     "text": [
      "(1344, 512)\n",
      "(1124, 512)\n"
     ]
    },
    {
     "name": "stderr",
     "output_type": "stream",
     "text": [
      "\n",
      "\n",
      " 10%|█         | 3/29 [00:00<00:00, 29.52it/s]\u001b[A\u001b[A"
     ]
    },
    {
     "name": "stdout",
     "output_type": "stream",
     "text": [
      "(1020, 512)\n",
      "(992, 512)\n",
      "(1072, 512)\n",
      "(836, 512)\n"
     ]
    },
    {
     "name": "stderr",
     "output_type": "stream",
     "text": [
      "\n",
      "\n",
      " 24%|██▍       | 7/29 [00:00<00:00, 29.24it/s]\u001b[A\u001b[A"
     ]
    },
    {
     "name": "stdout",
     "output_type": "stream",
     "text": [
      "(1404, 512)\n",
      "(1224, 512)\n"
     ]
    },
    {
     "name": "stderr",
     "output_type": "stream",
     "text": [
      "\n",
      "\n",
      " 34%|███▍      | 10/29 [00:00<00:00, 26.23it/s]\u001b[A\u001b[A"
     ]
    },
    {
     "name": "stdout",
     "output_type": "stream",
     "text": [
      "(1112, 512)\n",
      "(1118, 512)\n",
      "(972, 512)\n",
      "(1200, 512)\n"
     ]
    },
    {
     "name": "stderr",
     "output_type": "stream",
     "text": [
      "\n",
      "\n",
      " 45%|████▍     | 13/29 [00:00<00:00, 25.61it/s]\u001b[A\u001b[A"
     ]
    },
    {
     "name": "stdout",
     "output_type": "stream",
     "text": [
      "(1238, 512)\n"
     ]
    },
    {
     "name": "stderr",
     "output_type": "stream",
     "text": [
      "\n",
      "\n",
      " 55%|█████▌    | 16/29 [00:00<00:00, 25.08it/s]\u001b[A\u001b[A"
     ]
    },
    {
     "name": "stdout",
     "output_type": "stream",
     "text": [
      "(1324, 512)\n",
      "(1180, 512)\n",
      "(900, 512)\n",
      "(1332, 512)\n",
      "(988, 512)\n"
     ]
    },
    {
     "name": "stderr",
     "output_type": "stream",
     "text": [
      "\n",
      "\n",
      " 66%|██████▌   | 19/29 [00:00<00:00, 26.15it/s]\u001b[A\u001b[A"
     ]
    },
    {
     "name": "stdout",
     "output_type": "stream",
     "text": [
      "(972, 512)\n"
     ]
    },
    {
     "name": "stderr",
     "output_type": "stream",
     "text": [
      "\n",
      "\n",
      " 76%|███████▌  | 22/29 [00:00<00:00, 27.00it/s]\u001b[A\u001b[A"
     ]
    },
    {
     "name": "stdout",
     "output_type": "stream",
     "text": [
      "(810, 512)\n",
      "(1194, 512)\n",
      "(1274, 512)\n",
      "(1200, 512)\n",
      "(1384, 512)\n"
     ]
    },
    {
     "name": "stderr",
     "output_type": "stream",
     "text": [
      "\n",
      "\n",
      " 86%|████████▌ | 25/29 [00:00<00:00, 27.71it/s]\u001b[A\u001b[A"
     ]
    },
    {
     "name": "stdout",
     "output_type": "stream",
     "text": [
      "(1212, 512)\n"
     ]
    },
    {
     "name": "stderr",
     "output_type": "stream",
     "text": [
      "\n",
      "\n",
      "100%|██████████| 29/29 [00:01<00:00, 27.21it/s]\n",
      "\n",
      " 25%|██▌       | 1/4 [00:01<00:03,  1.08s/it]\u001b[A"
     ]
    },
    {
     "name": "stdout",
     "output_type": "stream",
     "text": [
      "(960, 512)\n",
      "(1128, 512)\n",
      "(1096, 512)\n",
      "(1276, 512)\n",
      "L22\n"
     ]
    },
    {
     "name": "stderr",
     "output_type": "stream",
     "text": [
      "\n",
      "\n",
      "  0%|          | 0/31 [00:00<?, ?it/s]\u001b[A\u001b[A"
     ]
    },
    {
     "name": "stdout",
     "output_type": "stream",
     "text": [
      "(1464, 512)\n",
      "(1216, 512)\n"
     ]
    },
    {
     "name": "stderr",
     "output_type": "stream",
     "text": [
      "\n",
      "\n",
      " 10%|▉         | 3/31 [00:00<00:01, 27.53it/s]\u001b[A\u001b[A"
     ]
    },
    {
     "name": "stdout",
     "output_type": "stream",
     "text": [
      "(1384, 512)\n",
      "(1604, 512)\n",
      "(1036, 512)\n",
      "(1424, 512)\n"
     ]
    },
    {
     "name": "stderr",
     "output_type": "stream",
     "text": [
      "\n",
      "\n",
      " 19%|█▉        | 6/31 [00:00<00:00, 25.44it/s]\u001b[A\u001b[A"
     ]
    },
    {
     "name": "stdout",
     "output_type": "stream",
     "text": [
      "(1344, 512)\n",
      "(1172, 512)\n"
     ]
    },
    {
     "name": "stderr",
     "output_type": "stream",
     "text": [
      "\n",
      "\n",
      " 29%|██▉       | 9/31 [00:00<00:00, 26.63it/s]\u001b[A\u001b[A\n",
      "\n",
      " 39%|███▊      | 12/31 [00:00<00:00, 26.04it/s]\u001b[A\u001b[A"
     ]
    },
    {
     "name": "stdout",
     "output_type": "stream",
     "text": [
      "(1044, 512)\n",
      "(1228, 512)\n",
      "(1280, 512)\n",
      "(1386, 512)\n",
      "(1472, 512)\n",
      "(1164, 512)\n"
     ]
    },
    {
     "name": "stderr",
     "output_type": "stream",
     "text": [
      "\n",
      "\n",
      " 48%|████▊     | 15/31 [00:00<00:00, 26.18it/s]\u001b[A\u001b[A"
     ]
    },
    {
     "name": "stdout",
     "output_type": "stream",
     "text": [
      "(1390, 512)\n",
      "(1676, 512)\n",
      "(1152, 512)\n",
      "(1531, 512)\n"
     ]
    },
    {
     "name": "stderr",
     "output_type": "stream",
     "text": [
      "\n",
      "\n",
      " 58%|█████▊    | 18/31 [00:00<00:00, 25.10it/s]\u001b[A\u001b[A"
     ]
    },
    {
     "name": "stdout",
     "output_type": "stream",
     "text": [
      "(1246, 512)\n"
     ]
    },
    {
     "name": "stderr",
     "output_type": "stream",
     "text": [
      "\n",
      "\n",
      " 68%|██████▊   | 21/31 [00:00<00:00, 25.15it/s]\u001b[A\u001b[A"
     ]
    },
    {
     "name": "stdout",
     "output_type": "stream",
     "text": [
      "(1380, 512)\n",
      "(1412, 512)\n",
      "(1288, 512)\n",
      "(1237, 512)\n",
      "(1316, 512)\n"
     ]
    },
    {
     "name": "stderr",
     "output_type": "stream",
     "text": [
      "\n",
      "\n",
      " 77%|███████▋  | 24/31 [00:00<00:00, 25.16it/s]\u001b[A\u001b[A"
     ]
    },
    {
     "name": "stdout",
     "output_type": "stream",
     "text": [
      "(1270, 512)\n"
     ]
    },
    {
     "name": "stderr",
     "output_type": "stream",
     "text": [
      "\n",
      "\n",
      " 87%|████████▋ | 27/31 [00:01<00:00, 25.24it/s]\u001b[A\u001b[A"
     ]
    },
    {
     "name": "stdout",
     "output_type": "stream",
     "text": [
      "(1241, 512)\n",
      "(1064, 512)\n",
      "(1352, 512)\n",
      "(1176, 512)\n",
      "(1180, 512)\n"
     ]
    },
    {
     "name": "stderr",
     "output_type": "stream",
     "text": [
      "\n",
      "\n",
      " 97%|█████████▋| 30/31 [00:01<00:00, 25.11it/s]\u001b[A\u001b[A"
     ]
    },
    {
     "name": "stdout",
     "output_type": "stream",
     "text": [
      "(1248, 512)\n"
     ]
    },
    {
     "name": "stderr",
     "output_type": "stream",
     "text": [
      "100%|██████████| 31/31 [00:01<00:00, 25.49it/s]\n",
      "\n",
      " 50%|█████     | 2/4 [00:02<00:02,  1.17s/it]\u001b[A"
     ]
    },
    {
     "name": "stdout",
     "output_type": "stream",
     "text": [
      "L23\n"
     ]
    },
    {
     "name": "stderr",
     "output_type": "stream",
     "text": [
      "\n",
      "\n",
      "  0%|          | 0/25 [00:00<?, ?it/s]\u001b[A\u001b[A\n",
      "\n",
      "100%|██████████| 25/25 [00:00<00:00, 147.21it/s]\n",
      "\n",
      " 75%|███████▌  | 3/4 [00:02<00:00,  1.39it/s]\u001b[A"
     ]
    },
    {
     "name": "stdout",
     "output_type": "stream",
     "text": [
      "(68, 512)\n",
      "(152, 512)\n",
      "(108, 512)\n",
      "(140, 512)\n",
      "(96, 512)\n",
      "(116, 512)\n",
      "(172, 512)\n",
      "(52, 512)\n",
      "(64, 512)\n",
      "(92, 512)\n",
      "(112, 512)\n",
      "(112, 512)\n",
      "(103, 512)\n",
      "(96, 512)\n",
      "(72, 512)\n",
      "(96, 512)\n",
      "(108, 512)\n",
      "(116, 512)\n",
      "(139, 512)\n",
      "(148, 512)\n",
      "(192, 512)\n",
      "(104, 512)\n",
      "(112, 512)\n",
      "(103, 512)\n",
      "(276, 512)\n",
      "L24\n"
     ]
    },
    {
     "name": "stderr",
     "output_type": "stream",
     "text": [
      "\n",
      "\n",
      "  0%|          | 0/43 [00:00<?, ?it/s]\u001b[A\u001b[A"
     ]
    },
    {
     "name": "stdout",
     "output_type": "stream",
     "text": [
      "(332, 512)\n"
     ]
    },
    {
     "name": "stderr",
     "output_type": "stream",
     "text": [
      "\n",
      "\n",
      " 21%|██        | 9/43 [00:00<00:00, 83.18it/s]\u001b[A\u001b[A"
     ]
    },
    {
     "name": "stdout",
     "output_type": "stream",
     "text": [
      "(364, 512)\n",
      "(408, 512)\n",
      "(260, 512)\n",
      "(184, 512)\n",
      "(196, 512)\n",
      "(208, 512)\n",
      "(216, 512)\n",
      "(176, 512)\n",
      "(292, 512)\n",
      "(60, 512)\n",
      "(204, 512)\n",
      "(204, 512)\n",
      "(276, 512)\n",
      "(180, 512)\n",
      "(152, 512)\n",
      "(286, 512)\n",
      "(192, 512)\n",
      "(196, 512)\n"
     ]
    },
    {
     "name": "stderr",
     "output_type": "stream",
     "text": [
      "\n",
      "\n",
      " 47%|████▋     | 20/43 [00:00<00:00, 93.08it/s]\u001b[A\u001b[A"
     ]
    },
    {
     "name": "stdout",
     "output_type": "stream",
     "text": [
      "(192, 512)\n"
     ]
    },
    {
     "name": "stderr",
     "output_type": "stream",
     "text": [
      "\n",
      "\n",
      " 70%|██████▉   | 30/43 [00:00<00:00, 91.87it/s]\u001b[A\u001b[A"
     ]
    },
    {
     "name": "stdout",
     "output_type": "stream",
     "text": [
      "(220, 512)\n",
      "(232, 512)\n",
      "(216, 512)\n",
      "(208, 512)\n",
      "(256, 512)\n",
      "(204, 512)\n",
      "(276, 512)\n",
      "(240, 512)\n",
      "(260, 512)\n",
      "(280, 512)\n",
      "(284, 512)\n",
      "(240, 512)\n",
      "(256, 512)\n",
      "(108, 512)\n",
      "(240, 512)\n",
      "(192, 512)\n",
      "(184, 512)\n",
      "(31, 512)\n",
      "(44, 512)\n",
      "(288, 512)\n"
     ]
    },
    {
     "name": "stderr",
     "output_type": "stream",
     "text": [
      "\n",
      "\n",
      "100%|██████████| 43/43 [00:00<00:00, 95.89it/s]\n",
      "\n",
      "100%|██████████| 4/4 [00:02<00:00,  1.35it/s]\n",
      "100%|██████████| 4/4 [00:29<00:00,  7.38s/it]\n"
     ]
    },
    {
     "name": "stdout",
     "output_type": "stream",
     "text": [
      "(336, 512)\n",
      "(62, 512)\n",
      "(48, 512)\n"
     ]
    }
   ],
   "source": [
    "feature_shape = 512\n",
    "# features_dir_list = ['/kaggle/input/vit-l14336px-0102', '/kaggle/input/clipv1-3-4', '/kaggle/input/clipv1-5-8', '/kaggle/input/clipv1-9-12']\n",
    "features_dir_list = ['/kaggle/input/clip-features',  '/kaggle/input/clipv1-13-16-b16', '/kaggle/input/clipv1-17-20-b16', '/kaggle/input/clip-21-24']\n",
    "index = faiss.IndexFlatIP(feature_shape)\n",
    "\n",
    "for features_dir in tqdm(features_dir_list):\n",
    "    features_dir = os.path.join(features_dir, \"CLIP_features\")\n",
    "    for data_part in tqdm(sorted(os.listdir(features_dir))):\n",
    "        print(data_part)\n",
    "        for feature_path in tqdm(sorted(glob.glob(os.path.join(features_dir, data_part) +'/*.npy'))):\n",
    "            feats = np.load(feature_path)\n",
    "            print(feats.shape)\n",
    "            for feat in feats:\n",
    "                feat = feat.astype(np.float32).reshape(1,-1)\n",
    "                index.add(feat)\n",
    "\n",
    "# faiss.write_index(index, f\"faiss_clip_batch_1.bin\")\n",
    "faiss.write_index(index, f\"faiss_clip.bin\")"
   ]
  },
  {
   "cell_type": "code",
   "execution_count": 4,
   "id": "62154056",
   "metadata": {
    "execution": {
     "iopub.execute_input": "2024-09-27T15:38:02.000908Z",
     "iopub.status.busy": "2024-09-27T15:38:02.000458Z",
     "iopub.status.idle": "2024-09-27T15:38:02.005992Z",
     "shell.execute_reply": "2024-09-27T15:38:02.004945Z"
    },
    "papermill": {
     "duration": 0.121834,
     "end_time": "2024-09-27T15:38:02.008345",
     "exception": false,
     "start_time": "2024-09-27T15:38:01.886511",
     "status": "completed"
    },
    "tags": []
   },
   "outputs": [],
   "source": [
    "# feature_shape = 512\n",
    "# features_dir_list = ['/kaggle/input/clipv1-13-16-b16', '/kaggle/input/clipv1-17-20-b16', '/kaggle/input/clip-21-24']\n",
    "# # features_dir_list = ['/kaggle/input/clipv1-13-16', '/kaggle/input/clipv1-17-20', '/kaggle/input/clipv1-21-24']\n",
    "# index = faiss.IndexFlatIP(feature_shape)\n",
    "\n",
    "# for features_dir in tqdm(sorted(features_dir_list)):\n",
    "#     features_dir = os.path.join(features_dir, \"CLIP_features\")\n",
    "#     for data_part in tqdm(sorted(os.listdir(features_dir))):\n",
    "#         print(data_part)\n",
    "#         for feature_path in tqdm(sorted(glob.glob(os.path.join(features_dir, data_part) +'/*.npy'))):\n",
    "#             feats = np.load(feature_path)\n",
    "#             print(feats.shape)\n",
    "#             for feat in feats:\n",
    "#                 feat = feat.astype(np.float32).reshape(1,-1)\n",
    "#                 index.add(feat)\n",
    "\n",
    "# faiss.write_index(index, f\"faiss_clip_batch_2.bin\")"
   ]
  },
  {
   "cell_type": "markdown",
   "id": "00def56e",
   "metadata": {
    "papermill": {
     "duration": 0.112414,
     "end_time": "2024-09-27T15:38:02.232689",
     "exception": false,
     "start_time": "2024-09-27T15:38:02.120275",
     "status": "completed"
    },
    "tags": []
   },
   "source": [
    "# Clip (open_clip)"
   ]
  },
  {
   "cell_type": "code",
   "execution_count": 5,
   "id": "ba8eaeab",
   "metadata": {
    "execution": {
     "iopub.execute_input": "2024-09-27T15:38:02.456722Z",
     "iopub.status.busy": "2024-09-27T15:38:02.456248Z",
     "iopub.status.idle": "2024-09-27T15:39:04.021248Z",
     "shell.execute_reply": "2024-09-27T15:39:04.019751Z"
    },
    "papermill": {
     "duration": 61.680877,
     "end_time": "2024-09-27T15:39:04.024940",
     "exception": false,
     "start_time": "2024-09-27T15:38:02.344063",
     "status": "completed"
    },
    "tags": []
   },
   "outputs": [
    {
     "name": "stderr",
     "output_type": "stream",
     "text": [
      "  0%|          | 0/8 [00:00<?, ?it/s]\n",
      "  0%|          | 0/2 [00:00<?, ?it/s]\u001b[A"
     ]
    },
    {
     "name": "stdout",
     "output_type": "stream",
     "text": [
      "L01\n"
     ]
    },
    {
     "name": "stderr",
     "output_type": "stream",
     "text": [
      "\n",
      "\n",
      "  0%|          | 0/31 [00:00<?, ?it/s]\u001b[A\u001b[A\n",
      "\n",
      "  6%|▋         | 2/31 [00:00<00:01, 18.92it/s]\u001b[A\u001b[A\n",
      "\n",
      " 13%|█▎        | 4/31 [00:00<00:01, 16.95it/s]\u001b[A\u001b[A\n",
      "\n",
      " 19%|█▉        | 6/31 [00:00<00:01, 15.37it/s]\u001b[A\u001b[A\n",
      "\n",
      " 26%|██▌       | 8/31 [00:00<00:01, 14.85it/s]\u001b[A\u001b[A\n",
      "\n",
      " 32%|███▏      | 10/31 [00:00<00:01, 14.87it/s]\u001b[A\u001b[A\n",
      "\n",
      " 39%|███▊      | 12/31 [00:00<00:01, 14.17it/s]\u001b[A\u001b[A\n",
      "\n",
      " 45%|████▌     | 14/31 [00:00<00:01, 13.13it/s]\u001b[A\u001b[A\n",
      "\n",
      " 52%|█████▏    | 16/31 [00:01<00:01, 14.64it/s]\u001b[A\u001b[A\n",
      "\n",
      " 58%|█████▊    | 18/31 [00:01<00:00, 15.15it/s]\u001b[A\u001b[A\n",
      "\n",
      " 65%|██████▍   | 20/31 [00:01<00:00, 15.06it/s]\u001b[A\u001b[A\n",
      "\n",
      " 71%|███████   | 22/31 [00:01<00:00, 13.92it/s]\u001b[A\u001b[A\n",
      "\n",
      " 77%|███████▋  | 24/31 [00:01<00:00, 14.01it/s]\u001b[A\u001b[A\n",
      "\n",
      " 87%|████████▋ | 27/31 [00:01<00:00, 15.50it/s]\u001b[A\u001b[A\n",
      "\n",
      " 94%|█████████▎| 29/31 [00:02<00:00, 12.73it/s]\u001b[A\u001b[A\n",
      "\n",
      "100%|██████████| 31/31 [00:02<00:00, 14.22it/s]\n",
      "\n",
      " 50%|█████     | 1/2 [00:02<00:02,  2.20s/it]\u001b[A"
     ]
    },
    {
     "name": "stdout",
     "output_type": "stream",
     "text": [
      "L02\n"
     ]
    },
    {
     "name": "stderr",
     "output_type": "stream",
     "text": [
      "\n",
      "\n",
      "  0%|          | 0/31 [00:00<?, ?it/s]\u001b[A\u001b[A\n",
      "\n",
      "  6%|▋         | 2/31 [00:00<00:01, 17.58it/s]\u001b[A\u001b[A\n",
      "\n",
      " 13%|█▎        | 4/31 [00:00<00:01, 16.42it/s]\u001b[A\u001b[A\n",
      "\n",
      " 19%|█▉        | 6/31 [00:00<00:01, 16.58it/s]\u001b[A\u001b[A\n",
      "\n",
      " 26%|██▌       | 8/31 [00:00<00:01, 16.78it/s]\u001b[A\u001b[A\n",
      "\n",
      " 32%|███▏      | 10/31 [00:00<00:01, 15.50it/s]\u001b[A\u001b[A\n",
      "\n",
      " 39%|███▊      | 12/31 [00:00<00:01, 15.84it/s]\u001b[A\u001b[A\n",
      "\n",
      " 45%|████▌     | 14/31 [00:00<00:01, 15.96it/s]\u001b[A\u001b[A\n",
      "\n",
      " 55%|█████▍    | 17/31 [00:01<00:00, 16.27it/s]\u001b[A\u001b[A\n",
      "\n",
      " 61%|██████▏   | 19/31 [00:01<00:00, 16.95it/s]\u001b[A\u001b[A\n",
      "\n",
      " 68%|██████▊   | 21/31 [00:01<00:00, 17.22it/s]\u001b[A\u001b[A\n",
      "\n",
      " 74%|███████▍  | 23/31 [00:01<00:00, 10.29it/s]\u001b[A\u001b[A\n",
      "\n",
      " 81%|████████  | 25/31 [00:01<00:00, 11.81it/s]\u001b[A\u001b[A\n",
      "\n",
      " 87%|████████▋ | 27/31 [00:01<00:00, 12.66it/s]\u001b[A\u001b[A\n",
      "\n",
      " 94%|█████████▎| 29/31 [00:02<00:00, 13.62it/s]\u001b[A\u001b[A\n",
      "\n",
      "100%|██████████| 31/31 [00:02<00:00, 14.33it/s]\n",
      "\n",
      "100%|██████████| 2/2 [00:04<00:00,  2.19s/it]\n",
      " 12%|█▎        | 1/8 [00:04<00:30,  4.38s/it]\n",
      "  0%|          | 0/2 [00:00<?, ?it/s]\u001b[A"
     ]
    },
    {
     "name": "stdout",
     "output_type": "stream",
     "text": [
      "L11\n"
     ]
    },
    {
     "name": "stderr",
     "output_type": "stream",
     "text": [
      "\n",
      "\n",
      "  0%|          | 0/30 [00:00<?, ?it/s]\u001b[A\u001b[A\n",
      "\n",
      "  7%|▋         | 2/30 [00:00<00:02, 12.86it/s]\u001b[A\u001b[A\n",
      "\n",
      " 13%|█▎        | 4/30 [00:00<00:01, 15.05it/s]\u001b[A\u001b[A\n",
      "\n",
      " 20%|██        | 6/30 [00:00<00:01, 16.27it/s]\u001b[A\u001b[A\n",
      "\n",
      " 27%|██▋       | 8/30 [00:00<00:01, 16.63it/s]\u001b[A\u001b[A\n",
      "\n",
      " 33%|███▎      | 10/30 [00:00<00:01, 16.91it/s]\u001b[A\u001b[A\n",
      "\n",
      " 40%|████      | 12/30 [00:00<00:01, 16.38it/s]\u001b[A\u001b[A\n",
      "\n",
      " 47%|████▋     | 14/30 [00:00<00:00, 16.56it/s]\u001b[A\u001b[A\n",
      "\n",
      " 53%|█████▎    | 16/30 [00:00<00:00, 17.14it/s]\u001b[A\u001b[A\n",
      "\n",
      " 60%|██████    | 18/30 [00:01<00:00, 16.59it/s]\u001b[A\u001b[A\n",
      "\n",
      " 67%|██████▋   | 20/30 [00:01<00:00, 16.82it/s]\u001b[A\u001b[A\n",
      "\n",
      " 73%|███████▎  | 22/30 [00:01<00:00, 16.85it/s]\u001b[A\u001b[A\n",
      "\n",
      " 80%|████████  | 24/30 [00:01<00:00, 16.48it/s]\u001b[A\u001b[A\n",
      "\n",
      " 87%|████████▋ | 26/30 [00:01<00:00, 16.07it/s]\u001b[A\u001b[A\n",
      "\n",
      " 93%|█████████▎| 28/30 [00:01<00:00, 15.87it/s]\u001b[A\u001b[A\n",
      "\n",
      "100%|██████████| 30/30 [00:01<00:00, 16.25it/s]\n",
      "\n",
      " 50%|█████     | 1/2 [00:01<00:01,  1.86s/it]\u001b[A"
     ]
    },
    {
     "name": "stdout",
     "output_type": "stream",
     "text": [
      "L12\n"
     ]
    },
    {
     "name": "stderr",
     "output_type": "stream",
     "text": [
      "\n",
      "\n",
      "  0%|          | 0/30 [00:00<?, ?it/s]\u001b[A\u001b[A\n",
      "\n",
      "  7%|▋         | 2/30 [00:00<00:01, 15.00it/s]\u001b[A\u001b[A\n",
      "\n",
      " 13%|█▎        | 4/30 [00:00<00:01, 14.38it/s]\u001b[A\u001b[A\n",
      "\n",
      " 20%|██        | 6/30 [00:00<00:01, 13.37it/s]\u001b[A\u001b[A\n",
      "\n",
      " 27%|██▋       | 8/30 [00:00<00:01, 14.33it/s]\u001b[A\u001b[A\n",
      "\n",
      " 33%|███▎      | 10/30 [00:00<00:01, 14.21it/s]\u001b[A\u001b[A\n",
      "\n",
      " 40%|████      | 12/30 [00:01<00:02,  6.31it/s]\u001b[A\u001b[A\n",
      "\n",
      " 47%|████▋     | 14/30 [00:01<00:02,  7.78it/s]\u001b[A\u001b[A\n",
      "\n",
      " 53%|█████▎    | 16/30 [00:01<00:01,  9.24it/s]\u001b[A\u001b[A\n",
      "\n",
      " 60%|██████    | 18/30 [00:01<00:01, 10.27it/s]\u001b[A\u001b[A\n",
      "\n",
      " 67%|██████▋   | 20/30 [00:01<00:00, 11.61it/s]\u001b[A\u001b[A\n",
      "\n",
      " 73%|███████▎  | 22/30 [00:02<00:00, 12.25it/s]\u001b[A\u001b[A\n",
      "\n",
      " 80%|████████  | 24/30 [00:02<00:00, 13.13it/s]\u001b[A\u001b[A\n",
      "\n",
      " 87%|████████▋ | 26/30 [00:02<00:00, 14.12it/s]\u001b[A\u001b[A\n",
      "\n",
      " 93%|█████████▎| 28/30 [00:02<00:00, 13.99it/s]\u001b[A\u001b[A\n",
      "\n",
      "100%|██████████| 30/30 [00:02<00:00, 11.62it/s]\n",
      "\n",
      "100%|██████████| 2/2 [00:04<00:00,  2.23s/it]\n",
      " 25%|██▌       | 2/8 [00:08<00:26,  4.43s/it]\n",
      "  0%|          | 0/2 [00:00<?, ?it/s]\u001b[A"
     ]
    },
    {
     "name": "stdout",
     "output_type": "stream",
     "text": [
      "L03\n"
     ]
    },
    {
     "name": "stderr",
     "output_type": "stream",
     "text": [
      "\n",
      "\n",
      "  0%|          | 0/30 [00:00<?, ?it/s]\u001b[A\u001b[A\n",
      "\n",
      "  7%|▋         | 2/30 [00:00<00:01, 15.30it/s]\u001b[A\u001b[A\n",
      "\n",
      " 13%|█▎        | 4/30 [00:00<00:01, 15.40it/s]\u001b[A\u001b[A\n",
      "\n",
      " 20%|██        | 6/30 [00:00<00:01, 15.40it/s]\u001b[A\u001b[A\n",
      "\n",
      " 27%|██▋       | 8/30 [00:00<00:01, 15.65it/s]\u001b[A\u001b[A\n",
      "\n",
      " 33%|███▎      | 10/30 [00:00<00:01, 15.15it/s]\u001b[A\u001b[A\n",
      "\n",
      " 40%|████      | 12/30 [00:00<00:01, 15.90it/s]\u001b[A\u001b[A\n",
      "\n",
      " 47%|████▋     | 14/30 [00:00<00:01, 15.55it/s]\u001b[A\u001b[A\n",
      "\n",
      " 53%|█████▎    | 16/30 [00:01<00:00, 15.39it/s]\u001b[A\u001b[A\n",
      "\n",
      " 60%|██████    | 18/30 [00:01<00:00, 16.29it/s]\u001b[A\u001b[A\n",
      "\n",
      " 67%|██████▋   | 20/30 [00:01<00:00, 16.83it/s]\u001b[A\u001b[A\n",
      "\n",
      " 73%|███████▎  | 22/30 [00:01<00:00, 16.92it/s]\u001b[A\u001b[A\n",
      "\n",
      " 80%|████████  | 24/30 [00:01<00:00, 16.53it/s]\u001b[A\u001b[A\n",
      "\n",
      " 87%|████████▋ | 26/30 [00:01<00:00, 16.14it/s]\u001b[A\u001b[A\n",
      "\n",
      " 93%|█████████▎| 28/30 [00:01<00:00, 16.50it/s]\u001b[A\u001b[A\n",
      "\n",
      "100%|██████████| 30/30 [00:01<00:00, 16.07it/s]\n",
      "\n",
      " 50%|█████     | 1/2 [00:01<00:01,  1.89s/it]\u001b[A"
     ]
    },
    {
     "name": "stdout",
     "output_type": "stream",
     "text": [
      "L04\n"
     ]
    },
    {
     "name": "stderr",
     "output_type": "stream",
     "text": [
      "\n",
      "\n",
      "  0%|          | 0/30 [00:00<?, ?it/s]\u001b[A\u001b[A\n",
      "\n",
      "  7%|▋         | 2/30 [00:00<00:01, 14.51it/s]\u001b[A\u001b[A\n",
      "\n",
      " 13%|█▎        | 4/30 [00:00<00:01, 14.94it/s]\u001b[A\u001b[A\n",
      "\n",
      " 20%|██        | 6/30 [00:00<00:01, 16.05it/s]\u001b[A\u001b[A\n",
      "\n",
      " 27%|██▋       | 8/30 [00:00<00:01, 16.55it/s]\u001b[A\u001b[A\n",
      "\n",
      " 33%|███▎      | 10/30 [00:00<00:01, 17.30it/s]\u001b[A\u001b[A\n",
      "\n",
      " 40%|████      | 12/30 [00:00<00:01, 16.92it/s]\u001b[A\u001b[A\n",
      "\n",
      " 47%|████▋     | 14/30 [00:00<00:01, 15.67it/s]\u001b[A\u001b[A\n",
      "\n",
      " 53%|█████▎    | 16/30 [00:01<00:00, 15.69it/s]\u001b[A\u001b[A\n",
      "\n",
      " 60%|██████    | 18/30 [00:01<00:00, 15.03it/s]\u001b[A\u001b[A\n",
      "\n",
      " 67%|██████▋   | 20/30 [00:01<00:00, 15.19it/s]\u001b[A\u001b[A\n",
      "\n",
      " 73%|███████▎  | 22/30 [00:01<00:00, 15.69it/s]\u001b[A\u001b[A\n",
      "\n",
      " 80%|████████  | 24/30 [00:01<00:00, 15.60it/s]\u001b[A\u001b[A\n",
      "\n",
      " 87%|████████▋ | 26/30 [00:01<00:00, 16.49it/s]\u001b[A\u001b[A\n",
      "\n",
      " 93%|█████████▎| 28/30 [00:01<00:00, 16.37it/s]\u001b[A\u001b[A\n",
      "\n",
      "100%|██████████| 30/30 [00:01<00:00, 15.98it/s]\n",
      "\n",
      "100%|██████████| 2/2 [00:03<00:00,  1.89s/it]\n",
      " 38%|███▊      | 3/8 [00:12<00:20,  4.14s/it]\n",
      "  0%|          | 0/2 [00:00<?, ?it/s]\u001b[A"
     ]
    },
    {
     "name": "stdout",
     "output_type": "stream",
     "text": [
      "L05\n"
     ]
    },
    {
     "name": "stderr",
     "output_type": "stream",
     "text": [
      "\n",
      "\n",
      "  0%|          | 0/31 [00:00<?, ?it/s]\u001b[A\u001b[A\n",
      "\n",
      "  6%|▋         | 2/31 [00:00<00:01, 16.93it/s]\u001b[A\u001b[A\n",
      "\n",
      " 13%|█▎        | 4/31 [00:00<00:01, 16.40it/s]\u001b[A\u001b[A\n",
      "\n",
      " 19%|█▉        | 6/31 [00:00<00:01, 16.05it/s]\u001b[A\u001b[A\n",
      "\n",
      " 26%|██▌       | 8/31 [00:00<00:01, 16.29it/s]\u001b[A\u001b[A\n",
      "\n",
      " 32%|███▏      | 10/31 [00:00<00:01, 16.78it/s]\u001b[A\u001b[A\n",
      "\n",
      " 39%|███▊      | 12/31 [00:00<00:01, 16.78it/s]\u001b[A\u001b[A\n",
      "\n",
      " 45%|████▌     | 14/31 [00:00<00:01, 15.86it/s]\u001b[A\u001b[A\n",
      "\n",
      " 52%|█████▏    | 16/31 [00:00<00:00, 16.04it/s]\u001b[A\u001b[A\n",
      "\n",
      " 58%|█████▊    | 18/31 [00:01<00:00, 16.20it/s]\u001b[A\u001b[A\n",
      "\n",
      " 65%|██████▍   | 20/31 [00:01<00:00, 16.67it/s]\u001b[A\u001b[A\n",
      "\n",
      " 71%|███████   | 22/31 [00:02<00:02,  4.31it/s]\u001b[A\u001b[A\n",
      "\n",
      " 77%|███████▋  | 24/31 [00:02<00:01,  5.58it/s]\u001b[A\u001b[A\n",
      "\n",
      " 84%|████████▍ | 26/31 [00:02<00:00,  7.06it/s]\u001b[A\u001b[A\n",
      "\n",
      " 90%|█████████ | 28/31 [00:02<00:00,  8.60it/s]\u001b[A\u001b[A\n",
      "\n",
      "100%|██████████| 31/31 [00:02<00:00, 10.35it/s]\n",
      "\n",
      " 50%|█████     | 1/2 [00:03<00:03,  3.01s/it]\u001b[A"
     ]
    },
    {
     "name": "stdout",
     "output_type": "stream",
     "text": [
      "L06\n"
     ]
    },
    {
     "name": "stderr",
     "output_type": "stream",
     "text": [
      "\n",
      "\n",
      "  0%|          | 0/31 [00:00<?, ?it/s]\u001b[A\u001b[A\n",
      "\n",
      "  6%|▋         | 2/31 [00:00<00:01, 15.75it/s]\u001b[A\u001b[A\n",
      "\n",
      " 13%|█▎        | 4/31 [00:00<00:01, 16.11it/s]\u001b[A\u001b[A\n",
      "\n",
      " 19%|█▉        | 6/31 [00:00<00:01, 16.07it/s]\u001b[A\u001b[A\n",
      "\n",
      " 26%|██▌       | 8/31 [00:00<00:01, 14.90it/s]\u001b[A\u001b[A\n",
      "\n",
      " 32%|███▏      | 10/31 [00:00<00:01, 15.00it/s]\u001b[A\u001b[A\n",
      "\n",
      " 39%|███▊      | 12/31 [00:00<00:01, 14.83it/s]\u001b[A\u001b[A\n",
      "\n",
      " 45%|████▌     | 14/31 [00:00<00:01, 14.92it/s]\u001b[A\u001b[A\n",
      "\n",
      " 52%|█████▏    | 16/31 [00:01<00:01, 14.48it/s]\u001b[A\u001b[A\n",
      "\n",
      " 58%|█████▊    | 18/31 [00:01<00:00, 14.87it/s]\u001b[A\u001b[A\n",
      "\n",
      " 65%|██████▍   | 20/31 [00:01<00:00, 15.22it/s]\u001b[A\u001b[A\n",
      "\n",
      " 71%|███████   | 22/31 [00:01<00:00, 15.60it/s]\u001b[A\u001b[A\n",
      "\n",
      " 77%|███████▋  | 24/31 [00:01<00:00, 15.57it/s]\u001b[A\u001b[A\n",
      "\n",
      " 84%|████████▍ | 26/31 [00:01<00:00, 16.05it/s]\u001b[A\u001b[A\n",
      "\n",
      " 90%|█████████ | 28/31 [00:01<00:00, 15.09it/s]\u001b[A\u001b[A\n",
      "\n",
      "100%|██████████| 31/31 [00:02<00:00, 15.09it/s]\n",
      "\n",
      "100%|██████████| 2/2 [00:05<00:00,  2.54s/it]\n",
      " 50%|█████     | 4/8 [00:17<00:18,  4.52s/it]\n",
      "  0%|          | 0/2 [00:00<?, ?it/s]\u001b[A"
     ]
    },
    {
     "name": "stdout",
     "output_type": "stream",
     "text": [
      "L07\n"
     ]
    },
    {
     "name": "stderr",
     "output_type": "stream",
     "text": [
      "\n",
      "\n",
      "  0%|          | 0/31 [00:00<?, ?it/s]\u001b[A\u001b[A\n",
      "\n",
      "  6%|▋         | 2/31 [00:00<00:01, 19.21it/s]\u001b[A\u001b[A\n",
      "\n",
      " 13%|█▎        | 4/31 [00:00<00:01, 17.32it/s]\u001b[A\u001b[A\n",
      "\n",
      " 19%|█▉        | 6/31 [00:00<00:01, 18.29it/s]\u001b[A\u001b[A\n",
      "\n",
      " 26%|██▌       | 8/31 [00:00<00:01, 18.91it/s]\u001b[A\u001b[A\n",
      "\n",
      " 32%|███▏      | 10/31 [00:00<00:01, 18.27it/s]\u001b[A\u001b[A\n",
      "\n",
      " 39%|███▊      | 12/31 [00:00<00:01, 18.11it/s]\u001b[A\u001b[A\n",
      "\n",
      " 45%|████▌     | 14/31 [00:00<00:00, 18.25it/s]\u001b[A\u001b[A\n",
      "\n",
      " 52%|█████▏    | 16/31 [00:00<00:00, 18.75it/s]\u001b[A\u001b[A\n",
      "\n",
      " 58%|█████▊    | 18/31 [00:00<00:00, 17.91it/s]\u001b[A\u001b[A\n",
      "\n",
      " 68%|██████▊   | 21/31 [00:01<00:00, 18.40it/s]\u001b[A\u001b[A\n",
      "\n",
      " 74%|███████▍  | 23/31 [00:01<00:00, 16.53it/s]\u001b[A\u001b[A\n",
      "\n",
      " 81%|████████  | 25/31 [00:01<00:00, 16.58it/s]\u001b[A\u001b[A\n",
      "\n",
      " 87%|████████▋ | 27/31 [00:01<00:00, 15.59it/s]\u001b[A\u001b[A\n",
      "\n",
      " 94%|█████████▎| 29/31 [00:01<00:00, 14.50it/s]\u001b[A\u001b[A\n",
      "\n",
      "100%|██████████| 31/31 [00:01<00:00, 16.48it/s]\n",
      "\n",
      " 50%|█████     | 1/2 [00:01<00:01,  1.90s/it]\u001b[A"
     ]
    },
    {
     "name": "stdout",
     "output_type": "stream",
     "text": [
      "L08\n"
     ]
    },
    {
     "name": "stderr",
     "output_type": "stream",
     "text": [
      "\n",
      "\n",
      "  0%|          | 0/30 [00:00<?, ?it/s]\u001b[A\u001b[A\n",
      "\n",
      "  7%|▋         | 2/30 [00:00<00:02, 11.65it/s]\u001b[A\u001b[A\n",
      "\n",
      " 13%|█▎        | 4/30 [00:00<00:02, 11.94it/s]\u001b[A\u001b[A\n",
      "\n",
      " 20%|██        | 6/30 [00:00<00:02, 11.90it/s]\u001b[A\u001b[A\n",
      "\n",
      " 27%|██▋       | 8/30 [00:00<00:01, 12.05it/s]\u001b[A\u001b[A\n",
      "\n",
      " 33%|███▎      | 10/30 [00:00<00:01, 11.70it/s]\u001b[A\u001b[A\n",
      "\n",
      " 40%|████      | 12/30 [00:01<00:01, 11.06it/s]\u001b[A\u001b[A\n",
      "\n",
      " 47%|████▋     | 14/30 [00:01<00:01, 11.15it/s]\u001b[A\u001b[A\n",
      "\n",
      " 53%|█████▎    | 16/30 [00:01<00:01, 11.03it/s]\u001b[A\u001b[A\n",
      "\n",
      " 60%|██████    | 18/30 [00:01<00:01, 11.23it/s]\u001b[A\u001b[A\n",
      "\n",
      " 67%|██████▋   | 20/30 [00:01<00:00, 10.91it/s]\u001b[A\u001b[A\n",
      "\n",
      " 73%|███████▎  | 22/30 [00:01<00:00, 10.95it/s]\u001b[A\u001b[A\n",
      "\n",
      " 80%|████████  | 24/30 [00:02<00:00, 11.12it/s]\u001b[A\u001b[A\n",
      "\n",
      " 87%|████████▋ | 26/30 [00:02<00:00, 11.20it/s]\u001b[A\u001b[A\n",
      "\n",
      " 93%|█████████▎| 28/30 [00:02<00:00, 11.37it/s]\u001b[A\u001b[A\n",
      "\n",
      "100%|██████████| 30/30 [00:02<00:00, 11.43it/s]\n",
      "\n",
      "100%|██████████| 2/2 [00:04<00:00,  2.27s/it]\n",
      " 62%|██████▎   | 5/8 [00:22<00:13,  4.53s/it]\n",
      "  0%|          | 0/2 [00:00<?, ?it/s]\u001b[A"
     ]
    },
    {
     "name": "stdout",
     "output_type": "stream",
     "text": [
      "L09\n"
     ]
    },
    {
     "name": "stderr",
     "output_type": "stream",
     "text": [
      "\n",
      "\n",
      "  0%|          | 0/29 [00:00<?, ?it/s]\u001b[A\u001b[A\n",
      "\n",
      "  7%|▋         | 2/29 [00:00<00:02, 11.03it/s]\u001b[A\u001b[A\n",
      "\n",
      " 14%|█▍        | 4/29 [00:00<00:02, 10.02it/s]\u001b[A\u001b[A\n",
      "\n",
      " 21%|██        | 6/29 [00:00<00:02, 10.59it/s]\u001b[A\u001b[A\n",
      "\n",
      " 28%|██▊       | 8/29 [00:00<00:01, 11.18it/s]\u001b[A\u001b[A\n",
      "\n",
      " 34%|███▍      | 10/29 [00:00<00:01, 10.58it/s]\u001b[A\u001b[A\n",
      "\n",
      " 41%|████▏     | 12/29 [00:01<00:01, 10.67it/s]\u001b[A\u001b[A\n",
      "\n",
      " 48%|████▊     | 14/29 [00:01<00:01, 10.75it/s]\u001b[A\u001b[A\n",
      "\n",
      " 55%|█████▌    | 16/29 [00:01<00:01, 10.95it/s]\u001b[A\u001b[A\n",
      "\n",
      " 62%|██████▏   | 18/29 [00:01<00:00, 11.25it/s]\u001b[A\u001b[A\n",
      "\n",
      " 69%|██████▉   | 20/29 [00:01<00:00, 10.98it/s]\u001b[A\u001b[A\n",
      "\n",
      " 76%|███████▌  | 22/29 [00:02<00:00, 11.26it/s]\u001b[A\u001b[A\n",
      "\n",
      " 83%|████████▎ | 24/29 [00:02<00:00, 11.72it/s]\u001b[A\u001b[A\n",
      "\n",
      " 90%|████████▉ | 26/29 [00:02<00:00, 11.76it/s]\u001b[A\u001b[A\n",
      "\n",
      "100%|██████████| 29/29 [00:02<00:00, 11.29it/s]\n",
      "\n",
      " 50%|█████     | 1/2 [00:02<00:02,  2.58s/it]\u001b[A"
     ]
    },
    {
     "name": "stdout",
     "output_type": "stream",
     "text": [
      "L10\n"
     ]
    },
    {
     "name": "stderr",
     "output_type": "stream",
     "text": [
      "\n",
      "\n",
      "  0%|          | 0/29 [00:00<?, ?it/s]\u001b[A\u001b[A\n",
      "\n",
      "  7%|▋         | 2/29 [00:00<00:02, 12.72it/s]\u001b[A\u001b[A\n",
      "\n",
      " 14%|█▍        | 4/29 [00:00<00:02, 12.08it/s]\u001b[A\u001b[A\n",
      "\n",
      " 21%|██        | 6/29 [00:00<00:02, 11.08it/s]\u001b[A\u001b[A\n",
      "\n",
      " 28%|██▊       | 8/29 [00:00<00:01, 11.10it/s]\u001b[A\u001b[A\n",
      "\n",
      " 34%|███▍      | 10/29 [00:00<00:01, 11.41it/s]\u001b[A\u001b[A\n",
      "\n",
      " 41%|████▏     | 12/29 [00:01<00:01, 11.22it/s]\u001b[A\u001b[A\n",
      "\n",
      " 48%|████▊     | 14/29 [00:01<00:01, 11.27it/s]\u001b[A\u001b[A\n",
      "\n",
      " 55%|█████▌    | 16/29 [00:01<00:01, 11.35it/s]\u001b[A\u001b[A\n",
      "\n",
      " 62%|██████▏   | 18/29 [00:01<00:00, 11.35it/s]\u001b[A\u001b[A\n",
      "\n",
      " 69%|██████▉   | 20/29 [00:01<00:00, 11.44it/s]\u001b[A\u001b[A\n",
      "\n",
      " 76%|███████▌  | 22/29 [00:01<00:00, 11.72it/s]\u001b[A\u001b[A\n",
      "\n",
      " 83%|████████▎ | 24/29 [00:02<00:00, 11.21it/s]\u001b[A\u001b[A\n",
      "\n",
      " 90%|████████▉ | 26/29 [00:02<00:00, 11.51it/s]\u001b[A\u001b[A\n",
      "\n",
      "100%|██████████| 29/29 [00:02<00:00, 11.37it/s]\n",
      "\n",
      "100%|██████████| 2/2 [00:05<00:00,  2.58s/it]\n",
      " 75%|███████▌  | 6/8 [00:27<00:09,  4.74s/it]\n",
      "  0%|          | 0/6 [00:00<?, ?it/s]\u001b[A"
     ]
    },
    {
     "name": "stdout",
     "output_type": "stream",
     "text": [
      "L13\n"
     ]
    },
    {
     "name": "stderr",
     "output_type": "stream",
     "text": [
      "\n",
      "\n",
      "  0%|          | 0/30 [00:00<?, ?it/s]\u001b[A\u001b[A\n",
      "\n",
      "  7%|▋         | 2/30 [00:00<00:01, 14.40it/s]\u001b[A\u001b[A\n",
      "\n",
      " 13%|█▎        | 4/30 [00:00<00:02, 12.43it/s]\u001b[A\u001b[A\n",
      "\n",
      " 20%|██        | 6/30 [00:00<00:01, 12.10it/s]\u001b[A\u001b[A\n",
      "\n",
      " 27%|██▋       | 8/30 [00:00<00:01, 13.08it/s]\u001b[A\u001b[A\n",
      "\n",
      " 33%|███▎      | 10/30 [00:00<00:01, 13.51it/s]\u001b[A\u001b[A\n",
      "\n",
      " 40%|████      | 12/30 [00:00<00:01, 13.79it/s]\u001b[A\u001b[A\n",
      "\n",
      " 47%|████▋     | 14/30 [00:01<00:01, 13.14it/s]\u001b[A\u001b[A\n",
      "\n",
      " 53%|█████▎    | 16/30 [00:01<00:01, 13.94it/s]\u001b[A\u001b[A\n",
      "\n",
      " 60%|██████    | 18/30 [00:01<00:00, 14.21it/s]\u001b[A\u001b[A\n",
      "\n",
      " 67%|██████▋   | 20/30 [00:01<00:00, 14.00it/s]\u001b[A\u001b[A\n",
      "\n",
      " 73%|███████▎  | 22/30 [00:01<00:00, 14.22it/s]\u001b[A\u001b[A\n",
      "\n",
      " 80%|████████  | 24/30 [00:01<00:00, 14.47it/s]\u001b[A\u001b[A\n",
      "\n",
      " 87%|████████▋ | 26/30 [00:01<00:00, 14.19it/s]\u001b[A\u001b[A\n",
      "\n",
      " 93%|█████████▎| 28/30 [00:02<00:00, 14.48it/s]\u001b[A\u001b[A\n",
      "\n",
      "100%|██████████| 30/30 [00:02<00:00, 13.87it/s]\n",
      "\n",
      " 17%|█▋        | 1/6 [00:02<00:10,  2.18s/it]\u001b[A"
     ]
    },
    {
     "name": "stdout",
     "output_type": "stream",
     "text": [
      "L14\n"
     ]
    },
    {
     "name": "stderr",
     "output_type": "stream",
     "text": [
      "\n",
      "\n",
      "  0%|          | 0/27 [00:00<?, ?it/s]\u001b[A\u001b[A\n",
      "\n",
      "  7%|▋         | 2/27 [00:00<00:01, 13.25it/s]\u001b[A\u001b[A\n",
      "\n",
      " 15%|█▍        | 4/27 [00:00<00:01, 12.40it/s]\u001b[A\u001b[A\n",
      "\n",
      " 22%|██▏       | 6/27 [00:00<00:01, 11.52it/s]\u001b[A\u001b[A\n",
      "\n",
      " 30%|██▉       | 8/27 [00:06<00:23,  1.22s/it]\u001b[A\u001b[A\n",
      "\n",
      " 33%|███▎      | 9/27 [00:06<00:17,  1.02it/s]\u001b[A\u001b[A\n",
      "\n",
      " 37%|███▋      | 10/27 [00:06<00:13,  1.29it/s]\u001b[A\u001b[A\n",
      "\n",
      " 41%|████      | 11/27 [00:06<00:09,  1.63it/s]\u001b[A\u001b[A\n",
      "\n",
      " 44%|████▍     | 12/27 [00:06<00:07,  2.09it/s]\u001b[A\u001b[A\n",
      "\n",
      " 48%|████▊     | 13/27 [00:07<00:05,  2.60it/s]\u001b[A\u001b[A\n",
      "\n",
      " 52%|█████▏    | 14/27 [00:07<00:04,  3.23it/s]\u001b[A\u001b[A\n",
      "\n",
      " 56%|█████▌    | 15/27 [00:07<00:03,  3.97it/s]\u001b[A\u001b[A\n",
      "\n",
      " 59%|█████▉    | 16/27 [00:07<00:02,  4.65it/s]\u001b[A\u001b[A\n",
      "\n",
      " 67%|██████▋   | 18/27 [00:07<00:01,  6.36it/s]\u001b[A\u001b[A\n",
      "\n",
      " 74%|███████▍  | 20/27 [00:07<00:00,  8.21it/s]\u001b[A\u001b[A\n",
      "\n",
      " 81%|████████▏ | 22/27 [00:07<00:00,  9.00it/s]\u001b[A\u001b[A\n",
      "\n",
      " 89%|████████▉ | 24/27 [00:08<00:00, 10.16it/s]\u001b[A\u001b[A\n",
      "\n",
      "100%|██████████| 27/27 [00:08<00:00,  3.27it/s]\n",
      "\n",
      " 33%|███▎      | 2/6 [00:10<00:23,  5.77s/it]\u001b[A"
     ]
    },
    {
     "name": "stdout",
     "output_type": "stream",
     "text": [
      "L15\n"
     ]
    },
    {
     "name": "stderr",
     "output_type": "stream",
     "text": [
      "\n",
      "\n",
      "  0%|          | 0/31 [00:00<?, ?it/s]\u001b[A\u001b[A\n",
      "\n",
      "  6%|▋         | 2/31 [00:00<00:01, 19.48it/s]\u001b[A\u001b[A\n",
      "\n",
      " 13%|█▎        | 4/31 [00:00<00:01, 17.59it/s]\u001b[A\u001b[A\n",
      "\n",
      " 19%|█▉        | 6/31 [00:00<00:01, 16.87it/s]\u001b[A\u001b[A\n",
      "\n",
      " 26%|██▌       | 8/31 [00:00<00:01, 15.69it/s]\u001b[A\u001b[A\n",
      "\n",
      " 32%|███▏      | 10/31 [00:00<00:01, 14.75it/s]\u001b[A\u001b[A\n",
      "\n",
      " 39%|███▊      | 12/31 [00:00<00:01, 14.86it/s]\u001b[A\u001b[A\n",
      "\n",
      " 45%|████▌     | 14/31 [00:00<00:01, 14.82it/s]\u001b[A\u001b[A\n",
      "\n",
      " 52%|█████▏    | 16/31 [00:01<00:01, 14.39it/s]\u001b[A\u001b[A\n",
      "\n",
      " 58%|█████▊    | 18/31 [00:01<00:00, 15.11it/s]\u001b[A\u001b[A\n",
      "\n",
      " 65%|██████▍   | 20/31 [00:01<00:00, 15.26it/s]\u001b[A\u001b[A\n",
      "\n",
      " 71%|███████   | 22/31 [00:01<00:00, 15.67it/s]\u001b[A\u001b[A\n",
      "\n",
      " 77%|███████▋  | 24/31 [00:01<00:00, 15.55it/s]\u001b[A\u001b[A\n",
      "\n",
      " 84%|████████▍ | 26/31 [00:01<00:00, 15.15it/s]\u001b[A\u001b[A\n",
      "\n",
      " 90%|█████████ | 28/31 [00:01<00:00, 14.79it/s]\u001b[A\u001b[A\n",
      "\n",
      "100%|██████████| 31/31 [00:02<00:00, 15.06it/s]\n",
      "\n",
      " 50%|█████     | 3/6 [00:12<00:12,  4.08s/it]\u001b[A"
     ]
    },
    {
     "name": "stdout",
     "output_type": "stream",
     "text": [
      "L16\n"
     ]
    },
    {
     "name": "stderr",
     "output_type": "stream",
     "text": [
      "\n",
      "\n",
      "  0%|          | 0/31 [00:00<?, ?it/s]\u001b[A\u001b[A\n",
      "\n",
      "  6%|▋         | 2/31 [00:00<00:02, 11.80it/s]\u001b[A\u001b[A\n",
      "\n",
      " 13%|█▎        | 4/31 [00:00<00:02, 13.05it/s]\u001b[A\u001b[A\n",
      "\n",
      " 19%|█▉        | 6/31 [00:00<00:01, 14.09it/s]\u001b[A\u001b[A\n",
      "\n",
      " 26%|██▌       | 8/31 [00:00<00:01, 13.86it/s]\u001b[A\u001b[A\n",
      "\n",
      " 32%|███▏      | 10/31 [00:00<00:01, 13.26it/s]\u001b[A\u001b[A\n",
      "\n",
      " 39%|███▊      | 12/31 [00:00<00:01, 13.93it/s]\u001b[A\u001b[A\n",
      "\n",
      " 45%|████▌     | 14/31 [00:01<00:01, 12.98it/s]\u001b[A\u001b[A\n",
      "\n",
      " 52%|█████▏    | 16/31 [00:01<00:01, 13.04it/s]\u001b[A\u001b[A\n",
      "\n",
      " 58%|█████▊    | 18/31 [00:01<00:00, 13.29it/s]\u001b[A\u001b[A\n",
      "\n",
      " 65%|██████▍   | 20/31 [00:01<00:00, 13.56it/s]\u001b[A\u001b[A\n",
      "\n",
      " 71%|███████   | 22/31 [00:01<00:00, 13.06it/s]\u001b[A\u001b[A\n",
      "\n",
      " 77%|███████▋  | 24/31 [00:01<00:00, 12.51it/s]\u001b[A\u001b[A\n",
      "\n",
      " 84%|████████▍ | 26/31 [00:01<00:00, 12.72it/s]\u001b[A\u001b[A\n",
      "\n",
      " 90%|█████████ | 28/31 [00:02<00:00, 12.22it/s]\u001b[A\u001b[A\n",
      "\n",
      "100%|██████████| 31/31 [00:02<00:00, 12.59it/s]\n",
      "\n",
      " 67%|██████▋   | 4/6 [00:15<00:06,  3.45s/it]\u001b[A"
     ]
    },
    {
     "name": "stdout",
     "output_type": "stream",
     "text": [
      "L17\n"
     ]
    },
    {
     "name": "stderr",
     "output_type": "stream",
     "text": [
      "\n",
      "\n",
      "  0%|          | 0/28 [00:00<?, ?it/s]\u001b[A\u001b[A\n",
      "\n",
      "  7%|▋         | 2/28 [00:00<00:01, 14.09it/s]\u001b[A\u001b[A\n",
      "\n",
      " 14%|█▍        | 4/28 [00:00<00:01, 14.24it/s]\u001b[A\u001b[A\n",
      "\n",
      " 21%|██▏       | 6/28 [00:00<00:01, 13.70it/s]\u001b[A\u001b[A\n",
      "\n",
      " 29%|██▊       | 8/28 [00:00<00:01, 12.82it/s]\u001b[A\u001b[A\n",
      "\n",
      " 36%|███▌      | 10/28 [00:00<00:01, 14.57it/s]\u001b[A\u001b[A\n",
      "\n",
      " 43%|████▎     | 12/28 [00:00<00:01, 13.02it/s]\u001b[A\u001b[A\n",
      "\n",
      " 50%|█████     | 14/28 [00:01<00:01, 13.64it/s]\u001b[A\u001b[A\n",
      "\n",
      " 57%|█████▋    | 16/28 [00:01<00:00, 13.94it/s]\u001b[A\u001b[A\n",
      "\n",
      " 64%|██████▍   | 18/28 [00:01<00:00, 13.63it/s]\u001b[A\u001b[A\n",
      "\n",
      " 71%|███████▏  | 20/28 [00:01<00:00, 13.66it/s]\u001b[A\u001b[A\n",
      "\n",
      " 79%|███████▊  | 22/28 [00:01<00:00, 14.01it/s]\u001b[A\u001b[A\n",
      "\n",
      " 86%|████████▌ | 24/28 [00:01<00:00, 15.24it/s]\u001b[A\u001b[A\n",
      "\n",
      " 93%|█████████▎| 26/28 [00:01<00:00, 16.20it/s]\u001b[A\u001b[A\n",
      "\n",
      "100%|██████████| 28/28 [00:01<00:00, 14.40it/s]\n",
      "\n",
      " 83%|████████▎ | 5/6 [00:16<00:02,  2.91s/it]\u001b[A"
     ]
    },
    {
     "name": "stdout",
     "output_type": "stream",
     "text": [
      "L18\n"
     ]
    },
    {
     "name": "stderr",
     "output_type": "stream",
     "text": [
      "\n",
      "\n",
      "  0%|          | 0/29 [00:00<?, ?it/s]\u001b[A\u001b[A\n",
      "\n",
      "  7%|▋         | 2/29 [00:00<00:02, 12.48it/s]\u001b[A\u001b[A\n",
      "\n",
      " 14%|█▍        | 4/29 [00:00<00:01, 13.06it/s]\u001b[A\u001b[A\n",
      "\n",
      " 21%|██        | 6/29 [00:00<00:01, 12.58it/s]\u001b[A\u001b[A\n",
      "\n",
      " 28%|██▊       | 8/29 [00:00<00:01, 12.69it/s]\u001b[A\u001b[A\n",
      "\n",
      " 34%|███▍      | 10/29 [00:00<00:01, 13.59it/s]\u001b[A\u001b[A\n",
      "\n",
      " 41%|████▏     | 12/29 [00:00<00:01, 13.31it/s]\u001b[A\u001b[A\n",
      "\n",
      " 48%|████▊     | 14/29 [00:01<00:01, 13.17it/s]\u001b[A\u001b[A\n",
      "\n",
      " 55%|█████▌    | 16/29 [00:01<00:00, 14.00it/s]\u001b[A\u001b[A\n",
      "\n",
      " 62%|██████▏   | 18/29 [00:01<00:00, 14.22it/s]\u001b[A\u001b[A\n",
      "\n",
      " 69%|██████▉   | 20/29 [00:01<00:00, 14.43it/s]\u001b[A\u001b[A\n",
      "\n",
      " 76%|███████▌  | 22/29 [00:01<00:00, 14.27it/s]\u001b[A\u001b[A\n",
      "\n",
      " 83%|████████▎ | 24/29 [00:01<00:00, 14.81it/s]\u001b[A\u001b[A\n",
      "\n",
      " 90%|████████▉ | 26/29 [00:01<00:00, 14.71it/s]\u001b[A\u001b[A\n",
      "\n",
      "100%|██████████| 29/29 [00:02<00:00, 14.05it/s]\n",
      "\n",
      "100%|██████████| 6/6 [00:19<00:00,  3.18s/it]\n",
      " 88%|████████▊ | 7/8 [00:46<00:09,  9.43s/it]\n",
      "  0%|          | 0/6 [00:00<?, ?it/s]\u001b[A"
     ]
    },
    {
     "name": "stdout",
     "output_type": "stream",
     "text": [
      "L19\n"
     ]
    },
    {
     "name": "stderr",
     "output_type": "stream",
     "text": [
      "\n",
      "\n",
      "  0%|          | 0/30 [00:00<?, ?it/s]\u001b[A\u001b[A\n",
      "\n",
      "  7%|▋         | 2/30 [00:00<00:01, 15.67it/s]\u001b[A\u001b[A\n",
      "\n",
      " 13%|█▎        | 4/30 [00:00<00:01, 17.13it/s]\u001b[A\u001b[A\n",
      "\n",
      " 20%|██        | 6/30 [00:00<00:01, 17.17it/s]\u001b[A\u001b[A\n",
      "\n",
      " 27%|██▋       | 8/30 [00:00<00:01, 17.98it/s]\u001b[A\u001b[A\n",
      "\n",
      " 33%|███▎      | 10/30 [00:00<00:01, 17.66it/s]\u001b[A\u001b[A\n",
      "\n",
      " 40%|████      | 12/30 [00:00<00:01, 16.67it/s]\u001b[A\u001b[A\n",
      "\n",
      " 47%|████▋     | 14/30 [00:00<00:00, 17.20it/s]\u001b[A\u001b[A\n",
      "\n",
      " 53%|█████▎    | 16/30 [00:00<00:00, 17.22it/s]\u001b[A\u001b[A\n",
      "\n",
      " 60%|██████    | 18/30 [00:01<00:00, 16.46it/s]\u001b[A\u001b[A\n",
      "\n",
      " 67%|██████▋   | 20/30 [00:01<00:00, 16.93it/s]\u001b[A\u001b[A\n",
      "\n",
      " 73%|███████▎  | 22/30 [00:01<00:00, 16.67it/s]\u001b[A\u001b[A\n",
      "\n",
      " 83%|████████▎ | 25/30 [00:01<00:00, 18.29it/s]\u001b[A\u001b[A\n",
      "\n",
      " 90%|█████████ | 27/30 [00:01<00:00, 18.18it/s]\u001b[A\u001b[A\n",
      "\n",
      "100%|██████████| 30/30 [00:01<00:00, 17.52it/s]\n",
      "\n",
      " 17%|█▋        | 1/6 [00:01<00:08,  1.73s/it]\u001b[A"
     ]
    },
    {
     "name": "stdout",
     "output_type": "stream",
     "text": [
      "L20\n"
     ]
    },
    {
     "name": "stderr",
     "output_type": "stream",
     "text": [
      "\n",
      "\n",
      "  0%|          | 0/29 [00:00<?, ?it/s]\u001b[A\u001b[A\n",
      "\n",
      "  7%|▋         | 2/29 [00:00<00:01, 18.74it/s]\u001b[A\u001b[A\n",
      "\n",
      " 14%|█▍        | 4/29 [00:00<00:01, 17.18it/s]\u001b[A\u001b[A\n",
      "\n",
      " 21%|██        | 6/29 [00:00<00:01, 16.65it/s]\u001b[A\u001b[A\n",
      "\n",
      " 28%|██▊       | 8/29 [00:00<00:01, 16.14it/s]\u001b[A\u001b[A\n",
      "\n",
      " 34%|███▍      | 10/29 [00:00<00:01, 16.46it/s]\u001b[A\u001b[A\n",
      "\n",
      " 41%|████▏     | 12/29 [00:00<00:01, 16.62it/s]\u001b[A\u001b[A\n",
      "\n",
      " 48%|████▊     | 14/29 [00:00<00:00, 16.30it/s]\u001b[A\u001b[A\n",
      "\n",
      " 55%|█████▌    | 16/29 [00:00<00:00, 16.27it/s]\u001b[A\u001b[A\n",
      "\n",
      " 62%|██████▏   | 18/29 [00:01<00:00, 16.25it/s]\u001b[A\u001b[A\n",
      "\n",
      " 69%|██████▉   | 20/29 [00:01<00:00, 15.61it/s]\u001b[A\u001b[A\n",
      "\n",
      " 76%|███████▌  | 22/29 [00:01<00:00, 15.38it/s]\u001b[A\u001b[A\n",
      "\n",
      " 83%|████████▎ | 24/29 [00:01<00:00, 14.73it/s]\u001b[A\u001b[A\n",
      "\n",
      " 90%|████████▉ | 26/29 [00:01<00:00, 14.93it/s]\u001b[A\u001b[A\n",
      "\n",
      "100%|██████████| 29/29 [00:01<00:00, 15.73it/s]\n",
      "\n",
      " 33%|███▎      | 2/6 [00:03<00:07,  1.80s/it]\u001b[A"
     ]
    },
    {
     "name": "stdout",
     "output_type": "stream",
     "text": [
      "L21\n"
     ]
    },
    {
     "name": "stderr",
     "output_type": "stream",
     "text": [
      "\n",
      "\n",
      "  0%|          | 0/29 [00:00<?, ?it/s]\u001b[A\u001b[A\n",
      "\n",
      "  7%|▋         | 2/29 [00:00<00:01, 15.93it/s]\u001b[A\u001b[A\n",
      "\n",
      " 14%|█▍        | 4/29 [00:00<00:01, 16.85it/s]\u001b[A\u001b[A\n",
      "\n",
      " 21%|██        | 6/29 [00:00<00:01, 17.75it/s]\u001b[A\u001b[A\n",
      "\n",
      " 28%|██▊       | 8/29 [00:00<00:01, 15.08it/s]\u001b[A\u001b[A\n",
      "\n",
      " 34%|███▍      | 10/29 [00:00<00:01, 15.79it/s]\u001b[A\u001b[A\n",
      "\n",
      " 41%|████▏     | 12/29 [00:00<00:01, 16.34it/s]\u001b[A\u001b[A\n",
      "\n",
      " 48%|████▊     | 14/29 [00:00<00:01, 14.54it/s]\u001b[A\u001b[A\n",
      "\n",
      " 55%|█████▌    | 16/29 [00:01<00:00, 15.02it/s]\u001b[A\u001b[A\n",
      "\n",
      " 62%|██████▏   | 18/29 [00:01<00:00, 15.08it/s]\u001b[A\u001b[A\n",
      "\n",
      " 69%|██████▉   | 20/29 [00:01<00:00, 16.07it/s]\u001b[A\u001b[A\n",
      "\n",
      " 76%|███████▌  | 22/29 [00:01<00:00, 16.06it/s]\u001b[A\u001b[A\n",
      "\n",
      " 83%|████████▎ | 24/29 [00:01<00:00, 15.68it/s]\u001b[A\u001b[A\n",
      "\n",
      " 90%|████████▉ | 26/29 [00:01<00:00, 16.35it/s]\u001b[A\u001b[A\n",
      "\n",
      "100%|██████████| 29/29 [00:01<00:00, 15.93it/s]\n",
      "\n",
      " 50%|█████     | 3/6 [00:05<00:05,  1.82s/it]\u001b[A"
     ]
    },
    {
     "name": "stdout",
     "output_type": "stream",
     "text": [
      "L22\n"
     ]
    },
    {
     "name": "stderr",
     "output_type": "stream",
     "text": [
      "\n",
      "\n",
      "  0%|          | 0/31 [00:00<?, ?it/s]\u001b[A\u001b[A\n",
      "\n",
      "  6%|▋         | 2/31 [00:00<00:01, 14.64it/s]\u001b[A\u001b[A\n",
      "\n",
      " 13%|█▎        | 4/31 [00:00<00:01, 13.79it/s]\u001b[A\u001b[A\n",
      "\n",
      " 19%|█▉        | 6/31 [00:00<00:01, 15.12it/s]\u001b[A\u001b[A\n",
      "\n",
      " 26%|██▌       | 8/31 [00:00<00:01, 14.89it/s]\u001b[A\u001b[A\n",
      "\n",
      " 32%|███▏      | 10/31 [00:00<00:01, 15.69it/s]\u001b[A\u001b[A\n",
      "\n",
      " 39%|███▊      | 12/31 [00:00<00:01, 15.55it/s]\u001b[A\u001b[A\n",
      "\n",
      " 45%|████▌     | 14/31 [00:00<00:01, 15.34it/s]\u001b[A\u001b[A\n",
      "\n",
      " 52%|█████▏    | 16/31 [00:01<00:01, 14.86it/s]\u001b[A\u001b[A\n",
      "\n",
      " 58%|█████▊    | 18/31 [00:01<00:00, 14.93it/s]\u001b[A\u001b[A\n",
      "\n",
      " 65%|██████▍   | 20/31 [00:01<00:00, 15.23it/s]\u001b[A\u001b[A\n",
      "\n",
      " 71%|███████   | 22/31 [00:01<00:00, 14.62it/s]\u001b[A\u001b[A\n",
      "\n",
      " 77%|███████▋  | 24/31 [00:01<00:00, 14.88it/s]\u001b[A\u001b[A\n",
      "\n",
      " 84%|████████▍ | 26/31 [00:01<00:00, 15.05it/s]\u001b[A\u001b[A\n",
      "\n",
      " 90%|█████████ | 28/31 [00:01<00:00, 15.29it/s]\u001b[A\u001b[A\n",
      "\n",
      "100%|██████████| 31/31 [00:02<00:00, 15.05it/s]\n",
      "\n",
      " 67%|██████▋   | 4/6 [00:07<00:03,  1.92s/it]\u001b[A"
     ]
    },
    {
     "name": "stdout",
     "output_type": "stream",
     "text": [
      "L23\n"
     ]
    },
    {
     "name": "stderr",
     "output_type": "stream",
     "text": [
      "\n",
      "\n",
      "  0%|          | 0/25 [00:00<?, ?it/s]\u001b[A\u001b[A\n",
      "\n",
      " 44%|████▍     | 11/25 [00:00<00:00, 101.83it/s]\u001b[A\u001b[A\n",
      "\n",
      "100%|██████████| 25/25 [00:00<00:00, 94.52it/s]\n",
      "\n",
      " 83%|████████▎ | 5/6 [00:07<00:01,  1.33s/it]\u001b[A"
     ]
    },
    {
     "name": "stdout",
     "output_type": "stream",
     "text": [
      "L24\n"
     ]
    },
    {
     "name": "stderr",
     "output_type": "stream",
     "text": [
      "\n",
      "\n",
      "  0%|          | 0/43 [00:00<?, ?it/s]\u001b[A\u001b[A\n",
      "\n",
      "  9%|▉         | 4/43 [00:00<00:01, 38.74it/s]\u001b[A\u001b[A\n",
      "\n",
      " 23%|██▎       | 10/43 [00:00<00:00, 51.00it/s]\u001b[A\u001b[A\n",
      "\n",
      " 40%|███▉      | 17/43 [00:00<00:00, 58.13it/s]\u001b[A\u001b[A\n",
      "\n",
      " 53%|█████▎    | 23/43 [00:00<00:00, 58.55it/s]\u001b[A\u001b[A\n",
      "\n",
      " 67%|██████▋   | 29/43 [00:00<00:00, 54.53it/s]\u001b[A\u001b[A\n",
      "\n",
      "100%|██████████| 43/43 [00:00<00:00, 58.85it/s]\n",
      "\n",
      "100%|██████████| 6/6 [00:08<00:00,  1.42s/it]\n",
      "100%|██████████| 8/8 [00:55<00:00,  6.88s/it]\n"
     ]
    }
   ],
   "source": [
    "feature_shape = 1024\n",
    "# features_dir_list = [\"/kaggle/input/aic2024-clipv2-features-0102\", \"/kaggle/input/aic2024-clipv2-features-0304\", \"/kaggle/input/aic2024-clipv2-features-0506\", \"/kaggle/input/clipv2-7-8-old\", \"/kaggle/input/aic2024-clipv2-features-0910\", \"/kaggle/input/aic2024-clipv2-features-1112\"]\n",
    "features_dir_list = [\"/kaggle/input/clipv2-1-2\", \"/kaggle/input/clipv2-3-4\", \"/kaggle/input/clipv2-5-6-data\", \"/kaggle/input/clipv2-7-8-old\", \"/kaggle/input/clipv2-9-10\", \"/kaggle/input/clipv2-11-12\", \"/kaggle/input/clipv2-features-l131415161718\", \"/kaggle/input/clipv2-features-l192021222324\"]\n",
    "# features_dir_list = [\"/kaggle/input/aic2024-clipv2-features-0102\", \"/kaggle/input/aic2024-clipv2-features-0304\", \"/kaggle/input/aic2024-clipv2-features-0506\", \"/kaggle/input/aic2024-clipv2-features-0708\", \"/kaggle/input/clipv2-9-10\", \"/kaggle/input/clipv2-11-12\"]\n",
    "# features_dir = './CLIPv2_features'\n",
    "index = faiss.IndexFlatIP(feature_shape)\n",
    "err = False\n",
    "for features_dir in tqdm(sorted(features_dir_list)):\n",
    "    features_dir = os.path.join(features_dir, \"CLIPv2_features\")\n",
    "    for data_part in tqdm(sorted(os.listdir(features_dir))):\n",
    "        print(data_part)\n",
    "        for feature_path in tqdm(sorted(glob.glob(os.path.join(features_dir, data_part) +'/*.npy'))):\n",
    "            feats = np.load(feature_path)\n",
    "            for feat in feats:\n",
    "                feat = feat.astype(np.float32).reshape(1,-1)\n",
    "                index.add(feat)\n",
    "\n",
    "faiss.write_index(index, f\"faiss_clipv2_cosine.bin\")"
   ]
  },
  {
   "cell_type": "code",
   "execution_count": null,
   "id": "dfc0e4a1",
   "metadata": {
    "papermill": {
     "duration": 0.359675,
     "end_time": "2024-09-27T15:39:04.670244",
     "exception": false,
     "start_time": "2024-09-27T15:39:04.310569",
     "status": "completed"
    },
    "tags": []
   },
   "outputs": [],
   "source": []
  }
 ],
 "metadata": {
  "kaggle": {
   "accelerator": "none",
   "dataSources": [
    {
     "datasetId": 5636492,
     "sourceId": 9307577,
     "sourceType": "datasetVersion"
    },
    {
     "datasetId": 5636494,
     "sourceId": 9307579,
     "sourceType": "datasetVersion"
    },
    {
     "datasetId": 5642268,
     "isSourceIdPinned": true,
     "sourceId": 9315664,
     "sourceType": "datasetVersion"
    },
    {
     "datasetId": 5687547,
     "sourceId": 9376391,
     "sourceType": "datasetVersion"
    },
    {
     "datasetId": 5687635,
     "sourceId": 9376506,
     "sourceType": "datasetVersion"
    },
    {
     "datasetId": 5687665,
     "sourceId": 9376549,
     "sourceType": "datasetVersion"
    },
    {
     "datasetId": 5635873,
     "sourceId": 9378909,
     "sourceType": "datasetVersion"
    },
    {
     "datasetId": 5635872,
     "sourceId": 9378921,
     "sourceType": "datasetVersion"
    },
    {
     "datasetId": 5692145,
     "sourceId": 9382593,
     "sourceType": "datasetVersion"
    },
    {
     "datasetId": 5693390,
     "sourceId": 9384174,
     "sourceType": "datasetVersion"
    },
    {
     "datasetId": 5635867,
     "sourceId": 9386919,
     "sourceType": "datasetVersion"
    },
    {
     "datasetId": 5692114,
     "sourceId": 9392171,
     "sourceType": "datasetVersion"
    },
    {
     "datasetId": 5697329,
     "sourceId": 9392205,
     "sourceType": "datasetVersion"
    },
    {
     "datasetId": 5692117,
     "sourceId": 9392228,
     "sourceType": "datasetVersion"
    },
    {
     "datasetId": 5700029,
     "sourceId": 9392544,
     "sourceType": "datasetVersion"
    },
    {
     "datasetId": 5700492,
     "sourceId": 9393180,
     "sourceType": "datasetVersion"
    },
    {
     "datasetId": 5700500,
     "sourceId": 9393189,
     "sourceType": "datasetVersion"
    },
    {
     "datasetId": 5728263,
     "sourceId": 9429141,
     "sourceType": "datasetVersion"
    },
    {
     "datasetId": 5728524,
     "isSourceIdPinned": true,
     "sourceId": 9429474,
     "sourceType": "datasetVersion"
    },
    {
     "datasetId": 5728529,
     "isSourceIdPinned": true,
     "sourceId": 9429479,
     "sourceType": "datasetVersion"
    },
    {
     "datasetId": 5728955,
     "isSourceIdPinned": true,
     "sourceId": 9430051,
     "sourceType": "datasetVersion"
    },
    {
     "datasetId": 5729966,
     "sourceId": 9431392,
     "sourceType": "datasetVersion"
    },
    {
     "datasetId": 5774305,
     "sourceId": 9490828,
     "sourceType": "datasetVersion"
    },
    {
     "datasetId": 5774346,
     "sourceId": 9490909,
     "sourceType": "datasetVersion"
    },
    {
     "datasetId": 5774349,
     "sourceId": 9490914,
     "sourceType": "datasetVersion"
    }
   ],
   "dockerImageVersionId": 30761,
   "isGpuEnabled": false,
   "isInternetEnabled": true,
   "language": "python",
   "sourceType": "notebook"
  },
  "kernelspec": {
   "display_name": "Python 3",
   "language": "python",
   "name": "python3"
  },
  "language_info": {
   "codemirror_mode": {
    "name": "ipython",
    "version": 3
   },
   "file_extension": ".py",
   "mimetype": "text/x-python",
   "name": "python",
   "nbconvert_exporter": "python",
   "pygments_lexer": "ipython3",
   "version": "3.10.14"
  },
  "papermill": {
   "default_parameters": {},
   "duration": 117.252324,
   "end_time": "2024-09-27T15:39:05.752625",
   "environment_variables": {},
   "exception": null,
   "input_path": "__notebook__.ipynb",
   "output_path": "__notebook__.ipynb",
   "parameters": {},
   "start_time": "2024-09-27T15:37:08.500301",
   "version": "2.4.0"
  }
 },
 "nbformat": 4,
 "nbformat_minor": 5
}
