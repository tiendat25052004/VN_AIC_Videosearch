{
 "cells": [
  {
   "cell_type": "code",
   "execution_count": 1,
   "id": "e2fe527b",
   "metadata": {
    "execution": {
     "iopub.execute_input": "2024-09-27T15:53:10.899362Z",
     "iopub.status.busy": "2024-09-27T15:53:10.898917Z",
     "iopub.status.idle": "2024-09-27T15:53:12.045800Z",
     "shell.execute_reply": "2024-09-27T15:53:12.044371Z"
    },
    "papermill": {
     "duration": 1.163057,
     "end_time": "2024-09-27T15:53:12.048918",
     "exception": false,
     "start_time": "2024-09-27T15:53:10.885861",
     "status": "completed"
    },
    "tags": []
   },
   "outputs": [],
   "source": [
    "import os\n",
    "import glob\n",
    "import json\n",
    "import pandas as pd"
   ]
  },
  {
   "cell_type": "code",
   "execution_count": 2,
   "id": "62fbcfae",
   "metadata": {
    "execution": {
     "iopub.execute_input": "2024-09-27T15:53:12.072753Z",
     "iopub.status.busy": "2024-09-27T15:53:12.072087Z",
     "iopub.status.idle": "2024-09-27T15:54:02.121669Z",
     "shell.execute_reply": "2024-09-27T15:54:02.119783Z"
    },
    "papermill": {
     "duration": 50.065297,
     "end_time": "2024-09-27T15:54:02.125287",
     "exception": false,
     "start_time": "2024-09-27T15:53:12.059990",
     "status": "completed"
    },
    "tags": []
   },
   "outputs": [],
   "source": [
    "!cp -r /kaggle/input/dict-v2/dict /kaggle/working/dict"
   ]
  },
  {
   "cell_type": "code",
   "execution_count": 3,
   "id": "bf42da11",
   "metadata": {
    "execution": {
     "iopub.execute_input": "2024-09-27T15:54:02.149593Z",
     "iopub.status.busy": "2024-09-27T15:54:02.149004Z",
     "iopub.status.idle": "2024-09-27T15:54:02.155687Z",
     "shell.execute_reply": "2024-09-27T15:54:02.153969Z"
    },
    "papermill": {
     "duration": 0.023034,
     "end_time": "2024-09-27T15:54:02.158916",
     "exception": false,
     "start_time": "2024-09-27T15:54:02.135882",
     "status": "completed"
    },
    "tags": []
   },
   "outputs": [],
   "source": [
    "root = '/kaggle/input'\n",
    "des_path = '/kaggle/working/dict'"
   ]
  },
  {
   "cell_type": "markdown",
   "id": "a4b6b6d7",
   "metadata": {
    "papermill": {
     "duration": 0.010835,
     "end_time": "2024-09-27T15:54:02.180282",
     "exception": false,
     "start_time": "2024-09-27T15:54:02.169447",
     "status": "completed"
    },
    "tags": []
   },
   "source": [
    "# Part 1"
   ]
  },
  {
   "cell_type": "code",
   "execution_count": 4,
   "id": "4951bf8c",
   "metadata": {
    "execution": {
     "iopub.execute_input": "2024-09-27T15:54:02.204191Z",
     "iopub.status.busy": "2024-09-27T15:54:02.203686Z",
     "iopub.status.idle": "2024-09-27T15:54:02.213015Z",
     "shell.execute_reply": "2024-09-27T15:54:02.211538Z"
    },
    "papermill": {
     "duration": 0.025513,
     "end_time": "2024-09-27T15:54:02.216132",
     "exception": false,
     "start_time": "2024-09-27T15:54:02.190619",
     "status": "completed"
    },
    "tags": []
   },
   "outputs": [],
   "source": [
    "data_root_list = ['/kaggle/input/aic2024-keyframes0102/Keyframes', '/kaggle/input/aic2024-keyframes0304/Keyframes', '/kaggle/input/aic2024-keyframes0506/Keyframes', '/kaggle/input/aic2024-keyframes0708/Keyframes',  '/kaggle/input/aic2024-keyframes0910/Keyframes', '/kaggle/input/aic2024-keyframes1112/Keyframes', '/kaggle/input/aic-keyframe-1314/Keyframes', '/kaggle/input/aic-keyframe-1516/Keyframes', '/kaggle/input/aic-keyframe-1718/Keyframes', '/kaggle/input/aic-keyframe-1920/Keyframes', '/kaggle/input/aic-keyframe-2122/Keyframes', '/kaggle/input/aic-keyframe-2324/Keyframes']\n",
    "metadata_root = root + '/dict-v2/dict/metadata'\n",
    "scene_root = root + '/dict-v2/dict/SceneJSON'\n",
    "map_keyframes_root = root + '/dict-v2/dict/map_keyframes'\n",
    "fps_path = root + '/dict-v2/dict/fps.json'\n",
    "\n",
    "with open(fps_path, 'r') as f:\n",
    "    fps_dict = json.load(f)"
   ]
  },
  {
   "cell_type": "code",
   "execution_count": 5,
   "id": "365bca13",
   "metadata": {
    "execution": {
     "iopub.execute_input": "2024-09-27T15:54:02.240846Z",
     "iopub.status.busy": "2024-09-27T15:54:02.239513Z",
     "iopub.status.idle": "2024-09-27T15:54:05.252592Z",
     "shell.execute_reply": "2024-09-27T15:54:05.251288Z"
    },
    "papermill": {
     "duration": 3.028679,
     "end_time": "2024-09-27T15:54:05.255789",
     "exception": false,
     "start_time": "2024-09-27T15:54:02.227110",
     "status": "completed"
    },
    "scrolled": true,
    "tags": []
   },
   "outputs": [],
   "source": [
    "scene_id2info = dict()\n",
    "\n",
    "for data_part in sorted(os.listdir(scene_root)):\n",
    "    data_part_path = f'{scene_root}/{data_part}'\n",
    "    scene_id2info[data_part] = dict()\n",
    "    for video_path in sorted(os.listdir(data_part_path)):\n",
    "        video_id = video_path.split('.')[0]\n",
    "        video_path_full = f'{data_part_path}/{video_path}'\n",
    "        video_fps = fps_dict[f'{data_part}_{video_id}']\n",
    "        \n",
    "        with open(video_path_full, 'r') as f:\n",
    "            video_scene_info = json.load(f)\n",
    "            \n",
    "        with open(f'{metadata_root}/{data_part}_{video_id}.json', 'r', encoding=\"utf8\") as f:\n",
    "            video_metadata = json.load(f)\n",
    "        \n",
    "        scene_id2info[data_part][video_id] = {\n",
    "            'video_metadata': video_metadata,\n",
    "            'lst_shot': dict()\n",
    "        }\n",
    "        \n",
    "        for i, item in enumerate(video_scene_info):\n",
    "            scene_id2info[data_part][video_id]['lst_shot'][str(i)] = {\n",
    "                'shot_range': item,\n",
    "                'shot_time': [item[0]/video_fps, item[1]/video_fps],\n",
    "                'lst_keyframe_paths': [],\n",
    "                'lst_keyframe_idxs': []\n",
    "            }"
   ]
  },
  {
   "cell_type": "code",
   "execution_count": 6,
   "id": "7d0c33d6",
   "metadata": {
    "execution": {
     "iopub.execute_input": "2024-09-27T15:54:05.278093Z",
     "iopub.status.busy": "2024-09-27T15:54:05.277607Z",
     "iopub.status.idle": "2024-09-27T15:58:41.833544Z",
     "shell.execute_reply": "2024-09-27T15:58:41.831999Z"
    },
    "papermill": {
     "duration": 276.57079,
     "end_time": "2024-09-27T15:58:41.836849",
     "exception": false,
     "start_time": "2024-09-27T15:54:05.266059",
     "status": "completed"
    },
    "tags": []
   },
   "outputs": [],
   "source": [
    "global_index = 0\n",
    "id2img_fps = []\n",
    "\n",
    "for data_root in data_root_list:\n",
    "    for data_part in sorted(os.listdir(data_root)):\n",
    "        data_part_path = f'{data_root}/{data_part}'\n",
    "\n",
    "        for video_id in sorted(os.listdir(data_part_path)):\n",
    "            video_dir = f'{data_part_path}/{video_id}'\n",
    "\n",
    "            temp_data_part = data_part.replace('_extra', '') # replace L01_extra -> L01\n",
    "            with open(f'{scene_root}/{temp_data_part}/{video_id}.json', 'r') as f:\n",
    "                video_scene_info = json.load(f)\n",
    "\n",
    "            if 'extra' not in data_part:\n",
    "                mapper = pd.read_csv(f'{map_keyframes_root}/{data_part}_{video_id}.csv', index_col='n')\n",
    "\n",
    "            scene_track = 0\n",
    "            for image_path in sorted(os.listdir(video_dir)):\n",
    "                frame_idx = int(image_path.split('.')[0])\n",
    "\n",
    "                if 'extra' not in data_part:\n",
    "                    frame_idx = int(mapper.loc[frame_idx]['frame_idx'])\n",
    "\n",
    "                image_path = f'{video_dir}/{image_path}'.replace(f'{data_root}', '/data/Keyframes')\n",
    "    \n",
    "                while(len(video_scene_info) > 0 and frame_idx > video_scene_info[0][1]):\n",
    "                    video_scene_info.pop(0)\n",
    "                    scene_track += 1\n",
    "\n",
    "                if len(video_scene_info) == 0:\n",
    "                    continue\n",
    "\n",
    "                info = {\n",
    "                    \"image_path\": image_path,\n",
    "                    \"scene_idx\": f'{temp_data_part}/{video_id}/lst_shot/{str(scene_track)}'\n",
    "                }\n",
    "\n",
    "                scene_id2info[temp_data_part][video_id]['lst_shot'][str(scene_track)]['lst_keyframe_paths'].append(image_path)\n",
    "                scene_id2info[temp_data_part][video_id]['lst_shot'][str(scene_track)]['lst_keyframe_idxs'].append(global_index)\n",
    "\n",
    "                id2img_fps.append(info)\n",
    "\n",
    "                global_index += 1"
   ]
  },
  {
   "cell_type": "code",
   "execution_count": 7,
   "id": "3a90b2c0",
   "metadata": {
    "execution": {
     "iopub.execute_input": "2024-09-27T15:58:41.860549Z",
     "iopub.status.busy": "2024-09-27T15:58:41.860096Z",
     "iopub.status.idle": "2024-09-27T15:58:42.028054Z",
     "shell.execute_reply": "2024-09-27T15:58:42.026770Z"
    },
    "papermill": {
     "duration": 0.183194,
     "end_time": "2024-09-27T15:58:42.031153",
     "exception": false,
     "start_time": "2024-09-27T15:58:41.847959",
     "status": "completed"
    },
    "tags": []
   },
   "outputs": [],
   "source": [
    "id2img_fps = dict(enumerate(id2img_fps))"
   ]
  },
  {
   "cell_type": "code",
   "execution_count": 8,
   "id": "cb6ea742",
   "metadata": {
    "execution": {
     "iopub.execute_input": "2024-09-27T15:58:42.054530Z",
     "iopub.status.busy": "2024-09-27T15:58:42.054050Z",
     "iopub.status.idle": "2024-09-27T15:58:47.375208Z",
     "shell.execute_reply": "2024-09-27T15:58:47.373777Z"
    },
    "papermill": {
     "duration": 5.336408,
     "end_time": "2024-09-27T15:58:47.378487",
     "exception": false,
     "start_time": "2024-09-27T15:58:42.042079",
     "status": "completed"
    },
    "tags": []
   },
   "outputs": [
    {
     "name": "stdout",
     "output_type": "stream",
     "text": [
      "Saved /kaggle/working/dict\n",
      "Number of Index: 856121\n"
     ]
    }
   ],
   "source": [
    "with open(f'{des_path}/scene_id2info.json', 'w') as f:\n",
    "    f.write(json.dumps(scene_id2info))\n",
    "    \n",
    "with open(f'{des_path}/id2img_fps.json', 'w') as f:\n",
    "    f.write(json.dumps(id2img_fps))\n",
    "\n",
    "print(f'Saved {des_path}')\n",
    "print(f\"Number of Index: {len(id2img_fps)}\")"
   ]
  },
  {
   "cell_type": "code",
   "execution_count": 9,
   "id": "61ea23ea",
   "metadata": {
    "execution": {
     "iopub.execute_input": "2024-09-27T15:58:47.401700Z",
     "iopub.status.busy": "2024-09-27T15:58:47.401177Z",
     "iopub.status.idle": "2024-09-27T15:58:47.410336Z",
     "shell.execute_reply": "2024-09-27T15:58:47.408996Z"
    },
    "papermill": {
     "duration": 0.023354,
     "end_time": "2024-09-27T15:58:47.412901",
     "exception": false,
     "start_time": "2024-09-27T15:58:47.389547",
     "status": "completed"
    },
    "tags": []
   },
   "outputs": [
    {
     "data": {
      "text/plain": [
       "856121"
      ]
     },
     "execution_count": 9,
     "metadata": {},
     "output_type": "execute_result"
    }
   ],
   "source": [
    "global_index"
   ]
  },
  {
   "cell_type": "markdown",
   "id": "b5e96dab",
   "metadata": {
    "papermill": {
     "duration": 0.010221,
     "end_time": "2024-09-27T15:58:47.433682",
     "exception": false,
     "start_time": "2024-09-27T15:58:47.423461",
     "status": "completed"
    },
    "tags": []
   },
   "source": [
    "# Part 2"
   ]
  },
  {
   "cell_type": "code",
   "execution_count": 10,
   "id": "ecb531b8",
   "metadata": {
    "execution": {
     "iopub.execute_input": "2024-09-27T15:58:47.456438Z",
     "iopub.status.busy": "2024-09-27T15:58:47.456008Z",
     "iopub.status.idle": "2024-09-27T15:59:06.745804Z",
     "shell.execute_reply": "2024-09-27T15:59:06.743728Z"
    },
    "papermill": {
     "duration": 19.307413,
     "end_time": "2024-09-27T15:59:06.751483",
     "exception": false,
     "start_time": "2024-09-27T15:58:47.444070",
     "status": "completed"
    },
    "tags": []
   },
   "outputs": [],
   "source": [
    "map_keyframes_dict = dict()\n",
    "for video_path in sorted(os.listdir(map_keyframes_root)):\n",
    "    data_part, video_id = video_path.replace('.csv', '').split('_')\n",
    "    mapper = pd.read_csv(f'{map_keyframes_root}/{data_part}_{video_id}.csv', index_col='n')\n",
    "    \n",
    "    key = f'{data_part}_{video_id}'\n",
    "    map_keyframes_dict[key] = dict() \n",
    "    \n",
    "    for index in mapper.index.values:\n",
    "        map_keyframes_dict[key][int(index)] = int(mapper.loc[index]['frame_idx'])"
   ]
  },
  {
   "cell_type": "code",
   "execution_count": 11,
   "id": "d1202308",
   "metadata": {
    "execution": {
     "iopub.execute_input": "2024-09-27T15:59:06.779607Z",
     "iopub.status.busy": "2024-09-27T15:59:06.778454Z",
     "iopub.status.idle": "2024-09-27T15:59:06.915961Z",
     "shell.execute_reply": "2024-09-27T15:59:06.914907Z"
    },
    "papermill": {
     "duration": 0.153119,
     "end_time": "2024-09-27T15:59:06.918700",
     "exception": false,
     "start_time": "2024-09-27T15:59:06.765581",
     "status": "completed"
    },
    "tags": []
   },
   "outputs": [],
   "source": [
    "with open(f'{des_path}/map_keyframes.json', 'w') as f:\n",
    "    f.write(json.dumps(map_keyframes_dict))"
   ]
  },
  {
   "cell_type": "markdown",
   "id": "23f1422c",
   "metadata": {
    "papermill": {
     "duration": 0.010394,
     "end_time": "2024-09-27T15:59:06.939645",
     "exception": false,
     "start_time": "2024-09-27T15:59:06.929251",
     "status": "completed"
    },
    "tags": []
   },
   "source": [
    "# Part 3"
   ]
  },
  {
   "cell_type": "code",
   "execution_count": 12,
   "id": "d61330aa",
   "metadata": {
    "execution": {
     "iopub.execute_input": "2024-09-27T15:59:06.963564Z",
     "iopub.status.busy": "2024-09-27T15:59:06.963096Z",
     "iopub.status.idle": "2024-09-27T15:59:09.496946Z",
     "shell.execute_reply": "2024-09-27T15:59:09.495764Z"
    },
    "papermill": {
     "duration": 2.549125,
     "end_time": "2024-09-27T15:59:09.499829",
     "exception": false,
     "start_time": "2024-09-27T15:59:06.950704",
     "status": "completed"
    },
    "tags": []
   },
   "outputs": [],
   "source": [
    "with open(f'{des_path}/scene_id2info.json', 'r') as f:\n",
    "    SceneID2Info = json.load(f)"
   ]
  },
  {
   "cell_type": "code",
   "execution_count": 13,
   "id": "f415f4c9",
   "metadata": {
    "execution": {
     "iopub.execute_input": "2024-09-27T15:59:09.523739Z",
     "iopub.status.busy": "2024-09-27T15:59:09.522626Z",
     "iopub.status.idle": "2024-09-27T15:59:11.245419Z",
     "shell.execute_reply": "2024-09-27T15:59:11.244262Z"
    },
    "papermill": {
     "duration": 1.738228,
     "end_time": "2024-09-27T15:59:11.248791",
     "exception": false,
     "start_time": "2024-09-27T15:59:09.510563",
     "status": "completed"
    },
    "tags": []
   },
   "outputs": [],
   "source": [
    "audios_detection_dir = f'/kaggle/input/dict-v2/dict/audio_detection'\n",
    "\n",
    "check_error = 0\n",
    "audio_id2img_fps = []\n",
    "for data_part in sorted(os.listdir(audios_detection_dir)):\n",
    "    for audio_detection_path in sorted(os.listdir(f'{audios_detection_dir}/{data_part}')):\n",
    "        audio_id = audio_detection_path.replace('.json', '')\n",
    "        scene_info = SceneID2Info[data_part][audio_id]['lst_shot']\n",
    "        \n",
    "        with open(f'{audios_detection_dir}/{data_part}/{audio_detection_path}', 'r') as f:\n",
    "            audio_shots = json.load(f)\n",
    "            \n",
    "        i = 0\n",
    "        scene_info_len = len(scene_info)\n",
    "        for audio_interval in audio_shots:\n",
    "            result = []\n",
    "            start, end = audio_interval\n",
    "                \n",
    "            while True:\n",
    "                if i >= scene_info_len:\n",
    "                    break\n",
    "                \n",
    "                shot_interval = scene_info[str(i)]['shot_time']\n",
    "                if end <= shot_interval[0]:\n",
    "                    break\n",
    "                if(start >= shot_interval[1]):\n",
    "                    i += 1\n",
    "                    continue\n",
    "                    \n",
    "                result.extend(scene_info[str(i)]['lst_keyframe_idxs'].copy()) \n",
    "                if end > shot_interval[1]:\n",
    "                    i += 1\n",
    "                    start = shot_interval[1]\n",
    "                else:\n",
    "                    break\n",
    "                    \n",
    "            audio_id2img_fps.append(result)\n",
    "            \n",
    "            \n",
    "            check_error += 1"
   ]
  },
  {
   "cell_type": "code",
   "execution_count": 14,
   "id": "aef992e3",
   "metadata": {
    "execution": {
     "iopub.execute_input": "2024-09-27T15:59:11.273774Z",
     "iopub.status.busy": "2024-09-27T15:59:11.273297Z",
     "iopub.status.idle": "2024-09-27T15:59:11.289963Z",
     "shell.execute_reply": "2024-09-27T15:59:11.288743Z"
    },
    "papermill": {
     "duration": 0.031715,
     "end_time": "2024-09-27T15:59:11.292994",
     "exception": false,
     "start_time": "2024-09-27T15:59:11.261279",
     "status": "completed"
    },
    "tags": []
   },
   "outputs": [
    {
     "name": "stdout",
     "output_type": "stream",
     "text": [
      "Successfully\n"
     ]
    }
   ],
   "source": [
    "if len(audio_id2img_fps) != check_error:\n",
    "    print(\"Some thing not good!!\")\n",
    "else:\n",
    "    print(\"Successfully\")\n",
    "    \n",
    "audio_id2img_fps = dict(enumerate(audio_id2img_fps))"
   ]
  },
  {
   "cell_type": "code",
   "execution_count": 15,
   "id": "4d96adc3",
   "metadata": {
    "execution": {
     "iopub.execute_input": "2024-09-27T15:59:11.315610Z",
     "iopub.status.busy": "2024-09-27T15:59:11.315178Z",
     "iopub.status.idle": "2024-09-27T15:59:11.606074Z",
     "shell.execute_reply": "2024-09-27T15:59:11.604915Z"
    },
    "papermill": {
     "duration": 0.305392,
     "end_time": "2024-09-27T15:59:11.608828",
     "exception": false,
     "start_time": "2024-09-27T15:59:11.303436",
     "status": "completed"
    },
    "tags": []
   },
   "outputs": [],
   "source": [
    "with open(f'{des_path}/audio_id2img_id.json', 'w') as f:\n",
    "    f.write(json.dumps(audio_id2img_fps))"
   ]
  },
  {
   "cell_type": "markdown",
   "id": "ee635625",
   "metadata": {
    "papermill": {
     "duration": 0.010062,
     "end_time": "2024-09-27T15:59:11.629845",
     "exception": false,
     "start_time": "2024-09-27T15:59:11.619783",
     "status": "completed"
    },
    "tags": []
   },
   "source": [
    "# Part 5"
   ]
  },
  {
   "cell_type": "code",
   "execution_count": 16,
   "id": "5bbcf87d",
   "metadata": {
    "execution": {
     "iopub.execute_input": "2024-09-27T15:59:11.653030Z",
     "iopub.status.busy": "2024-09-27T15:59:11.652579Z",
     "iopub.status.idle": "2024-09-27T15:59:14.443462Z",
     "shell.execute_reply": "2024-09-27T15:59:14.442310Z"
    },
    "papermill": {
     "duration": 2.805663,
     "end_time": "2024-09-27T15:59:14.446245",
     "exception": false,
     "start_time": "2024-09-27T15:59:11.640582",
     "status": "completed"
    },
    "tags": []
   },
   "outputs": [],
   "source": [
    "with open(f'{des_path}/scene_id2info.json', 'r') as f:\n",
    "    SceneID2Info = json.load(f)"
   ]
  },
  {
   "cell_type": "code",
   "execution_count": 17,
   "id": "07d08fd4",
   "metadata": {
    "execution": {
     "iopub.execute_input": "2024-09-27T15:59:14.469246Z",
     "iopub.status.busy": "2024-09-27T15:59:14.468774Z",
     "iopub.status.idle": "2024-09-27T15:59:14.474372Z",
     "shell.execute_reply": "2024-09-27T15:59:14.473058Z"
    },
    "papermill": {
     "duration": 0.0202,
     "end_time": "2024-09-27T15:59:14.477081",
     "exception": false,
     "start_time": "2024-09-27T15:59:14.456881",
     "status": "completed"
    },
    "tags": []
   },
   "outputs": [],
   "source": [
    "video_id2img_id = dict()"
   ]
  },
  {
   "cell_type": "code",
   "execution_count": 18,
   "id": "4dfb5e0e",
   "metadata": {
    "execution": {
     "iopub.execute_input": "2024-09-27T15:59:14.500205Z",
     "iopub.status.busy": "2024-09-27T15:59:14.499425Z",
     "iopub.status.idle": "2024-09-27T15:59:14.619653Z",
     "shell.execute_reply": "2024-09-27T15:59:14.618464Z"
    },
    "papermill": {
     "duration": 0.135111,
     "end_time": "2024-09-27T15:59:14.622892",
     "exception": false,
     "start_time": "2024-09-27T15:59:14.487781",
     "status": "completed"
    },
    "tags": []
   },
   "outputs": [],
   "source": [
    "for data_part in SceneID2Info.keys():\n",
    "    for video_id in SceneID2Info[data_part].keys():\n",
    "        sample_key = f'{data_part}_{video_id}'\n",
    "        video_id2img_id[sample_key] = []\n",
    "        for key, value in SceneID2Info[data_part][video_id]['lst_shot'].items():\n",
    "            video_id2img_id[sample_key].extend(value['lst_keyframe_idxs'])"
   ]
  },
  {
   "cell_type": "code",
   "execution_count": 19,
   "id": "1ea4adc1",
   "metadata": {
    "execution": {
     "iopub.execute_input": "2024-09-27T15:59:14.646343Z",
     "iopub.status.busy": "2024-09-27T15:59:14.645601Z",
     "iopub.status.idle": "2024-09-27T15:59:14.830589Z",
     "shell.execute_reply": "2024-09-27T15:59:14.829043Z"
    },
    "papermill": {
     "duration": 0.199883,
     "end_time": "2024-09-27T15:59:14.833344",
     "exception": false,
     "start_time": "2024-09-27T15:59:14.633461",
     "status": "completed"
    },
    "tags": []
   },
   "outputs": [],
   "source": [
    "with open(f'{des_path}/video_id2img_id.json', 'w') as f:\n",
    "    f.write(json.dumps(video_id2img_id))"
   ]
  },
  {
   "cell_type": "markdown",
   "id": "8ea3ac71",
   "metadata": {
    "papermill": {
     "duration": 0.010116,
     "end_time": "2024-09-27T15:59:14.853985",
     "exception": false,
     "start_time": "2024-09-27T15:59:14.843869",
     "status": "completed"
    },
    "tags": []
   },
   "source": [
    "# Part 6"
   ]
  },
  {
   "cell_type": "code",
   "execution_count": 20,
   "id": "3f5f188f",
   "metadata": {
    "execution": {
     "iopub.execute_input": "2024-09-27T15:59:14.877157Z",
     "iopub.status.busy": "2024-09-27T15:59:14.876736Z",
     "iopub.status.idle": "2024-09-27T15:59:16.798703Z",
     "shell.execute_reply": "2024-09-27T15:59:16.797429Z"
    },
    "papermill": {
     "duration": 1.936913,
     "end_time": "2024-09-27T15:59:16.801748",
     "exception": false,
     "start_time": "2024-09-27T15:59:14.864835",
     "status": "completed"
    },
    "tags": []
   },
   "outputs": [],
   "source": [
    "with open(f'{des_path}/scene_id2info.json', 'r') as f:\n",
    "    SceneID2Info = json.load(f)"
   ]
  },
  {
   "cell_type": "code",
   "execution_count": 21,
   "id": "b5bf5641",
   "metadata": {
    "execution": {
     "iopub.execute_input": "2024-09-27T15:59:16.824785Z",
     "iopub.status.busy": "2024-09-27T15:59:16.824312Z",
     "iopub.status.idle": "2024-09-27T15:59:16.837393Z",
     "shell.execute_reply": "2024-09-27T15:59:16.836217Z"
    },
    "papermill": {
     "duration": 0.027981,
     "end_time": "2024-09-27T15:59:16.840291",
     "exception": false,
     "start_time": "2024-09-27T15:59:16.812310",
     "status": "completed"
    },
    "tags": []
   },
   "outputs": [],
   "source": [
    "import numpy as np\n",
    "from tqdm import tqdm"
   ]
  },
  {
   "cell_type": "code",
   "execution_count": 22,
   "id": "25273fa8",
   "metadata": {
    "execution": {
     "iopub.execute_input": "2024-09-27T15:59:16.863279Z",
     "iopub.status.busy": "2024-09-27T15:59:16.862799Z",
     "iopub.status.idle": "2024-09-27T15:59:16.869585Z",
     "shell.execute_reply": "2024-09-27T15:59:16.868178Z"
    },
    "papermill": {
     "duration": 0.021599,
     "end_time": "2024-09-27T15:59:16.872531",
     "exception": false,
     "start_time": "2024-09-27T15:59:16.850932",
     "status": "completed"
    },
    "tags": []
   },
   "outputs": [],
   "source": [
    "def find_nearest(array, value):     \n",
    "    array = np.asarray(array)\n",
    "    idx = sorted((np.abs(array - value)).argsort()[:2].tolist())\n",
    "    return idx"
   ]
  },
  {
   "cell_type": "code",
   "execution_count": 23,
   "id": "5fe11836",
   "metadata": {
    "execution": {
     "iopub.execute_input": "2024-09-27T15:59:16.895653Z",
     "iopub.status.busy": "2024-09-27T15:59:16.895160Z",
     "iopub.status.idle": "2024-09-27T15:59:22.103727Z",
     "shell.execute_reply": "2024-09-27T15:59:22.102243Z"
    },
    "papermill": {
     "duration": 5.224451,
     "end_time": "2024-09-27T15:59:22.107542",
     "exception": false,
     "start_time": "2024-09-27T15:59:16.883091",
     "status": "completed"
    },
    "tags": []
   },
   "outputs": [
    {
     "name": "stderr",
     "output_type": "stream",
     "text": [
      "100%|██████████| 24/24 [00:05<00:00,  4.63it/s]\n"
     ]
    }
   ],
   "source": [
    "audios_detection_dir = f'/kaggle/input/dict-v2/dict/audio_detection'\n",
    "\n",
    "audio_global_id = 0\n",
    "img_id2audio_id = dict()\n",
    "for data_part in tqdm(sorted(os.listdir(audios_detection_dir))):\n",
    "    for audio_detection_path in sorted(os.listdir(f'{audios_detection_dir}/{data_part}')):\n",
    "        audio_id = audio_detection_path.replace('.json', '')\n",
    "        scene_info = SceneID2Info[data_part][audio_id]['lst_shot']\n",
    "        \n",
    "        with open(f'{audios_detection_dir}/{data_part}/{audio_detection_path}', 'r') as f:\n",
    "            audio_shots = json.load(f)\n",
    "        \n",
    "        audio_pivot_shots = []\n",
    "        for audio_shot in audio_shots:\n",
    "            start, end = audio_shot\n",
    "            audio_pivot_shots.append((start+end)/2)\n",
    "        \n",
    "        for shot in scene_info.values():\n",
    "            shot_center = (shot['shot_time'][0] + shot['shot_time'][1])/2\n",
    "            shot_frame_idxs = shot['lst_keyframe_idxs']\n",
    "            nearest_audio = [audio_global_id + val for val in find_nearest(audio_pivot_shots, shot_center)]\n",
    "            \n",
    "            for shot_frame_idx in shot_frame_idxs:\n",
    "                img_id2audio_id[shot_frame_idx] = nearest_audio\n",
    "            \n",
    "        audio_global_id += len(audio_shots)"
   ]
  },
  {
   "cell_type": "code",
   "execution_count": 24,
   "id": "18c72179",
   "metadata": {
    "execution": {
     "iopub.execute_input": "2024-09-27T15:59:22.135712Z",
     "iopub.status.busy": "2024-09-27T15:59:22.135212Z",
     "iopub.status.idle": "2024-09-27T15:59:24.450234Z",
     "shell.execute_reply": "2024-09-27T15:59:24.449101Z"
    },
    "papermill": {
     "duration": 2.332273,
     "end_time": "2024-09-27T15:59:24.453064",
     "exception": false,
     "start_time": "2024-09-27T15:59:22.120791",
     "status": "completed"
    },
    "tags": []
   },
   "outputs": [],
   "source": [
    "with open(f'{des_path}/img_id2audio_id.json', 'w') as f:\n",
    "    f.write(json.dumps(img_id2audio_id))"
   ]
  },
  {
   "cell_type": "code",
   "execution_count": null,
   "id": "01c3c3a7",
   "metadata": {
    "papermill": {
     "duration": 0.012683,
     "end_time": "2024-09-27T15:59:24.478718",
     "exception": false,
     "start_time": "2024-09-27T15:59:24.466035",
     "status": "completed"
    },
    "tags": []
   },
   "outputs": [],
   "source": []
  }
 ],
 "metadata": {
  "kaggle": {
   "accelerator": "none",
   "dataSources": [
    {
     "datasetId": 5726679,
     "sourceId": 9427072,
     "sourceType": "datasetVersion"
    },
    {
     "datasetId": 5725479,
     "sourceId": 9425490,
     "sourceType": "datasetVersion"
    },
    {
     "datasetId": 5726689,
     "sourceId": 9427085,
     "sourceType": "datasetVersion"
    },
    {
     "datasetId": 5726686,
     "sourceId": 9427081,
     "sourceType": "datasetVersion"
    },
    {
     "datasetId": 5726681,
     "sourceId": 9427076,
     "sourceType": "datasetVersion"
    },
    {
     "datasetId": 5726674,
     "sourceId": 9427066,
     "sourceType": "datasetVersion"
    },
    {
     "datasetId": 5743477,
     "isSourceIdPinned": true,
     "sourceId": 9449688,
     "sourceType": "datasetVersion"
    },
    {
     "datasetId": 5633382,
     "sourceId": 9303351,
     "sourceType": "datasetVersion"
    },
    {
     "datasetId": 5633380,
     "sourceId": 9303349,
     "sourceType": "datasetVersion"
    },
    {
     "datasetId": 5633513,
     "sourceId": 9303526,
     "sourceType": "datasetVersion"
    },
    {
     "datasetId": 5634333,
     "sourceId": 9304784,
     "sourceType": "datasetVersion"
    },
    {
     "datasetId": 5634331,
     "sourceId": 9304782,
     "sourceType": "datasetVersion"
    },
    {
     "datasetId": 5633381,
     "sourceId": 9303350,
     "sourceType": "datasetVersion"
    }
   ],
   "dockerImageVersionId": 30761,
   "isGpuEnabled": false,
   "isInternetEnabled": true,
   "language": "python",
   "sourceType": "notebook"
  },
  "kernelspec": {
   "display_name": "Python 3",
   "language": "python",
   "name": "python3"
  },
  "language_info": {
   "codemirror_mode": {
    "name": "ipython",
    "version": 3
   },
   "file_extension": ".py",
   "mimetype": "text/x-python",
   "name": "python",
   "nbconvert_exporter": "python",
   "pygments_lexer": "ipython3",
   "version": "3.10.14"
  },
  "papermill": {
   "default_parameters": {},
   "duration": 378.525586,
   "end_time": "2024-09-27T15:59:26.019603",
   "environment_variables": {},
   "exception": null,
   "input_path": "__notebook__.ipynb",
   "output_path": "__notebook__.ipynb",
   "parameters": {},
   "start_time": "2024-09-27T15:53:07.494017",
   "version": "2.6.0"
  }
 },
 "nbformat": 4,
 "nbformat_minor": 5
}
